{
  "nbformat": 4,
  "nbformat_minor": 0,
  "metadata": {
    "colab": {
      "name": "practice upto operators :13/10/2021.ipynb",
      "provenance": [],
      "collapsed_sections": [],
      "authorship_tag": "ABX9TyM1b2Z+nZg2cViucJQyaZQ/",
      "include_colab_link": true
    },
    "kernelspec": {
      "name": "python3",
      "display_name": "Python 3"
    },
    "language_info": {
      "name": "python"
    }
  },
  "cells": [
    {
      "cell_type": "markdown",
      "metadata": {
        "id": "view-in-github",
        "colab_type": "text"
      },
      "source": [
        "<a href=\"https://colab.research.google.com/github/gugulothraju/gugulothraju/blob/main/practice_upto_operators_13_10_2021.ipynb\" target=\"_parent\"><img src=\"https://colab.research.google.com/assets/colab-badge.svg\" alt=\"Open In Colab\"/></a>"
      ]
    },
    {
      "cell_type": "markdown",
      "metadata": {
        "id": "xVYgzKICb4Aw"
      },
      "source": [
        "python variables, id, types"
      ]
    },
    {
      "cell_type": "code",
      "metadata": {
        "colab": {
          "base_uri": "https://localhost:8080/",
          "height": 0
        },
        "id": "JZKCAfJiLQ2q",
        "outputId": "8e19c26c-944f-45f0-e83f-24d8d47bef0f"
      },
      "source": [
        "a='python'\n",
        "print(a)"
      ],
      "execution_count": 1,
      "outputs": [
        {
          "output_type": "stream",
          "name": "stdout",
          "text": [
            "python\n"
          ]
        }
      ]
    },
    {
      "cell_type": "code",
      "metadata": {
        "colab": {
          "base_uri": "https://localhost:8080/",
          "height": 0
        },
        "id": "Ox9NpVlkLgWz",
        "outputId": "3c61540c-cd33-4398-9cf8-de4dad2abc4d"
      },
      "source": [
        "print(a,id(a), type(a),  sep='====>\\n')"
      ],
      "execution_count": 6,
      "outputs": [
        {
          "output_type": "stream",
          "name": "stdout",
          "text": [
            "python====>\n",
            "139994342443056====>\n",
            "<class 'str'>\n"
          ]
        }
      ]
    },
    {
      "cell_type": "code",
      "metadata": {
        "colab": {
          "base_uri": "https://localhost:8080/",
          "height": 0
        },
        "id": "I4EBPZVYLseH",
        "outputId": "fa459cbc-7d2e-408a-cea5-815fa331be38"
      },
      "source": [
        "a='django'\n",
        "b=a\n",
        "print(a, id(a), type(a))\n",
        "print(b, id(b), type(b))"
      ],
      "execution_count": 9,
      "outputs": [
        {
          "output_type": "stream",
          "name": "stdout",
          "text": [
            "django 139994314620144 <class 'str'>\n",
            "django 139994314620144 <class 'str'>\n"
          ]
        }
      ]
    },
    {
      "cell_type": "code",
      "metadata": {
        "colab": {
          "base_uri": "https://localhost:8080/",
          "height": 0
        },
        "id": "IE-buqvIMF71",
        "outputId": "bd760076-176e-4d00-86eb-4ce431d17526"
      },
      "source": [
        "a=15\n",
        "print(a, id(a), type(a))"
      ],
      "execution_count": 10,
      "outputs": [
        {
          "output_type": "stream",
          "name": "stdout",
          "text": [
            "15 94236124928960 <class 'int'>\n"
          ]
        }
      ]
    },
    {
      "cell_type": "code",
      "metadata": {
        "colab": {
          "base_uri": "https://localhost:8080/",
          "height": 0
        },
        "id": "GaEiVFsyO6N2",
        "outputId": "7a3c5076-e835-4707-838a-fd484e29f446"
      },
      "source": [
        "a=10.5\n",
        "print(a, id(a), type(a))"
      ],
      "execution_count": 12,
      "outputs": [
        {
          "output_type": "stream",
          "name": "stdout",
          "text": [
            "10.5 139993641703856 <class 'float'>\n"
          ]
        }
      ]
    },
    {
      "cell_type": "markdown",
      "metadata": {
        "id": "dXC9ryqqcBF2"
      },
      "source": [
        "slicing left to right, right to left (reverse order"
      ]
    },
    {
      "cell_type": "code",
      "metadata": {
        "colab": {
          "base_uri": "https://localhost:8080/",
          "height": 0
        },
        "id": "iQ6xucEHPCk9",
        "outputId": "7f937de8-8a60-47e1-d071-543be4f35485"
      },
      "source": [
        "a='laxman'\n",
        "print(a[::])\n",
        "print(a[0:])\n",
        "print(a[:6])\n",
        "print(a[0::1])\n",
        "print(a[-6::])\n",
        "print(a[-6::1])\n",
        "print(a[-1:-1:-1])\n"
      ],
      "execution_count": 27,
      "outputs": [
        {
          "output_type": "stream",
          "name": "stdout",
          "text": [
            "laxman\n",
            "laxman\n",
            "laxman\n",
            "laxman\n",
            "laxman\n",
            "laxman\n",
            "\n"
          ]
        }
      ]
    },
    {
      "cell_type": "code",
      "metadata": {
        "colab": {
          "base_uri": "https://localhost:8080/",
          "height": 0
        },
        "id": "049-_s5cQmrn",
        "outputId": "c08b18a7-668e-489b-b859-251fdbaeda58"
      },
      "source": [
        "print(a[:len(a)])\n",
        "print(a[0:len(a)])\n",
        "print(a[:len(a):1])\n"
      ],
      "execution_count": 50,
      "outputs": [
        {
          "output_type": "stream",
          "name": "stdout",
          "text": [
            "laxman\n",
            "laxman\n",
            "laxman\n"
          ]
        }
      ]
    },
    {
      "cell_type": "code",
      "metadata": {
        "colab": {
          "base_uri": "https://localhost:8080/",
          "height": 0
        },
        "id": "BFyLUFquUVvP",
        "outputId": "d958f0c5-e0b3-430a-b60e-fc82f7b0321b"
      },
      "source": [
        "print(a[::-1])\n",
        "print(a[-1::-1])\n",
        "print(a[-1:-7:-1])\n",
        "print(a[-1:-len(a)-1:-1])\n",
        "print(a[-1::-1])\n",
        "print(a[:-len(a)-1:-1])"
      ],
      "execution_count": 57,
      "outputs": [
        {
          "output_type": "stream",
          "name": "stdout",
          "text": [
            "namxal\n",
            "namxal\n",
            "namxal\n",
            "namxal\n",
            "namxal\n",
            "namxal\n"
          ]
        }
      ]
    },
    {
      "cell_type": "markdown",
      "metadata": {
        "id": "ou3JAsh5cQbU"
      },
      "source": [
        "sclicing step size"
      ]
    },
    {
      "cell_type": "code",
      "metadata": {
        "colab": {
          "base_uri": "https://localhost:8080/",
          "height": 0
        },
        "id": "IC30O292Td6w",
        "outputId": "7cf17c90-a68d-4304-80f5-899d293223e2"
      },
      "source": [
        "print(a[0:3:2]+a[3].upper())\n"
      ],
      "execution_count": 36,
      "outputs": [
        {
          "output_type": "stream",
          "name": "stdout",
          "text": [
            "lxM\n"
          ]
        }
      ]
    },
    {
      "cell_type": "code",
      "metadata": {
        "colab": {
          "base_uri": "https://localhost:8080/",
          "height": 0
        },
        "id": "EOs4OiCTUBeH",
        "outputId": "4e885a39-c98c-4275-ca17-1ae9538f2e13"
      },
      "source": [
        "s='python'\n",
        "print(s[-3:-6:-1])\n"
      ],
      "execution_count": 61,
      "outputs": [
        {
          "output_type": "stream",
          "name": "stdout",
          "text": [
            "hty\n"
          ]
        }
      ]
    },
    {
      "cell_type": "code",
      "metadata": {
        "colab": {
          "base_uri": "https://localhost:8080/",
          "height": 0
        },
        "id": "Q1di8IabVpCY",
        "outputId": "179344fa-04db-4fab-b391-ea937db440e9"
      },
      "source": [
        "print(a[0::2].upper())"
      ],
      "execution_count": 63,
      "outputs": [
        {
          "output_type": "stream",
          "name": "stdout",
          "text": [
            "LXA\n"
          ]
        }
      ]
    },
    {
      "cell_type": "code",
      "metadata": {
        "colab": {
          "base_uri": "https://localhost:8080/",
          "height": 0
        },
        "id": "htptK5VOaQvA",
        "outputId": "323091c7-86f2-42cc-9c04-93b0bdbf090f"
      },
      "source": [
        "print(a[len(a)//2].upper()+a[len(a)//2])"
      ],
      "execution_count": 65,
      "outputs": [
        {
          "output_type": "stream",
          "name": "stdout",
          "text": [
            "Mm\n"
          ]
        }
      ]
    },
    {
      "cell_type": "code",
      "metadata": {
        "colab": {
          "base_uri": "https://localhost:8080/",
          "height": 0
        },
        "id": "CXPkDEnmalqH",
        "outputId": "4d07a1b9-6003-4e56-f380-796fa09b1ea7"
      },
      "source": [
        "print(a[0].upper(),a[1],a[2].upper(),a[3],a[4],a[5].upper(), sep='')"
      ],
      "execution_count": 71,
      "outputs": [
        {
          "output_type": "stream",
          "name": "stdout",
          "text": [
            "LaXmaN\n"
          ]
        }
      ]
    },
    {
      "cell_type": "markdown",
      "metadata": {
        "id": "7QZ2OGTwcWCE"
      },
      "source": [
        "string function"
      ]
    },
    {
      "cell_type": "code",
      "metadata": {
        "colab": {
          "base_uri": "https://localhost:8080/",
          "height": 0
        },
        "id": "P4kQEMYha9r8",
        "outputId": "3d1959a3-c3fe-45ea-b284-b275a1b28f0d"
      },
      "source": [
        "a='python'\n",
        "d='DJANGO'\n",
        "b=20\n",
        "c=3\n",
        "e='+'\n",
        "f='laxman Lucky'\n",
        "print(a.upper())\n",
        "print(a.lower())\n",
        "print(a.title())\n",
        "print(a.capitalize())\n",
        "print(a.isupper())\n",
        "print(a.islower())\n",
        "print(a.isalpha())\n",
        "print(a.isalnum())\n",
        "print(a.isdigit())\n",
        "print(a.count('y'))\n",
        "print(f.capitalize())\n",
        "print(f.title())\n",
        "print()\n",
        "print(d.lower())\n",
        "print(d.title())\n",
        "print(d.capitalize())\n",
        "print(d.isupper())\n",
        "print(d.islower())\n",
        "print(d.isalpha())\n",
        "print(d.isalnum())\n",
        "print(d.isdigit())\n",
        "print()\n",
        "print(a.count('t'))\n",
        "print(d.count('N'))\n",
        "print(d.count('G'))\n",
        "print()\n",
        "print(a.index('h',2))\n",
        "print(a.index('n'))\n",
        "print(d.index('J'))\n",
        "print(d.index('O',2))\n",
        "print()\n",
        "print(a.find('y',6))\n",
        "print(a.find('t',0))\n",
        "print(a.find('p'))\n",
        "print(a.find('n',3))\n",
        "print(d.find('O',0))\n",
        "print()\n",
        "print(a.center(20,'*'))\n",
        "print(a.center(25,'*'))\n",
        "print(a.center(len(a)*5,'*'))\n",
        "print(d.center(25,'*'))\n",
        "print(d.center(20,'*'))\n",
        "print(d.center(len(d)*5,'*'))\n",
        "print()\n",
        "print(a.split()+d.split())\n",
        "print(a.split('y'))\n",
        "print(a.split('t'))\n",
        "print(a.split('h'))\n",
        "print(a.split('n'))\n",
        "print(d.split('J'))\n",
        "print()\n",
        "s='++'\n",
        "s1='@@##**'\n",
        "print(a.join(d))\n",
        "print(a.join(e))\n",
        "print(e.join(a))\n",
        "print(s1.join(a))\n",
        "print(s1.join(d))\n",
        "print()\n",
        "a1='   rahul'\n",
        "a2='   nayak   '\n",
        "print(a1.strip())\n",
        "print(a1.lstrip())\n",
        "print(a1.strip('h'))\n",
        "print()\n",
        "print(a2.rstrip())\n",
        "print(a2.strip())\n",
        "print(a2.strip())\n",
        "\n",
        "print()\n",
        "print(a[:len(a)//2].upper()+a[len(a)//2:])"
      ],
      "execution_count": 273,
      "outputs": [
        {
          "output_type": "stream",
          "name": "stdout",
          "text": [
            "PYTHON\n",
            "python\n",
            "Python\n",
            "Python\n",
            "False\n",
            "True\n",
            "True\n",
            "True\n",
            "False\n",
            "1\n",
            "Laxman lucky\n",
            "Laxman Lucky\n",
            "\n",
            "django\n",
            "Django\n",
            "Django\n",
            "True\n",
            "False\n",
            "True\n",
            "True\n",
            "False\n",
            "\n",
            "1\n",
            "1\n",
            "1\n",
            "\n",
            "3\n",
            "5\n",
            "1\n",
            "5\n",
            "\n",
            "-1\n",
            "2\n",
            "0\n",
            "5\n",
            "5\n",
            "\n",
            "*******python*******\n",
            "**********python*********\n",
            "************python************\n",
            "**********DJANGO*********\n",
            "*******DJANGO*******\n",
            "************DJANGO************\n",
            "\n",
            "['python', 'DJANGO']\n",
            "['p', 'thon']\n",
            "['py', 'hon']\n",
            "['pyt', 'on']\n",
            "['pytho', '']\n",
            "['D', 'ANGO']\n",
            "\n",
            "DpythonJpythonApythonNpythonGpythonO\n",
            "+\n",
            "p+y+t+h+o+n\n",
            "p@@##**y@@##**t@@##**h@@##**o@@##**n\n",
            "D@@##**J@@##**A@@##**N@@##**G@@##**O\n",
            "\n",
            "rahul\n",
            "rahul\n",
            "   rahul\n",
            "\n",
            "   nayak\n",
            "nayak\n",
            "nayak\n",
            "\n",
            "PYThon\n"
          ]
        }
      ]
    },
    {
      "cell_type": "code",
      "metadata": {
        "colab": {
          "base_uri": "https://localhost:8080/",
          "height": 0
        },
        "id": "9okILjtlCScG",
        "outputId": "926b7f42-e673-421f-beb6-f7a1bd4e1e3d"
      },
      "source": [
        "a='122abcdgggood morningzxd'\n",
        "print(a.rstrip('zxd'))"
      ],
      "execution_count": 284,
      "outputs": [
        {
          "output_type": "stream",
          "name": "stdout",
          "text": [
            "122abcdgggood morning\n"
          ]
        }
      ]
    },
    {
      "cell_type": "code",
      "metadata": {
        "colab": {
          "base_uri": "https://localhost:8080/",
          "height": 0
        },
        "id": "6R3nZIBHGbRZ",
        "outputId": "092096c5-2f24-4322-9327-7aa51a44591a"
      },
      "source": [
        "print(a.strip('122abcdzxd'))"
      ],
      "execution_count": 285,
      "outputs": [
        {
          "output_type": "stream",
          "name": "stdout",
          "text": [
            "gggood morning\n"
          ]
        }
      ]
    },
    {
      "cell_type": "code",
      "metadata": {
        "colab": {
          "base_uri": "https://localhost:8080/",
          "height": 0
        },
        "id": "BGsRyq9cF8t0",
        "outputId": "0e10beea-232a-471d-ba9f-85e529fc4b34"
      },
      "source": [
        "print(a.lstrip(\"123a\"))"
      ],
      "execution_count": 282,
      "outputs": [
        {
          "output_type": "stream",
          "name": "stdout",
          "text": [
            "bcdgggood morning\n"
          ]
        }
      ]
    },
    {
      "cell_type": "code",
      "metadata": {
        "colab": {
          "base_uri": "https://localhost:8080/",
          "height": 0
        },
        "id": "GP-tWSsxGDZU",
        "outputId": "3218ee51-aa96-4083-8ec1-5d3368fafd8e"
      },
      "source": [
        "print(a.strip('122abcd'))"
      ],
      "execution_count": 283,
      "outputs": [
        {
          "output_type": "stream",
          "name": "stdout",
          "text": [
            "gggood morning\n"
          ]
        }
      ]
    },
    {
      "cell_type": "code",
      "metadata": {
        "colab": {
          "base_uri": "https://localhost:8080/",
          "height": 0
        },
        "id": "9MT8j5XVE-Bh",
        "outputId": "7522d2c5-e128-41b6-bbe4-02d205d8cde0"
      },
      "source": [
        "print(a.strip('g!'))"
      ],
      "execution_count": 277,
      "outputs": [
        {
          "output_type": "stream",
          "name": "stdout",
          "text": [
            "ood mornin\n"
          ]
        }
      ]
    },
    {
      "cell_type": "code",
      "metadata": {
        "colab": {
          "base_uri": "https://localhost:8080/",
          "height": 0
        },
        "id": "jkeObobjFm51",
        "outputId": "cdf30be8-e956-4b50-c475-30c6c718f379"
      },
      "source": [
        "print(a.lstrip('g'))"
      ],
      "execution_count": 279,
      "outputs": [
        {
          "output_type": "stream",
          "name": "stdout",
          "text": [
            "ood morning\n"
          ]
        }
      ]
    },
    {
      "cell_type": "code",
      "metadata": {
        "colab": {
          "base_uri": "https://localhost:8080/",
          "height": 0
        },
        "id": "zuTwVsj7Lcps",
        "outputId": "527dfb25-a818-4bc4-cf38-da1b2e498e9d"
      },
      "source": [
        "s='python'\n",
        "print(s.replace('python','django'))\n",
        "print(s.replace('p', 'r'))\n",
        "print(s.replace('python', 'raju nayak'))\n",
        "print(s.replace('p', 'q'))\n",
        "print(s.replace('py','PY'))\n",
        "print()\n",
        "s1='goood morningg'\n",
        "print(s1.replace('o','O',4))\n",
        "print(s1.replace('g','G',2))\n",
        "print(s1.replace('g','G',3))\n",
        "print(s1.replace('g','G',100))\n",
        "print(s1.replace('g','G',-100))\n",
        "print(s1.replace('g','G',1))\n",
        "print(s1.replace(s1,'MORNIG'))"
      ],
      "execution_count": 301,
      "outputs": [
        {
          "output_type": "stream",
          "name": "stdout",
          "text": [
            "django\n",
            "rython\n",
            "raju nayak\n",
            "qython\n",
            "PYthon\n",
            "\n",
            "gOOOd mOrningg\n",
            "Goood morninGg\n",
            "Goood morninGG\n",
            "Goood morninGG\n",
            "Goood morninGG\n",
            "Goood morningg\n",
            "MORNIG\n"
          ]
        }
      ]
    },
    {
      "cell_type": "markdown",
      "metadata": {
        "id": "8cxPh-TSNWyu"
      },
      "source": [
        "STRING STRAT WITH , END WITH"
      ]
    },
    {
      "cell_type": "code",
      "metadata": {
        "colab": {
          "base_uri": "https://localhost:8080/",
          "height": 0
        },
        "id": "udVRQAoyM07X",
        "outputId": "12cd2c8d-99d2-45a9-ec59-118e5707fea1"
      },
      "source": [
        "s='welcome'\n",
        "print(s.startswith('w'))\n",
        "print(s.startswith('we'))\n",
        "print(s.startswith('wel',len(s)))\n",
        "print(s.startswith('w',-len(s),len(s)))\n",
        "print(s.startswith('w',0))\n",
        "print(s.startswith('w',0,-len(s)-1))"
      ],
      "execution_count": 322,
      "outputs": [
        {
          "output_type": "stream",
          "name": "stdout",
          "text": [
            "True\n",
            "True\n",
            "False\n",
            "True\n",
            "True\n",
            "False\n"
          ]
        }
      ]
    },
    {
      "cell_type": "code",
      "metadata": {
        "colab": {
          "base_uri": "https://localhost:8080/",
          "height": 0
        },
        "id": "BXFErIfNOwkq",
        "outputId": "73b6c10b-a55f-4134-b51d-2a035bd0ab5b"
      },
      "source": [
        "s='python'\n",
        "print(s.endswith('n'))\n",
        "print(s.endswith('n',5))\n",
        "print(s.endswith('n',6))\n",
        "print(s.endswith('on'))\n",
        "print(s.endswith('on',2))"
      ],
      "execution_count": 324,
      "outputs": [
        {
          "output_type": "stream",
          "name": "stdout",
          "text": [
            "True\n",
            "True\n",
            "False\n",
            "True\n",
            "True\n"
          ]
        }
      ]
    },
    {
      "cell_type": "markdown",
      "metadata": {
        "id": "V9Dy4k-QfBBj"
      },
      "source": [
        "operators\n",
        "#arthmetic=====>(+,-,*,/,//,%,**)\n",
        "#relational/comparision (<,>,<=,>=,!=,=,==)====> bool\n",
        "#assignment====>(+=, -=, /=,//=,%=,*=,**=) \n",
        "#identity=====>(is , is not), ===> bool\n",
        "#logical =====> and , or , not ==> bol\n",
        "#membership===>(in, not in) ===> bool\n",
        "#bitwise======>(&,|,^,>>,<<,~)"
      ]
    },
    {
      "cell_type": "markdown",
      "metadata": {
        "id": "sCbwetYlfc35"
      },
      "source": [
        "arthmetic operator(+,-,*,/,//,%,**)"
      ]
    },
    {
      "cell_type": "code",
      "metadata": {
        "colab": {
          "base_uri": "https://localhost:8080/",
          "height": 0
        },
        "id": "2SECVlrbdU1W",
        "outputId": "16a961cd-3c4e-4f6e-dfa1-333b208ddd78"
      },
      "source": [
        "a=20\n",
        "b=3\n",
        "c=2.5\n",
        "\n",
        "\n",
        "print(a+b, type(a+b)) #int+int=int\n",
        "print(a-b, type(a-b)) #int-int=int\n",
        "print(a/b, type(a/b)) #int/int=flot\n",
        "print(a//b, type(a//b))  #int+int=int\n",
        "print(a%b, type(a%b))   #int+int=int\n",
        "print(a**b, type(a**b))   #int+int=int\n",
        "print()\n",
        "print(a+c, type(a+c))  #int+float=float\n",
        "print(a-c, type(a-c))   #int-float=float\n",
        "print(a/c, type(a/c))    #int/float=float\n",
        "print(a//c, type(a//c))   #int//float=float\n",
        "print(a%c, type(a%c))   #int%float=float\n",
        "print(a**c, type(a**c))   #int**float=float"
      ],
      "execution_count": 84,
      "outputs": [
        {
          "output_type": "stream",
          "name": "stdout",
          "text": [
            "23 <class 'int'>\n",
            "17 <class 'int'>\n",
            "6.666666666666667 <class 'float'>\n",
            "6 <class 'int'>\n",
            "2 <class 'int'>\n",
            "8000 <class 'int'>\n",
            "\n",
            "22.5 <class 'float'>\n",
            "17.5 <class 'float'>\n",
            "8.0 <class 'float'>\n",
            "8.0 <class 'float'>\n",
            "0.0 <class 'float'>\n",
            "1788.8543819998317 <class 'float'>\n"
          ]
        }
      ]
    },
    {
      "cell_type": "markdown",
      "metadata": {
        "id": "ZaJdCRbVhiGs"
      },
      "source": [
        "relation operators(<,>,<=,>=,!=,=,==)"
      ]
    },
    {
      "cell_type": "code",
      "metadata": {
        "colab": {
          "base_uri": "https://localhost:8080/",
          "height": 0
        },
        "id": "T7zf25dxfoS2",
        "outputId": "f130b99b-1362-438f-8222-1e4a6cc501ab"
      },
      "source": [
        "a=10\n",
        "b=20\n",
        "g=20\n",
        "print(b==g, type(b==g))\n",
        "print(a==b)\n",
        "print(a<b)\n",
        "print(a>b)\n",
        "print(a<=b)\n",
        "print(a>=b)\n",
        "print(a!=b)\n"
      ],
      "execution_count": 102,
      "outputs": [
        {
          "output_type": "stream",
          "name": "stdout",
          "text": [
            "True <class 'bool'>\n",
            "False\n",
            "True\n",
            "False\n",
            "True\n",
            "False\n",
            "True\n"
          ]
        }
      ]
    },
    {
      "cell_type": "markdown",
      "metadata": {
        "id": "ij5ggHztm9eU"
      },
      "source": [
        "assingment operator(+=, -=, /=,//=,%=,*=,**=)"
      ]
    },
    {
      "cell_type": "code",
      "metadata": {
        "colab": {
          "base_uri": "https://localhost:8080/",
          "height": 0
        },
        "id": "ropWc4sXkRZA",
        "outputId": "61a449a9-447f-4b69-a4ac-a6928d28a143"
      },
      "source": [
        "a=10\n",
        "b=5\n",
        "c=20\n",
        "a+=1\n",
        "print(a)\n",
        "a-=1\n",
        "print(a)\n",
        "a/=b\n",
        "c/=b\n",
        "print(c)\n",
        "print(a)\n",
        "a//=b\n",
        "print(a)"
      ],
      "execution_count": 120,
      "outputs": [
        {
          "output_type": "stream",
          "name": "stdout",
          "text": [
            "11\n",
            "10\n",
            "4.0\n",
            "2.0\n",
            "0.0\n"
          ]
        }
      ]
    },
    {
      "cell_type": "code",
      "metadata": {
        "colab": {
          "base_uri": "https://localhost:8080/",
          "height": 0
        },
        "id": "voPze1Wrl_ry",
        "outputId": "f37decf1-fc72-417e-c0a3-a92469829615"
      },
      "source": [
        "c%=b\n",
        "print(c)\n"
      ],
      "execution_count": 121,
      "outputs": [
        {
          "output_type": "stream",
          "name": "stdout",
          "text": [
            "4.0\n"
          ]
        }
      ]
    },
    {
      "cell_type": "code",
      "metadata": {
        "colab": {
          "base_uri": "https://localhost:8080/",
          "height": 0
        },
        "id": "pigpGk0Oo0Hw",
        "outputId": "14a6a1bf-ed7a-4a5e-f6bb-65f78c1dbeab"
      },
      "source": [
        "c*=b\n",
        "print(c)"
      ],
      "execution_count": 122,
      "outputs": [
        {
          "output_type": "stream",
          "name": "stdout",
          "text": [
            "20.0\n"
          ]
        }
      ]
    },
    {
      "cell_type": "code",
      "metadata": {
        "colab": {
          "base_uri": "https://localhost:8080/",
          "height": 0
        },
        "id": "r5Gk8BzUpHjG",
        "outputId": "460f8e5f-230c-4ba3-f93c-16f225ab132b"
      },
      "source": [
        "c**=b\n",
        "print(c)"
      ],
      "execution_count": 124,
      "outputs": [
        {
          "output_type": "stream",
          "name": "stdout",
          "text": [
            "3200000.0\n"
          ]
        }
      ]
    },
    {
      "cell_type": "markdown",
      "metadata": {
        "id": "tA3QozCcqOb3"
      },
      "source": [
        "identity(is , is not)"
      ]
    },
    {
      "cell_type": "code",
      "metadata": {
        "colab": {
          "base_uri": "https://localhost:8080/",
          "height": 0
        },
        "id": "odrvXrxRpWkG",
        "outputId": "6d484587-a168-4c44-f7d6-2f448f929f7d"
      },
      "source": [
        "a='pyhon'\n",
        "b='django'\n",
        "c=10\n",
        "d=10\n",
        "e=20\n",
        "g=e\n",
        "print(a is b)\n",
        "print(a is not b)\n",
        "print() #for one empty space\n",
        "print( c is d)\n",
        "print(c is not d)\n",
        "print() #for one empty space\n",
        "print(e is g) #e,g, same id,same type bcuz g refers to the e referance values\n",
        "print(e is g) #e,g,refering same values with two diffrent variables, same id,same type bcuz g refers to the e referance values\n",
        "print(g is e)  \n",
        "print() #for one empty space\n",
        "print(g is not e)\n",
        "print(e is not g)"
      ],
      "execution_count": 149,
      "outputs": [
        {
          "output_type": "stream",
          "name": "stdout",
          "text": [
            "False\n",
            "True\n",
            "\n",
            "True\n",
            "False\n",
            "\n",
            "True\n",
            "True\n",
            "\n",
            "False\n",
            "False\n"
          ]
        }
      ]
    },
    {
      "cell_type": "markdown",
      "metadata": {
        "id": "gMi-VQyDR1KO"
      },
      "source": [
        "logical operators(and, or, not)"
      ]
    },
    {
      "cell_type": "code",
      "metadata": {
        "colab": {
          "base_uri": "https://localhost:8080/",
          "height": 0
        },
        "id": "wugjZFxlRtR4",
        "outputId": "ee0c0c98-f030-4862-8f13-20739d19f1c1"
      },
      "source": [
        "x=5<10\n",
        "print(x < 5 and  x < 10\t)\n",
        "print(x < 5 or x < 4)\t\n",
        "print(not(x < 5 and x < 10))"
      ],
      "execution_count": 329,
      "outputs": [
        {
          "output_type": "stream",
          "name": "stdout",
          "text": [
            "True\n",
            "True\n",
            "False\n"
          ]
        }
      ]
    },
    {
      "cell_type": "markdown",
      "metadata": {
        "id": "ymmUMgC8qV3P"
      },
      "source": [
        "membership operators(in, not in)"
      ]
    },
    {
      "cell_type": "code",
      "metadata": {
        "colab": {
          "base_uri": "https://localhost:8080/",
          "height": 0
        },
        "id": "i-OnTVRBrizU",
        "outputId": "37eb4c8f-4ef8-48ea-aa16-06449074446d"
      },
      "source": [
        "a='python'\n",
        "b='django'\n",
        "c=a\n",
        "print(a in c, id(a in c), type(a in c))\n",
        "print() #for one empty space\n",
        "print(c, id(c),type(c)) #c refers to a refernce values\n",
        "print(a, id(a), type(a)) #a, c same id,same type bcuz c refers to the a referance values\n",
        "print() #for one empty space\n",
        "print(a in b)\n",
        "print(b in a)\n",
        "print() #for one empty space\n",
        "print(a not in b)\n",
        "print(b not in a)"
      ],
      "execution_count": 148,
      "outputs": [
        {
          "output_type": "stream",
          "name": "stdout",
          "text": [
            "True 94236124254464 <class 'bool'>\n",
            "\n",
            "python 139994342443056 <class 'str'>\n",
            "python 139994342443056 <class 'str'>\n",
            "\n",
            "False\n",
            "False\n",
            "\n",
            "True\n",
            "True\n"
          ]
        }
      ]
    },
    {
      "cell_type": "markdown",
      "metadata": {
        "id": "eT7Rgin-qZrn"
      },
      "source": [
        "bitwise(&,|,^,>>,<<,~)"
      ]
    },
    {
      "cell_type": "code",
      "metadata": {
        "colab": {
          "base_uri": "https://localhost:8080/",
          "height": 0
        },
        "id": "6hXMP9GRtL8u",
        "outputId": "73e8fb36-1a95-4b72-d334-2cdf3ed3889b"
      },
      "source": [
        "a=10 #1010\n",
        "b=20 #00010100\n",
        "c=5  #0101\n",
        "print(a and b) #if we use and in place of &\n",
        "print(a & b) #differance b/n and,& ,  1010 &00010100=0 \n",
        "print()\n",
        "print(a|b) #1010 | 00010100=30\n",
        "print(a or b) #what is diff. ,if we use or  in place of , 1010 or 00010100=10\n",
        "print()\n",
        "print(a^b) #1010 ^ 00010100=30\n",
        "print(b^a) #00010100 ^ 1010=30\n",
        "print()\n",
        "print(a>>b) #1010 >> 00010100 right shift =0\n",
        "print(b>>a) #00010100>>1010 right shift =0\n",
        "print()\n",
        "print(a<<c) #left shift , 0101<< 00010100=320\n",
        "print(c<<a)  #left shift , 0101<< 00010100\n",
        "print()\n",
        "print(~a) #negative 10*-1=-10+-1=-11\n",
        "print(~b)\n",
        "print(~c)\n",
        "print()\n",
        "d=-20\n",
        "print(~d) #-*+=-, -*-=+, -20*-1 , 20-1=19"
      ],
      "execution_count": 325,
      "outputs": [
        {
          "output_type": "stream",
          "name": "stdout",
          "text": [
            "20\n",
            "0\n",
            "\n",
            "30\n",
            "10\n",
            "\n",
            "30\n",
            "30\n",
            "\n",
            "0\n",
            "0\n",
            "\n",
            "320\n",
            "5120\n",
            "\n",
            "-11\n",
            "-21\n",
            "-6\n",
            "\n",
            "19\n"
          ]
        }
      ]
    },
    {
      "cell_type": "code",
      "metadata": {
        "id": "XkRbJLUIPjQu"
      },
      "source": [
        ""
      ],
      "execution_count": 325,
      "outputs": []
    }
  ]
}