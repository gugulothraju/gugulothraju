{
  "nbformat": 4,
  "nbformat_minor": 0,
  "metadata": {
    "colab": {
      "name": "Copy of sting fn, loops , if else, elif, range , continue, break .ipynb",
      "provenance": [],
      "collapsed_sections": [],
      "authorship_tag": "ABX9TyM0ET06ULGKUX1A8WmWNzce",
      "include_colab_link": true
    },
    "kernelspec": {
      "name": "python3",
      "display_name": "Python 3"
    },
    "language_info": {
      "name": "python"
    }
  },
  "cells": [
    {
      "cell_type": "markdown",
      "metadata": {
        "id": "view-in-github",
        "colab_type": "text"
      },
      "source": [
        "<a href=\"https://colab.research.google.com/github/gugulothraju/gugulothraju/blob/main/Copy_of_sting_fn%2C_loops_%2C_if_else%2C_elif%2C_range_%2C_continue%2C_break_.ipynb\" target=\"_parent\"><img src=\"https://colab.research.google.com/assets/colab-badge.svg\" alt=\"Open In Colab\"/></a>"
      ]
    },
    {
      "cell_type": "markdown",
      "metadata": {
        "id": "-Vt5Az98AkK_"
      },
      "source": [
        "range, continue, break\n"
      ]
    },
    {
      "cell_type": "code",
      "metadata": {
        "colab": {
          "base_uri": "https://localhost:8080/"
        },
        "id": "m4TZlvDIAYiy",
        "outputId": "74cd3822-1c58-44ba-e962-3eb8c4514a91"
      },
      "source": [
        "for a in 'raju Nayak' :\n",
        " print(a, end='')"
      ],
      "execution_count": null,
      "outputs": [
        {
          "output_type": "stream",
          "name": "stdout",
          "text": [
            "raju Nayak"
          ]
        }
      ]
    },
    {
      "cell_type": "code",
      "metadata": {
        "colab": {
          "base_uri": "https://localhost:8080/"
        },
        "id": "plkpN270AxKJ",
        "outputId": "a1ad877d-3f18-4774-9486-a3e63c04e52d"
      },
      "source": [
        "s=input('enter str value:')\n",
        "for a in s:\n",
        "  print(a, end='')"
      ],
      "execution_count": null,
      "outputs": [
        {
          "output_type": "stream",
          "name": "stdout",
          "text": [
            "enter str value:arafkashdfa\n",
            "arafkashdfa"
          ]
        }
      ]
    },
    {
      "cell_type": "code",
      "metadata": {
        "colab": {
          "base_uri": "https://localhost:8080/"
        },
        "id": "s53vheoPBbxg",
        "outputId": "20b4f162-4d37-4c2f-8835-b9ea71c86920"
      },
      "source": [
        "s=input('enter string value:')\n",
        "for a in s:\n",
        "  print('pyhon')\n",
        "  print('django')"
      ],
      "execution_count": null,
      "outputs": [
        {
          "output_type": "stream",
          "name": "stdout",
          "text": [
            "enter string value:raju\n",
            "pyhon\n",
            "django\n",
            "pyhon\n",
            "django\n",
            "pyhon\n",
            "django\n",
            "pyhon\n",
            "django\n"
          ]
        }
      ]
    },
    {
      "cell_type": "code",
      "metadata": {
        "colab": {
          "base_uri": "https://localhost:8080/"
        },
        "id": "v1cFlca3CsuI",
        "outputId": "5fb54ff4-2556-4d59-be3a-90661e9abe0d"
      },
      "source": [
        "s=input('enter string value:')\n",
        "for a in s:\n",
        "  print('pyhon')\n",
        "  print('django')\n",
        "  continue"
      ],
      "execution_count": null,
      "outputs": [
        {
          "output_type": "stream",
          "name": "stdout",
          "text": [
            "enter string value:rahul\n",
            "pyhon\n",
            "django\n",
            "pyhon\n",
            "django\n",
            "pyhon\n",
            "django\n",
            "pyhon\n",
            "django\n",
            "pyhon\n",
            "django\n"
          ]
        }
      ]
    },
    {
      "cell_type": "code",
      "metadata": {
        "colab": {
          "base_uri": "https://localhost:8080/"
        },
        "id": "3cGm-eQQC4SM",
        "outputId": "f7dfcbd7-c5c6-4ae3-dcfe-69db4b49b35f"
      },
      "source": [
        "s=input('enter string value:')\n",
        "for a in s:\n",
        "  print('pyhon')\n",
        "  continue\n",
        "  print('django')"
      ],
      "execution_count": null,
      "outputs": [
        {
          "output_type": "stream",
          "name": "stdout",
          "text": [
            "enter string value:rahu\n",
            "pyhon\n",
            "pyhon\n",
            "pyhon\n",
            "pyhon\n"
          ]
        }
      ]
    },
    {
      "cell_type": "code",
      "metadata": {
        "colab": {
          "base_uri": "https://localhost:8080/"
        },
        "id": "z17gVNAkC9Ms",
        "outputId": "4fb60eca-77e8-40c5-84b5-394d9c0a7f5b"
      },
      "source": [
        "s=input('enter string value:')\n",
        "for a in s:\n",
        "  continue\n",
        "  print('pyhon')\n",
        "  print('django')"
      ],
      "execution_count": null,
      "outputs": [
        {
          "name": "stdout",
          "output_type": "stream",
          "text": [
            "enter string value:rahul\n"
          ]
        }
      ]
    },
    {
      "cell_type": "code",
      "metadata": {
        "colab": {
          "base_uri": "https://localhost:8080/"
        },
        "id": "m8luF_umDGqM",
        "outputId": "1079a45d-85c5-4c3d-cd23-60ba4b67f7a3"
      },
      "source": [
        "s=input('enter string value:')\n",
        "for a in s:\n",
        "  if a not in 'aeiouAEIOU':\n",
        "    print(a, end='')"
      ],
      "execution_count": null,
      "outputs": [
        {
          "output_type": "stream",
          "name": "stdout",
          "text": [
            "enter string value:rahul nrayak\n",
            "rhl nryk"
          ]
        }
      ]
    },
    {
      "cell_type": "code",
      "metadata": {
        "colab": {
          "base_uri": "https://localhost:8080/"
        },
        "id": "62KIbcthDYKc",
        "outputId": "6c6511aa-436d-4696-962a-86e8c94e6fa7"
      },
      "source": [
        "s=input('enter string value:')\n",
        "for a in s:\n",
        "  if a in 'aeiouAEIOU':\n",
        "    continue\n",
        "    print(a, end='')\n"
      ],
      "execution_count": null,
      "outputs": [
        {
          "name": "stdout",
          "output_type": "stream",
          "text": [
            "enter string value:rahul nayak\n"
          ]
        }
      ]
    },
    {
      "cell_type": "code",
      "metadata": {
        "colab": {
          "base_uri": "https://localhost:8080/"
        },
        "id": "c5560UQZD3Xq",
        "outputId": "2de528b4-8dd1-43a7-b906-6009789a91ee"
      },
      "source": [
        "s=input('enter str value\"')\n",
        "for a in s:\n",
        "  if a in 'aeiouAEIO':\n",
        "    print(a, end='')\n",
        "    continue"
      ],
      "execution_count": null,
      "outputs": [
        {
          "output_type": "stream",
          "name": "stdout",
          "text": [
            "enter str value\"rahul nayak\n",
            "auaa"
          ]
        }
      ]
    },
    {
      "cell_type": "code",
      "metadata": {
        "colab": {
          "base_uri": "https://localhost:8080/"
        },
        "id": "MNycOza5EIuy",
        "outputId": "68f9ae1d-1e4f-4618-c9ec-b98c15bce116"
      },
      "source": [
        "s='Rahul Nayak'\n",
        "for a in s:\n",
        "  if a in 'aeiouAEIOU':\n",
        "   print(a, 'continue')\n",
        "  print(a)"
      ],
      "execution_count": null,
      "outputs": [
        {
          "output_type": "stream",
          "name": "stdout",
          "text": [
            "R\n",
            "a continue\n",
            "a\n",
            "h\n",
            "u continue\n",
            "u\n",
            "l\n",
            " \n",
            "N\n",
            "a continue\n",
            "a\n",
            "y\n",
            "a continue\n",
            "a\n",
            "k\n"
          ]
        }
      ]
    },
    {
      "cell_type": "code",
      "metadata": {
        "colab": {
          "base_uri": "https://localhost:8080/"
        },
        "id": "kJnxWotEEoLB",
        "outputId": "c99d85ef-b717-4ed2-bd59-37a601ac03d2"
      },
      "source": [
        "\n",
        "s='rahul nayak'\n",
        "for a in s:\n",
        "  if a in 'aeiouAEIOU':\n",
        "    print(a.title(),'continue')\n",
        "    continue\n",
        "  print(a)   "
      ],
      "execution_count": null,
      "outputs": [
        {
          "output_type": "stream",
          "name": "stdout",
          "text": [
            "r\n",
            "A continue\n",
            "h\n",
            "U continue\n",
            "l\n",
            " \n",
            "n\n",
            "A continue\n",
            "y\n",
            "A continue\n",
            "k\n"
          ]
        }
      ]
    },
    {
      "cell_type": "code",
      "metadata": {
        "colab": {
          "base_uri": "https://localhost:8080/"
        },
        "id": "oekc2LnbFSGx",
        "outputId": "44a25543-8e46-49b5-b1fe-d98051da612f"
      },
      "source": [
        "s=input('enter string value:')\n",
        "v=''\n",
        "c=''\n",
        "for a in s:\n",
        "  if a in 'aeiouAEIOU':\n",
        "    v=v+a\n",
        "    continue\n",
        "  c=c+a\n",
        "\n",
        "print(v.upper(), len(v), sep='====>')\n",
        "print(c.upper(), len(c), sep='====>')\n",
        "    \n"
      ],
      "execution_count": null,
      "outputs": [
        {
          "output_type": "stream",
          "name": "stdout",
          "text": [
            "enter string value:rahul nayak\n",
            "AUAA====>4\n",
            "RHL NYK====>7\n"
          ]
        }
      ]
    },
    {
      "cell_type": "code",
      "metadata": {
        "colab": {
          "base_uri": "https://localhost:8080/"
        },
        "id": "gPqp-93WGSBN",
        "outputId": "45a608fb-9caf-4e3b-8e72-dd866c6bf52e"
      },
      "source": [
        "s=input('enter str alue:')\n",
        "v=''\n",
        "c=''\n",
        "for a in s:\n",
        "  if a in 'aeiouAEIOU':\n",
        "    v=v+a\n",
        "    continue\n",
        "  c=c+a\n",
        "\n",
        "print(v.upper(), end='  ')\n",
        "print(c.upper())\n",
        "print(len(v),len(c), sep='       ')    "
      ],
      "execution_count": null,
      "outputs": [
        {
          "output_type": "stream",
          "name": "stdout",
          "text": [
            "enter str alue:rahul nayak\n",
            "AUAA  RHL NYK\n",
            "4       7\n"
          ]
        }
      ]
    },
    {
      "cell_type": "code",
      "metadata": {
        "colab": {
          "base_uri": "https://localhost:8080/"
        },
        "id": "JxQjPraPHy5U",
        "outputId": "45313f99-41d9-422a-c412-9845def89d79"
      },
      "source": [
        "s=input('enter values:')\n",
        "for a in s:\n",
        "  print('ptyhon')\n",
        "  "
      ],
      "execution_count": null,
      "outputs": [
        {
          "output_type": "stream",
          "name": "stdout",
          "text": [
            "enter values:12341\n",
            "ptyhon\n",
            "ptyhon\n",
            "ptyhon\n",
            "ptyhon\n",
            "ptyhon\n"
          ]
        }
      ]
    },
    {
      "cell_type": "code",
      "metadata": {
        "colab": {
          "base_uri": "https://localhost:8080/"
        },
        "id": "yoo3BNscI1IS",
        "outputId": "4864248a-270c-4528-8bdf-55e8226c8d90"
      },
      "source": [
        "s=input('enter the values:')\n",
        "for i in s:\n",
        "  print('rahul')\n",
        "  continue\n",
        "  print('nayak')"
      ],
      "execution_count": null,
      "outputs": [
        {
          "output_type": "stream",
          "name": "stdout",
          "text": [
            "enter the values:52455\n",
            "rahul\n",
            "rahul\n",
            "rahul\n",
            "rahul\n",
            "rahul\n"
          ]
        }
      ]
    },
    {
      "cell_type": "code",
      "metadata": {
        "colab": {
          "base_uri": "https://localhost:8080/"
        },
        "id": "0ztcu45RJVJP",
        "outputId": "749e2b60-2844-4964-a391-9357f032e4c3"
      },
      "source": [
        "for i in range(1,11):\n",
        "  print(i,end='')"
      ],
      "execution_count": null,
      "outputs": [
        {
          "output_type": "stream",
          "name": "stdout",
          "text": [
            "12345678910"
          ]
        }
      ]
    },
    {
      "cell_type": "code",
      "metadata": {
        "colab": {
          "base_uri": "https://localhost:8080/"
        },
        "id": "qvAuHJq_JuaP",
        "outputId": "ea0d9065-7fb1-4a76-c737-a263939da04a"
      },
      "source": [
        "for i in range(10):\n",
        "  print(i)"
      ],
      "execution_count": null,
      "outputs": [
        {
          "output_type": "stream",
          "name": "stdout",
          "text": [
            "0\n",
            "1\n",
            "2\n",
            "3\n",
            "4\n",
            "5\n",
            "6\n",
            "7\n",
            "8\n",
            "9\n"
          ]
        }
      ]
    },
    {
      "cell_type": "code",
      "metadata": {
        "colab": {
          "base_uri": "https://localhost:8080/"
        },
        "id": "qK86MKVdKFjs",
        "outputId": "fd357463-ca87-413a-b708-e9e678703870"
      },
      "source": [
        "for i in range(10):\n",
        "  print(i, end=\"\")\n",
        "for i in range(10):\n",
        "    print(i) \n",
        "for i in range(10):\n",
        "  print(i, end='')  "
      ],
      "execution_count": null,
      "outputs": [
        {
          "output_type": "stream",
          "name": "stdout",
          "text": [
            "01234567890\n",
            "1\n",
            "2\n",
            "3\n",
            "4\n",
            "5\n",
            "6\n",
            "7\n",
            "8\n",
            "9\n",
            "0123456789"
          ]
        }
      ]
    },
    {
      "cell_type": "code",
      "metadata": {
        "id": "3ET465RTKLak"
      },
      "source": [
        "for i in range(1,10,-1):\n",
        "  print(i) "
      ],
      "execution_count": null,
      "outputs": []
    },
    {
      "cell_type": "code",
      "metadata": {
        "colab": {
          "base_uri": "https://localhost:8080/"
        },
        "id": "VVXq7B7TLCvm",
        "outputId": "d30183b5-47c0-427a-9a26-4fdd666c9de5"
      },
      "source": [
        "for i in range(1,10,1):\n",
        "  print(i, end='') "
      ],
      "execution_count": null,
      "outputs": [
        {
          "output_type": "stream",
          "name": "stdout",
          "text": [
            "123456789"
          ]
        }
      ]
    },
    {
      "cell_type": "code",
      "metadata": {
        "colab": {
          "base_uri": "https://localhost:8080/"
        },
        "id": "qtMu2QMsLL7M",
        "outputId": "d5f1baeb-fc2e-415f-ca44-0f5d120cfcbd"
      },
      "source": [
        "for i in range(10,1,-1):\n",
        "  print(i, end='') "
      ],
      "execution_count": null,
      "outputs": [
        {
          "output_type": "stream",
          "name": "stdout",
          "text": [
            "1098765432"
          ]
        }
      ]
    },
    {
      "cell_type": "code",
      "metadata": {
        "colab": {
          "base_uri": "https://localhost:8080/"
        },
        "id": "N9LlbFe3LTmc",
        "outputId": "94f8d0ea-59ae-485e-8276-ad0d10896488"
      },
      "source": [
        "for a in range(10,0,-1):\n",
        "  print(a, end='') "
      ],
      "execution_count": null,
      "outputs": [
        {
          "output_type": "stream",
          "name": "stdout",
          "text": [
            "10987654321"
          ]
        }
      ]
    },
    {
      "cell_type": "code",
      "metadata": {
        "colab": {
          "base_uri": "https://localhost:8080/"
        },
        "id": "boa24PTtLt0a",
        "outputId": "df19dd18-fc52-45e0-c706-1956802d0c68"
      },
      "source": [
        "for i in range(9,0,-1):\n",
        "  print(i, end='') \n",
        "for i in range(9,1,-1):\n",
        "  print(i, sep='  ') \n",
        "    "
      ],
      "execution_count": null,
      "outputs": [
        {
          "output_type": "stream",
          "name": "stdout",
          "text": [
            "9876543219\n",
            "8\n",
            "7\n",
            "6\n",
            "5\n",
            "4\n",
            "3\n",
            "2\n"
          ]
        }
      ]
    },
    {
      "cell_type": "code",
      "metadata": {
        "colab": {
          "base_uri": "https://localhost:8080/"
        },
        "id": "ZZEGI7OmL2Uq",
        "outputId": "19d28bfd-09e5-4cf5-aa18-991fc4c8b3f2"
      },
      "source": [
        "s='pyhon'\n",
        "for a in range(len(s)):\n",
        "  print(a,s[a])\n"
      ],
      "execution_count": null,
      "outputs": [
        {
          "output_type": "stream",
          "name": "stdout",
          "text": [
            "0 p\n",
            "1 y\n",
            "2 h\n",
            "3 o\n",
            "4 n\n"
          ]
        }
      ]
    },
    {
      "cell_type": "code",
      "metadata": {
        "colab": {
          "base_uri": "https://localhost:8080/"
        },
        "id": "W-S5MJqiMcBC",
        "outputId": "983b90de-22e3-474c-f3cc-0e7652c666ca"
      },
      "source": [
        "s='pyhon'\n",
        "for a in range(len(s)):\n",
        "  print(a,s[a])\n"
      ],
      "execution_count": null,
      "outputs": [
        {
          "output_type": "stream",
          "name": "stdout",
          "text": [
            "0 p\n",
            "1 y\n",
            "2 h\n",
            "3 o\n",
            "4 n\n"
          ]
        }
      ]
    },
    {
      "cell_type": "code",
      "metadata": {
        "colab": {
          "base_uri": "https://localhost:8080/"
        },
        "id": "LQlSG0O2M6rF",
        "outputId": "bcccfead-6661-4aaf-b50a-7d2d127953c7"
      },
      "source": [
        "s='pyhon'\n",
        "for a in range(len(s[0:4])):\n",
        "  print(a,s[a])\n"
      ],
      "execution_count": null,
      "outputs": [
        {
          "output_type": "stream",
          "name": "stdout",
          "text": [
            "0 p\n",
            "1 y\n",
            "2 h\n",
            "3 o\n"
          ]
        }
      ]
    },
    {
      "cell_type": "code",
      "metadata": {
        "colab": {
          "base_uri": "https://localhost:8080/"
        },
        "id": "2rDPclC6NzmQ",
        "outputId": "6a952bd9-3cb4-4fb2-8334-d6c64bfcc815"
      },
      "source": [
        "s='rajunaik'\n",
        "for a in range(len(s)):\n",
        "  if s[a] not in 'aeiouAEIOU':\n",
        "    print(a)\n",
        "  "
      ],
      "execution_count": null,
      "outputs": [
        {
          "output_type": "stream",
          "name": "stdout",
          "text": [
            "0\n",
            "2\n",
            "4\n",
            "7\n"
          ]
        }
      ]
    },
    {
      "cell_type": "code",
      "metadata": {
        "colab": {
          "base_uri": "https://localhost:8080/"
        },
        "id": "PAXph9B9O9am",
        "outputId": "160ff390-c0f2-48c1-c229-e53a981a701a"
      },
      "source": [
        "s='rajunaik'\n",
        "for a in range(len(s)):\n",
        "  if s[a] not in 'aeiouAEIOU':\n",
        "    print(a, s[a], sep='===>')\n",
        "    continue"
      ],
      "execution_count": null,
      "outputs": [
        {
          "output_type": "stream",
          "name": "stdout",
          "text": [
            "0===>r\n",
            "2===>j\n",
            "4===>n\n",
            "7===>k\n"
          ]
        }
      ]
    },
    {
      "cell_type": "code",
      "metadata": {
        "id": "KUBaKj0LPQfk"
      },
      "source": [
        "s='rajunaik'\n",
        "for a in range(len(s)):\n",
        "  if s[a] not in 'aeiouAEIOU':\n",
        "    continue\n",
        "    print(a)\n",
        "  "
      ],
      "execution_count": null,
      "outputs": []
    },
    {
      "cell_type": "code",
      "metadata": {
        "id": "Mov585k5PU_s"
      },
      "source": [
        "s='rajunaik'\n",
        "for a in range(len(s)):\n",
        "  if s[a] not in 'aeiouAEIOU':\n",
        "    break\n",
        "    print(a)"
      ],
      "execution_count": null,
      "outputs": []
    },
    {
      "cell_type": "code",
      "metadata": {
        "colab": {
          "base_uri": "https://localhost:8080/"
        },
        "id": "kbGhSLgQP-7T",
        "outputId": "84ba534a-42b0-4112-a254-b6497bb71ceb"
      },
      "source": [
        "s='rajunUik'\n",
        "for a in s:\n",
        "  if a.isupper()==True:\n",
        "    break\n",
        "  print(a, end='')\n",
        "else:\n",
        "    print()    "
      ],
      "execution_count": null,
      "outputs": [
        {
          "output_type": "stream",
          "name": "stdout",
          "text": [
            "rajun"
          ]
        }
      ]
    },
    {
      "cell_type": "code",
      "metadata": {
        "colab": {
          "base_uri": "https://localhost:8080/"
        },
        "id": "J8SMAai9QG8K",
        "outputId": "13d3d1a0-35d7-4fe3-fb72-3faed9a9228f"
      },
      "source": [
        "s='rajUnaik'\n",
        "for a in s:\n",
        "  if a.isupper()==True:\n",
        "    print(a, len(s), sep='===>')\n",
        "    break\n",
        "  else:\n",
        "    print()    "
      ],
      "execution_count": null,
      "outputs": [
        {
          "output_type": "stream",
          "name": "stdout",
          "text": [
            "\n",
            "\n",
            "\n",
            "U===>8\n"
          ]
        }
      ]
    },
    {
      "cell_type": "code",
      "metadata": {
        "colab": {
          "base_uri": "https://localhost:8080/"
        },
        "id": "x0PrvFVyRCHp",
        "outputId": "e88bb3fa-8e04-46cc-cf99-a4bc4f02743b"
      },
      "source": [
        "s='raUnaik'\n",
        "for a in s:\n",
        "  if a.isupper()==True:\n",
        "    print(a, len(a), sep='===>')\n",
        "    break\n",
        "  else:\n",
        "    print()    "
      ],
      "execution_count": null,
      "outputs": [
        {
          "output_type": "stream",
          "name": "stdout",
          "text": [
            "\n",
            "\n",
            "U===>1\n"
          ]
        }
      ]
    },
    {
      "cell_type": "code",
      "metadata": {
        "colab": {
          "base_uri": "https://localhost:8080/"
        },
        "id": "IVmZwcPWRVQQ",
        "outputId": "f179eda4-21a9-47cf-de08-ccc381048e38"
      },
      "source": [
        "s='rajunAik'\n",
        "for i in s:\n",
        "  if i.isupper()==True:\n",
        "     break\n",
        "  print(i, end='')\n",
        "   "
      ],
      "execution_count": null,
      "outputs": [
        {
          "output_type": "stream",
          "name": "stdout",
          "text": [
            "rajun"
          ]
        }
      ]
    },
    {
      "cell_type": "code",
      "metadata": {
        "colab": {
          "base_uri": "https://localhost:8080/"
        },
        "id": "D5rIJ6B1Rnsl",
        "outputId": "6f7378c3-80ed-4874-dc49-273b85677396"
      },
      "source": [
        "s='python'\n",
        "for i in s:\n",
        "  if i.isupper()==False:\n",
        "    print(i, end='')\n",
        "  else:\n",
        "    print()\n",
        "    print('for loop  executed successfully!!!')  "
      ],
      "execution_count": null,
      "outputs": [
        {
          "output_type": "stream",
          "name": "stdout",
          "text": [
            "python"
          ]
        }
      ]
    },
    {
      "cell_type": "code",
      "metadata": {
        "colab": {
          "base_uri": "https://localhost:8080/"
        },
        "id": "EE15h-e3TJWV",
        "outputId": "33260df4-fe75-47dc-df2e-e61feee2ba63"
      },
      "source": [
        "s='python'\n",
        "for i in s:\n",
        "  if i.isupper()==True:\n",
        "    print(i, end='')\n",
        "  else:\n",
        "    print()\n",
        "    print('for loop  executed successfully!!!')  "
      ],
      "execution_count": null,
      "outputs": [
        {
          "output_type": "stream",
          "name": "stdout",
          "text": [
            "\n",
            "for loop  executed successfully!!!\n",
            "\n",
            "for loop  executed successfully!!!\n",
            "\n",
            "for loop  executed successfully!!!\n",
            "\n",
            "for loop  executed successfully!!!\n",
            "\n",
            "for loop  executed successfully!!!\n",
            "\n",
            "for loop  executed successfully!!!\n"
          ]
        }
      ]
    },
    {
      "cell_type": "code",
      "metadata": {
        "colab": {
          "base_uri": "https://localhost:8080/"
        },
        "id": "q9zqea4YTfAc",
        "outputId": "c095dbd2-f0ec-4ec9-ba21-dea380981d8d"
      },
      "source": [
        "s='pytHon'\n",
        "for i in s:\n",
        "  if i.isupper()==True:\n",
        "    break\n",
        "  print(i, end='')\n"
      ],
      "execution_count": null,
      "outputs": [
        {
          "output_type": "stream",
          "name": "stdout",
          "text": [
            "pyt"
          ]
        }
      ]
    },
    {
      "cell_type": "code",
      "metadata": {
        "colab": {
          "base_uri": "https://localhost:8080/"
        },
        "id": "HDzTUugqTlpr",
        "outputId": "40b66a0f-b786-499b-bd09-2ce79907d63c"
      },
      "source": [
        "s='pytHon'\n",
        "for i in s:\n",
        "  if i.isupper()==True:\n",
        "   print(i, end='')\n",
        "   break\n"
      ],
      "execution_count": null,
      "outputs": [
        {
          "output_type": "stream",
          "name": "stdout",
          "text": [
            "H"
          ]
        }
      ]
    },
    {
      "cell_type": "code",
      "metadata": {
        "colab": {
          "base_uri": "https://localhost:8080/"
        },
        "id": "IxIMZfkWUMEs",
        "outputId": "7c741ffe-06de-4137-dbac-160ffb41d87b"
      },
      "source": [
        "s='python'\n",
        "count=''\n",
        "for i in s:\n",
        "  if i.isupper()==True:\n",
        "    count=count-11\n",
        "    if count<len(s):\n",
        "      print(s[-6::1])\n",
        "      break\n",
        "else:\n",
        "  print(s)    "
      ],
      "execution_count": 14,
      "outputs": [
        {
          "output_type": "stream",
          "name": "stdout",
          "text": [
            "python\n"
          ]
        }
      ]
    },
    {
      "cell_type": "code",
      "metadata": {
        "colab": {
          "base_uri": "https://localhost:8080/"
        },
        "id": "MnWuWBdWU4dS",
        "outputId": "6988df24-752e-42b8-f401-0c8dd3ee5b5c"
      },
      "source": [
        "s='python'\n",
        "count=0\n",
        "for i in s:\n",
        "  if i.islower()==True:\n",
        "    count=count+1\n",
        "    if count<1:\n",
        "      print(s[:4:-1])\n",
        "      break\n",
        "else:\n",
        " print(s) \n",
        " print(len(s))    \n"
      ],
      "execution_count": null,
      "outputs": [
        {
          "output_type": "stream",
          "name": "stdout",
          "text": [
            "python\n",
            "6\n"
          ]
        }
      ]
    },
    {
      "cell_type": "code",
      "metadata": {
        "colab": {
          "base_uri": "https://localhost:8080/"
        },
        "id": "1S1WIfaoVomf",
        "outputId": "d4837fba-803d-4aef-df31-81f76a087562"
      },
      "source": [
        "s='pyThon'\n",
        "count=0\n",
        "for i in s:\n",
        "  if i.islower()==True:\n",
        "    count=count+1\n",
        "    if count<1:\n",
        "      break\n",
        "      print(s[::-1])\n",
        "else:\n",
        " print(i) \n",
        " print(len(s))    \n"
      ],
      "execution_count": null,
      "outputs": [
        {
          "output_type": "stream",
          "name": "stdout",
          "text": [
            "n\n",
            "6\n"
          ]
        }
      ]
    },
    {
      "cell_type": "code",
      "metadata": {
        "colab": {
          "base_uri": "https://localhost:8080/"
        },
        "id": "iTwxKelpWrGP",
        "outputId": "ebe0d90c-9625-4911-849b-e9d071e3a121"
      },
      "source": [
        "s=int(input('enter int values:'))\n",
        "for i in range(s):\n",
        "  print('5*',i,'=',5*i)\n",
        "print(s)\n"
      ],
      "execution_count": null,
      "outputs": [
        {
          "output_type": "stream",
          "name": "stdout",
          "text": [
            "enter int values:9\n",
            "5* 0 = 0\n",
            "5* 1 = 5\n",
            "5* 2 = 10\n",
            "5* 3 = 15\n",
            "5* 4 = 20\n",
            "5* 5 = 25\n",
            "5* 6 = 30\n",
            "5* 7 = 35\n",
            "5* 8 = 40\n",
            "9\n"
          ]
        }
      ]
    },
    {
      "cell_type": "code",
      "metadata": {
        "colab": {
          "base_uri": "https://localhost:8080/"
        },
        "id": "zRg4y37MXDbN",
        "outputId": "d0aed136-560b-4d78-c828-42d865612058"
      },
      "source": [
        "start_value=int(input('enter start_values:'))\n",
        "stop_value=int(input('enter stop_value:'))\n",
        "stop_value +=1\n",
        "for i in range(start_value, stop_value):\n",
        "  print('5*',i,'=',5*i)\n",
        "\n"
      ],
      "execution_count": null,
      "outputs": [
        {
          "output_type": "stream",
          "name": "stdout",
          "text": [
            "enter start_values:10\n",
            "enter stop_value:20\n",
            "5* 10 = 50\n",
            "5* 11 = 55\n",
            "5* 12 = 60\n",
            "5* 13 = 65\n",
            "5* 14 = 70\n",
            "5* 15 = 75\n",
            "5* 16 = 80\n",
            "5* 17 = 85\n",
            "5* 18 = 90\n",
            "5* 19 = 95\n",
            "5* 20 = 100\n"
          ]
        }
      ]
    },
    {
      "cell_type": "code",
      "metadata": {
        "colab": {
          "base_uri": "https://localhost:8080/"
        },
        "id": "20ffj_NZYhbL",
        "outputId": "160b4d0e-9d32-4ff7-be28-e8627a3942a4"
      },
      "source": [
        "s=int(input('enter srt values:'))\n",
        "s1=int(input(\"enter stp values:\"))\n",
        "s1 +=1\n",
        "for i in range(s,s1):\n",
        "  print('17',i,'=',17*i)"
      ],
      "execution_count": null,
      "outputs": [
        {
          "output_type": "stream",
          "name": "stdout",
          "text": [
            "enter srt values:1\n",
            "enter stp values:10\n",
            "17 1 = 17\n",
            "17 2 = 34\n",
            "17 3 = 51\n",
            "17 4 = 68\n",
            "17 5 = 85\n",
            "17 6 = 102\n",
            "17 7 = 119\n",
            "17 8 = 136\n",
            "17 9 = 153\n",
            "17 10 = 170\n"
          ]
        }
      ]
    },
    {
      "cell_type": "code",
      "metadata": {
        "colab": {
          "base_uri": "https://localhost:8080/"
        },
        "id": "r8o8zrwXZZqZ",
        "outputId": "f1065499-9354-465e-fa3f-21ca206829d8"
      },
      "source": [
        "t=int(input('enter t values:'))\n",
        "s=int(input('enter srt values:'))\n",
        "s1=int(input(\"enter stp values:\"))\n",
        "s1 +=1\n",
        "for i in range(s,s1):\n",
        "  print(t,'*',i,'=',t*i)"
      ],
      "execution_count": null,
      "outputs": [
        {
          "output_type": "stream",
          "name": "stdout",
          "text": [
            "enter t values:10\n",
            "enter srt values:1\n",
            "enter stp values:10\n",
            "10 * 1 = 10\n",
            "10 * 2 = 20\n",
            "10 * 3 = 30\n",
            "10 * 4 = 40\n",
            "10 * 5 = 50\n",
            "10 * 6 = 60\n",
            "10 * 7 = 70\n",
            "10 * 8 = 80\n",
            "10 * 9 = 90\n",
            "10 * 10 = 100\n"
          ]
        }
      ]
    },
    {
      "cell_type": "code",
      "metadata": {
        "colab": {
          "base_uri": "https://localhost:8080/"
        },
        "id": "E3ogYjAEZyVQ",
        "outputId": "77a7ab29-29f1-4d77-b7e4-b90443abe5c2"
      },
      "source": [
        "g=20\n",
        "s=1\n",
        "s1=10\n",
        "s1 +=1\n",
        "for i in range(s,s1):\n",
        "  print(g,'*',i,'=',g*i)"
      ],
      "execution_count": null,
      "outputs": [
        {
          "output_type": "stream",
          "name": "stdout",
          "text": [
            "20 * 1 = 20\n",
            "20 * 2 = 40\n",
            "20 * 3 = 60\n",
            "20 * 4 = 80\n",
            "20 * 5 = 100\n",
            "20 * 6 = 120\n",
            "20 * 7 = 140\n",
            "20 * 8 = 160\n",
            "20 * 9 = 180\n",
            "20 * 10 = 200\n"
          ]
        }
      ]
    },
    {
      "cell_type": "code",
      "metadata": {
        "colab": {
          "base_uri": "https://localhost:8080/"
        },
        "id": "DP6Guf9iarZI",
        "outputId": "3e870abc-6fff-4567-fbbc-12e2d2ec8859"
      },
      "source": [
        "a='ABCD'\n",
        "s=''\n",
        "for c in a:\n",
        "    s =c*2\n",
        "    print(s,end='')"
      ],
      "execution_count": null,
      "outputs": [
        {
          "output_type": "stream",
          "name": "stdout",
          "text": [
            "AABBCCDD"
          ]
        }
      ]
    },
    {
      "cell_type": "code",
      "metadata": {
        "colab": {
          "base_uri": "https://localhost:8080/"
        },
        "id": "7oaQ0OsTbgC1",
        "outputId": "b0127431-8427-427f-b08d-a36b327e6b9a"
      },
      "source": [
        "a='python'\n",
        "b='123python'\n",
        "print(a, len(s), sep='====>') \n",
        "print('*'*60)\n",
        "print('*'*60)\n",
        "print(a.upper())\n",
        "print('*'*60)\n",
        "print('*'*60)\n",
        "print(a.title())\n",
        "print('*'*60)\n",
        "print('*'*60)\n",
        "print(a.capitalize())\n",
        "print('*'*60)\n",
        "print('*'*60)   \n",
        "print(a.isalpha())\n",
        "print('*'*60)\n",
        "print('*'*60)\n",
        "print(a.isalnum())\n",
        "print('*'*60)\n",
        "print('*'*60)\n",
        "print(a[::-1])\n",
        "print(a[-1::-1])\n",
        "print('*'*60)\n",
        "print('*'*60)\n",
        "print(b.isalnum())\n",
        "print(b[3:9])\n",
        "print(b[9:2:-1])\n",
        "print('*'*60)\n",
        "print(a,b)\n",
        "print(a.upper(),b.capitalize())\n",
        "print(a.split('p'))\n",
        "print(b.split('123py',1))\n",
        "print('*'*60)"
      ],
      "execution_count": null,
      "outputs": [
        {
          "output_type": "stream",
          "name": "stdout",
          "text": [
            "python====>6\n",
            "************************************************************\n",
            "************************************************************\n",
            "PYTHON\n",
            "************************************************************\n",
            "************************************************************\n",
            "Python\n",
            "************************************************************\n",
            "************************************************************\n",
            "Python\n",
            "************************************************************\n",
            "************************************************************\n",
            "True\n",
            "************************************************************\n",
            "************************************************************\n",
            "True\n",
            "************************************************************\n",
            "************************************************************\n",
            "nohtyp\n",
            "nohtyp\n",
            "************************************************************\n",
            "************************************************************\n",
            "True\n",
            "python\n",
            "nohtyp\n",
            "************************************************************\n",
            "python 123python\n",
            "PYTHON 123python\n",
            "['', 'ython']\n",
            "['', 'thon']\n",
            "************************************************************\n"
          ]
        }
      ]
    },
    {
      "cell_type": "code",
      "metadata": {
        "id": "XcCb7RjjBhBU"
      },
      "source": [
        "c='raju nayak'\n",
        "v=''\n",
        "d=''\n",
        "for i in c:\n",
        "  if i in 'aeiouAEIOU':\n",
        "    v=v+i\n",
        "    continue\n",
        "  d=d+i\n"
      ],
      "execution_count": null,
      "outputs": []
    },
    {
      "cell_type": "code",
      "metadata": {
        "colab": {
          "base_uri": "https://localhost:8080/"
        },
        "id": "iKbXeds7cOZ8",
        "outputId": "226ffd56-2de4-4aec-a2b5-50c24a0ff317"
      },
      "source": [
        "a='python'\n",
        "s=''\n",
        "for c in a:\n",
        "    s=c*2\n",
        "    print(s,len(s), sep='===> ')\n",
        "print(a,len(a), sep='====>')"
      ],
      "execution_count": null,
      "outputs": [
        {
          "output_type": "stream",
          "name": "stdout",
          "text": [
            "pp===> 2\n",
            "yy===> 2\n",
            "tt===> 2\n",
            "hh===> 2\n",
            "oo===> 2\n",
            "nn===> 2\n",
            "python====>6\n"
          ]
        }
      ]
    },
    {
      "cell_type": "code",
      "metadata": {
        "colab": {
          "base_uri": "https://localhost:8080/"
        },
        "id": "se5DYbOQcd27",
        "outputId": "306bd6f5-5ccd-4f42-eaac-c9130d86024e"
      },
      "source": [
        "a='ABCD'\n",
        "s=''\n",
        "for c in a:\n",
        "    s+=c*2\n",
        "    print(s,end='===>')\n",
        "    print(len(s), sep='===>')    "
      ],
      "execution_count": null,
      "outputs": [
        {
          "output_type": "stream",
          "name": "stdout",
          "text": [
            "AA===>2\n",
            "AABB===>4\n",
            "AABBCC===>6\n",
            "AABBCCDD===>8\n"
          ]
        }
      ]
    },
    {
      "cell_type": "code",
      "metadata": {
        "colab": {
          "base_uri": "https://localhost:8080/"
        },
        "id": "UL33j6sbdaQT",
        "outputId": "6c2aca2b-c3f4-43ab-8d81-7ac5f4fcaad7"
      },
      "source": [
        "s='''Love all,trust a few, \n",
        "do wrong to none'''\n",
        "s1='''your sincerly\n",
        "guguloth raju nayak'''\n",
        "print(s.upper())\n",
        "for row in range(6):\n",
        "    for col in range(7):\n",
        "        if (row==0 and col%3!=0) or (row==1 and col%3==0) or (row-col==2) or (row+col==8):\n",
        "            print(\"*\", end=\" \")\n",
        "        else:\n",
        "            print(end=\"  \") \n",
        "\n",
        "    print()   \n",
        " \n",
        "print(s1.upper())    \n",
        "\n",
        "   "
      ],
      "execution_count": 4,
      "outputs": [
        {
          "output_type": "stream",
          "name": "stdout",
          "text": [
            "LOVE ALL,TRUST A FEW, \n",
            "DO WRONG TO NONE\n",
            "  * *   * *   \n",
            "*     *     * \n",
            "*           * \n",
            "  *       *   \n",
            "    *   *     \n",
            "      *       \n",
            "YOUR SINCERLY\n",
            "GUGULOTH RAJU NAYAK\n"
          ]
        }
      ]
    },
    {
      "cell_type": "code",
      "metadata": {
        "id": "2pVn_XLyo_2s",
        "colab": {
          "base_uri": "https://localhost:8080/"
        },
        "outputId": "0a6e8399-5944-4cac-8672-92f20bc2ba91"
      },
      "source": [
        "c='python'\n",
        "h='django'\n",
        "f=''\n",
        "k=''\n",
        "for d in c:\n",
        "    f+=d*1\n",
        "    print(f)\n",
        "    continue\n",
        "print()\n",
        "\n",
        "\n",
        "\n",
        "for g in h :\n",
        "   k+=g*1\n",
        "   print(k)\n",
        "    "
      ],
      "execution_count": null,
      "outputs": [
        {
          "output_type": "stream",
          "name": "stdout",
          "text": [
            "p\n",
            "py\n",
            "pyt\n",
            "pyth\n",
            "pytho\n",
            "python\n",
            "\n",
            "d\n",
            "dj\n",
            "dja\n",
            "djan\n",
            "djang\n",
            "django\n"
          ]
        }
      ]
    },
    {
      "cell_type": "code",
      "metadata": {
        "colab": {
          "base_uri": "https://localhost:8080/"
        },
        "id": "kTDLQqPA2OEf",
        "outputId": "da67e8ff-3e3b-4992-ea85-772d080443c4"
      },
      "source": [
        "c='raju nayak'\n",
        "v=''\n",
        "d=''\n",
        "for i in c:\n",
        "  if i in 'aeiouAEIOU':\n",
        "    v=v+i\n",
        "    continue\n",
        "  d=d+i\n",
        "\n",
        "print(v.upper(), len(v), sep='====>')\n",
        "print(d.upper(), len(d), sep='====>')"
      ],
      "execution_count": null,
      "outputs": [
        {
          "output_type": "stream",
          "name": "stdout",
          "text": [
            "AUAA====>4\n",
            "RJ NYK====>6\n"
          ]
        }
      ]
    },
    {
      "cell_type": "code",
      "metadata": {
        "colab": {
          "base_uri": "https://localhost:8080/"
        },
        "id": "LjhzRREHDL-6",
        "outputId": "9b1198b3-b243-42a0-b50e-d7d52b63bcb8"
      },
      "source": [
        "a1='       python       ' \n",
        "print(a1.strip())\n",
        "print('*'*60)\n",
        "print(a1.lstrip().upper())\n",
        "print('*'*60)\n",
        "print(a1.lstrip().title())\n",
        "print('*'*60)\n",
        "print(a1.rstrip().upper())\n",
        "print('*'*60)"
      ],
      "execution_count": null,
      "outputs": [
        {
          "output_type": "stream",
          "name": "stdout",
          "text": [
            "python\n",
            "************************************************************\n",
            "PYTHON       \n",
            "************************************************************\n",
            "Python       \n",
            "************************************************************\n",
            "       PYTHON\n",
            "************************************************************\n"
          ]
        }
      ]
    },
    {
      "cell_type": "code",
      "metadata": {
        "colab": {
          "base_uri": "https://localhost:8080/"
        },
        "id": "7JMh_UcnDNXB",
        "outputId": "2dbb10f5-0169-43fb-c9be-bdc8edbbb62d"
      },
      "source": [
        "t=int(input('enter t values:'))\n",
        "srt=int(input('enter srt values:'))\n",
        "stp=int(input('enter stp values:'))\n",
        "stp+=1\n",
        "for h in range(srt,stp):\n",
        "   print(t,'*',h,'=',t*h)"
      ],
      "execution_count": null,
      "outputs": [
        {
          "output_type": "stream",
          "name": "stdout",
          "text": [
            "enter t values:13\n",
            "enter srt values:1\n",
            "enter stp values:10\n",
            "13 * 1 = 13\n",
            "13 * 2 = 26\n",
            "13 * 3 = 39\n",
            "13 * 4 = 52\n",
            "13 * 5 = 65\n",
            "13 * 6 = 78\n",
            "13 * 7 = 91\n",
            "13 * 8 = 104\n",
            "13 * 9 = 117\n",
            "13 * 10 = 130\n"
          ]
        }
      ]
    },
    {
      "cell_type": "code",
      "metadata": {
        "colab": {
          "base_uri": "https://localhost:8080/"
        },
        "id": "j0JtehYWDVYp",
        "outputId": "5cf3a924-450b-4733-e9c4-79cd4b035b69"
      },
      "source": [
        "a='python'\n",
        "b='123python'\n",
        "s1=''\n",
        "s=''\n",
        "for c in a:\n",
        "    s +=c*1\n",
        "    print(s)\n",
        "print('*'*60)\n",
        "print('*'*60)\n",
        "\n",
        "\n",
        "for c in b:\n",
        "    s1 +=c*1\n",
        "    print(s1)\n",
        "print('*'*40)  "
      ],
      "execution_count": 16,
      "outputs": [
        {
          "output_type": "stream",
          "name": "stdout",
          "text": [
            "p\n",
            "py\n",
            "pyt\n",
            "pyth\n",
            "pytho\n",
            "python\n",
            "************************************************************\n",
            "************************************************************\n",
            "1\n",
            "12\n",
            "123\n",
            "123p\n",
            "123py\n",
            "123pyt\n",
            "123pyth\n",
            "123pytho\n",
            "123python\n",
            "****************************************\n"
          ]
        }
      ]
    },
    {
      "cell_type": "code",
      "metadata": {
        "colab": {
          "base_uri": "https://localhost:8080/"
        },
        "id": "XwtPO1mcKRM1",
        "outputId": "98142742-f666-49fb-e36e-976e83cd9ce9"
      },
      "source": [
        "t=int(input('enter t values:'))\n",
        "s=int(input('enter srt values:'))\n",
        "s1=int(input('enter stp values:'))\n",
        "for i in range(s1,s-1,-1):\n",
        "  print(t,'*',i,'=',t*i)"
      ],
      "execution_count": 22,
      "outputs": [
        {
          "output_type": "stream",
          "name": "stdout",
          "text": [
            "enter t values:20\n",
            "enter srt values:1\n",
            "enter stp values:10\n",
            "20 * 10 = 200\n",
            "20 * 9 = 180\n",
            "20 * 8 = 160\n",
            "20 * 7 = 140\n",
            "20 * 6 = 120\n",
            "20 * 5 = 100\n",
            "20 * 4 = 80\n",
            "20 * 3 = 60\n",
            "20 * 2 = 40\n",
            "20 * 1 = 20\n"
          ]
        }
      ]
    },
    {
      "cell_type": "code",
      "metadata": {
        "colab": {
          "base_uri": "https://localhost:8080/"
        },
        "id": "9JHmtMR-KbPK",
        "outputId": "9ab01976-4a03-4f1e-d92f-2d7478e2c53d"
      },
      "source": [
        "g=20\n",
        "s=1\n",
        "s1=10\n",
        "for i in range(s1,s-1,-1):\n",
        "  print(g,'*',i,'=',g*i)"
      ],
      "execution_count": 23,
      "outputs": [
        {
          "output_type": "stream",
          "name": "stdout",
          "text": [
            "20 * 10 = 200\n",
            "20 * 9 = 180\n",
            "20 * 8 = 160\n",
            "20 * 7 = 140\n",
            "20 * 6 = 120\n",
            "20 * 5 = 100\n",
            "20 * 4 = 80\n",
            "20 * 3 = 60\n",
            "20 * 2 = 40\n",
            "20 * 1 = 20\n"
          ]
        }
      ]
    },
    {
      "cell_type": "code",
      "metadata": {
        "id": "lAFtOyESLePz"
      },
      "source": [
        ""
      ],
      "execution_count": null,
      "outputs": []
    }
  ]
}