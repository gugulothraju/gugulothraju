{
  "nbformat": 4,
  "nbformat_minor": 0,
  "metadata": {
    "colab": {
      "name": "loop, nested loop 6/10/2021.ipynb",
      "provenance": [],
      "collapsed_sections": [],
      "authorship_tag": "ABX9TyMXbtq9Q8b3uPRgB2yNE4fG",
      "include_colab_link": true
    },
    "kernelspec": {
      "name": "python3",
      "display_name": "Python 3"
    },
    "language_info": {
      "name": "python"
    }
  },
  "cells": [
    {
      "cell_type": "markdown",
      "metadata": {
        "id": "view-in-github",
        "colab_type": "text"
      },
      "source": [
        "<a href=\"https://colab.research.google.com/github/gugulothraju/gugulothraju/blob/main/loop%2C_nested_loop_6_10_2021.ipynb\" target=\"_parent\"><img src=\"https://colab.research.google.com/assets/colab-badge.svg\" alt=\"Open In Colab\"/></a>"
      ]
    },
    {
      "cell_type": "code",
      "metadata": {
        "colab": {
          "base_uri": "https://localhost:8080/"
        },
        "id": "LJum4B0B_FFi",
        "outputId": "6df87205-3b8e-4ff3-c87d-db1f34560612"
      },
      "source": [
        "s='good afternoon'\n",
        "for i in s:\n",
        "   if i in 'aeiouAEIOU':\n",
        "     print()\n",
        "     print(i, end='')\n",
        "   else:\n",
        "     print(i, end='')  \n"
      ],
      "execution_count": null,
      "outputs": [
        {
          "output_type": "stream",
          "name": "stdout",
          "text": [
            "g\n",
            "o\n",
            "od \n",
            "aft\n",
            "ern\n",
            "o\n",
            "on"
          ]
        }
      ]
    },
    {
      "cell_type": "code",
      "metadata": {
        "colab": {
          "base_uri": "https://localhost:8080/"
        },
        "id": "tKX3kLYT_g5S",
        "outputId": "f68e9744-07e7-47fe-995b-af832b96abeb"
      },
      "source": [
        "s='python'\n",
        "for i in s:\n",
        "  print(i)\n",
        "  "
      ],
      "execution_count": null,
      "outputs": [
        {
          "output_type": "stream",
          "name": "stdout",
          "text": [
            "p\n",
            "y\n",
            "t\n",
            "h\n",
            "o\n",
            "n\n"
          ]
        }
      ]
    },
    {
      "cell_type": "code",
      "metadata": {
        "colab": {
          "base_uri": "https://localhost:8080/"
        },
        "id": "Bp1iqbPeI-tD",
        "outputId": "68cf6510-a8d6-4c02-80ad-28c148e27540"
      },
      "source": [
        "s='python'\n",
        "v=''\n",
        "for i in  s:\n",
        "     v+=i*1\n",
        "     print(v)"
      ],
      "execution_count": null,
      "outputs": [
        {
          "output_type": "stream",
          "name": "stdout",
          "text": [
            "p\n",
            "py\n",
            "pyt\n",
            "pyth\n",
            "pytho\n",
            "python\n"
          ]
        }
      ]
    },
    {
      "cell_type": "code",
      "metadata": {
        "colab": {
          "base_uri": "https://localhost:8080/"
        },
        "id": "bK_b6sSOIBEZ",
        "outputId": "c094fb10-c13c-42b7-d546-39b12e437a91"
      },
      "source": [
        "for i in range(1,6):\n",
        "   for j in range(1,i+1):\n",
        "      print(j,end='  ')\n",
        "   print()"
      ],
      "execution_count": null,
      "outputs": [
        {
          "output_type": "stream",
          "name": "stdout",
          "text": [
            "1  \n",
            "1  2  \n",
            "1  2  3  \n",
            "1  2  3  4  \n",
            "1  2  3  4  5  \n"
          ]
        }
      ]
    },
    {
      "cell_type": "code",
      "metadata": {
        "colab": {
          "base_uri": "https://localhost:8080/"
        },
        "id": "X4u7uZT4_zA8",
        "outputId": "5f69c21b-552c-44d7-ec38-963c14bcfe42"
      },
      "source": [
        "s='python'\n",
        "l=len(s)\n",
        "for i in range(l):\n",
        "  for j in range (i+1):\n",
        "   print(s[j], end=' ')\n",
        "  print() "
      ],
      "execution_count": null,
      "outputs": [
        {
          "output_type": "stream",
          "name": "stdout",
          "text": [
            "p \n",
            "p y \n",
            "p y t \n",
            "p y t h \n",
            "p y t h o \n",
            "p y t h o n \n"
          ]
        }
      ]
    },
    {
      "cell_type": "code",
      "metadata": {
        "colab": {
          "base_uri": "https://localhost:8080/",
          "height": 231
        },
        "id": "BCimg8TUADmP",
        "outputId": "ad4de3aa-634d-44b7-90a1-fe75bde3ec10"
      },
      "source": [
        "s='python'\n",
        "for i in s:\n",
        "  print(i)\n",
        "  del i\n",
        "  del s"
      ],
      "execution_count": null,
      "outputs": [
        {
          "output_type": "stream",
          "name": "stdout",
          "text": [
            "p\n",
            "y\n"
          ]
        },
        {
          "output_type": "error",
          "ename": "NameError",
          "evalue": "ignored",
          "traceback": [
            "\u001b[0;31m---------------------------------------------------------------------------\u001b[0m",
            "\u001b[0;31mNameError\u001b[0m                                 Traceback (most recent call last)",
            "\u001b[0;32m<ipython-input-18-98b7adf8f80a>\u001b[0m in \u001b[0;36m<module>\u001b[0;34m()\u001b[0m\n\u001b[1;32m      3\u001b[0m   \u001b[0mprint\u001b[0m\u001b[0;34m(\u001b[0m\u001b[0mi\u001b[0m\u001b[0;34m)\u001b[0m\u001b[0;34m\u001b[0m\u001b[0;34m\u001b[0m\u001b[0m\n\u001b[1;32m      4\u001b[0m   \u001b[0;32mdel\u001b[0m \u001b[0mi\u001b[0m\u001b[0;34m\u001b[0m\u001b[0;34m\u001b[0m\u001b[0m\n\u001b[0;32m----> 5\u001b[0;31m   \u001b[0;32mdel\u001b[0m \u001b[0ms\u001b[0m\u001b[0;34m\u001b[0m\u001b[0;34m\u001b[0m\u001b[0m\n\u001b[0m",
            "\u001b[0;31mNameError\u001b[0m: name 's' is not defined"
          ]
        }
      ]
    },
    {
      "cell_type": "code",
      "metadata": {
        "colab": {
          "base_uri": "https://localhost:8080/"
        },
        "id": "WG0vMNsGBb9e",
        "outputId": "9731042e-a324-4675-9ac9-2ec5aaeec939"
      },
      "source": [
        "s='python'\n",
        "for i in s:\n",
        "  print(i)\n",
        "  del i\n"
      ],
      "execution_count": null,
      "outputs": [
        {
          "output_type": "stream",
          "name": "stdout",
          "text": [
            "p\n",
            "y\n",
            "t\n",
            "h\n",
            "o\n",
            "n\n"
          ]
        }
      ]
    },
    {
      "cell_type": "code",
      "metadata": {
        "colab": {
          "base_uri": "https://localhost:8080/"
        },
        "id": "_ljJ0a04BgIV",
        "outputId": "21596db7-597f-4699-cd19-c39db2496cb6"
      },
      "source": [
        "for i in range(4):\n",
        "  for j in range(5):\n",
        "    print(i, j)\n",
        "  print()"
      ],
      "execution_count": null,
      "outputs": [
        {
          "output_type": "stream",
          "name": "stdout",
          "text": [
            "0 0\n",
            "0 1\n",
            "0 2\n",
            "0 3\n",
            "0 4\n",
            "\n",
            "1 0\n",
            "1 1\n",
            "1 2\n",
            "1 3\n",
            "1 4\n",
            "\n",
            "2 0\n",
            "2 1\n",
            "2 2\n",
            "2 3\n",
            "2 4\n",
            "\n",
            "3 0\n",
            "3 1\n",
            "3 2\n",
            "3 3\n",
            "3 4\n",
            "\n"
          ]
        }
      ]
    },
    {
      "cell_type": "code",
      "metadata": {
        "colab": {
          "base_uri": "https://localhost:8080/"
        },
        "id": "XyFZ0KNsBwI2",
        "outputId": "ec56bf67-2a13-4f8f-92a5-03f4c96c2098"
      },
      "source": [
        "s='python'\n",
        "for i in s:\n",
        "  print(i)\n",
        "  s='django'"
      ],
      "execution_count": null,
      "outputs": [
        {
          "output_type": "stream",
          "name": "stdout",
          "text": [
            "p\n",
            "y\n",
            "t\n",
            "h\n",
            "o\n",
            "n\n"
          ]
        }
      ]
    },
    {
      "cell_type": "code",
      "metadata": {
        "colab": {
          "base_uri": "https://localhost:8080/"
        },
        "id": "bV1zsyp5CMWF",
        "outputId": "edf5f42b-0cc1-4e05-ca06-af10dd78cfe7"
      },
      "source": [
        "s='python'\n",
        "for i in s:\n",
        "  print(i, end='   ')\n",
        "  s='django'\n",
        "  print(s)\n",
        "print()  "
      ],
      "execution_count": null,
      "outputs": [
        {
          "output_type": "stream",
          "name": "stdout",
          "text": [
            "p   django\n",
            "y   django\n",
            "t   django\n",
            "h   django\n",
            "o   django\n",
            "n   django\n",
            "\n"
          ]
        }
      ]
    },
    {
      "cell_type": "code",
      "metadata": {
        "colab": {
          "base_uri": "https://localhost:8080/"
        },
        "id": "eLX80FfCCXXh",
        "outputId": "3f5408b4-dd52-402d-ac98-27af9d7a2142"
      },
      "source": [
        "s='python'\n",
        "for i in s:\n",
        "  print(i, id(i), end='   ')\n",
        "  s='django'\n",
        "  print(s, id(s))\n",
        "print()  "
      ],
      "execution_count": 81,
      "outputs": [
        {
          "output_type": "stream",
          "name": "stdout",
          "text": [
            "p 140042276271792   django 140042247707440\n",
            "y 140042276010288   django 140042247707440\n",
            "t 140042277021936   django 140042247707440\n",
            "h 140042276397552   django 140042247707440\n",
            "o 140042276398000   django 140042247707440\n",
            "n 140042276374448   django 140042247707440\n",
            "\n"
          ]
        }
      ]
    },
    {
      "cell_type": "code",
      "metadata": {
        "colab": {
          "base_uri": "https://localhost:8080/"
        },
        "id": "uojc1_0NOpKn",
        "outputId": "e57badcd-a6c6-4a08-ef33-deab346df920"
      },
      "source": [
        "table=int(input('enter table number:'))\n",
        "start_value=int(input('enter start values:'))\n",
        "stop_value=int(input('enter stop values:'))\n",
        "stop_value+=2-1\n",
        "for i in range(start_value,stop_value):\n",
        "  print(table,'*',i,'=',table*i)\n"
      ],
      "execution_count": 82,
      "outputs": [
        {
          "output_type": "stream",
          "name": "stdout",
          "text": [
            "enter table number:10\n",
            "enter start values:1\n",
            "enter stop values:10\n",
            "10 * 1 = 10\n",
            "10 * 2 = 20\n",
            "10 * 3 = 30\n",
            "10 * 4 = 40\n",
            "10 * 5 = 50\n",
            "10 * 6 = 60\n",
            "10 * 7 = 70\n",
            "10 * 8 = 80\n",
            "10 * 9 = 90\n",
            "10 * 10 = 100\n"
          ]
        }
      ]
    },
    {
      "cell_type": "code",
      "metadata": {
        "colab": {
          "base_uri": "https://localhost:8080/"
        },
        "id": "pWci4CihCtRP",
        "outputId": "d903fe64-b0e9-4260-e4d3-8c05dd0fec8a"
      },
      "source": [
        "table=int(input('enter table number:'))\n",
        "start_value=int(input('enter start values:'))\n",
        "stop_value=int(input('enter stop values:'))\n",
        "for i in range(start_value,stop_value):\n",
        "  print(table,'*',i,'=',table*i)\n"
      ],
      "execution_count": 83,
      "outputs": [
        {
          "output_type": "stream",
          "name": "stdout",
          "text": [
            "enter table number:8\n",
            "enter start values:1\n",
            "enter stop values:10\n",
            "8 * 1 = 8\n",
            "8 * 2 = 16\n",
            "8 * 3 = 24\n",
            "8 * 4 = 32\n",
            "8 * 5 = 40\n",
            "8 * 6 = 48\n",
            "8 * 7 = 56\n",
            "8 * 8 = 64\n",
            "8 * 9 = 72\n"
          ]
        }
      ]
    },
    {
      "cell_type": "code",
      "metadata": {
        "colab": {
          "base_uri": "https://localhost:8080/"
        },
        "id": "ikdmRA0BEQ-k",
        "outputId": "663bc3e0-2823-453d-fde3-25e0f1dac9a1"
      },
      "source": [
        "table=int(input('enter table number:'))\n",
        "start_value=int(input('enter start values:'))\n",
        "stop_value=int(input('enter stop values:'))\n",
        "for i in range(stop_value, start_value-1,-1):\n",
        "  print(table,'*',i,'=',table*i)\n"
      ],
      "execution_count": 84,
      "outputs": [
        {
          "output_type": "stream",
          "name": "stdout",
          "text": [
            "enter table number:17\n",
            "enter start values:1\n",
            "enter stop values:10\n",
            "17 * 10 = 170\n",
            "17 * 9 = 153\n",
            "17 * 8 = 136\n",
            "17 * 7 = 119\n",
            "17 * 6 = 102\n",
            "17 * 5 = 85\n",
            "17 * 4 = 68\n",
            "17 * 3 = 51\n",
            "17 * 2 = 34\n",
            "17 * 1 = 17\n"
          ]
        }
      ]
    },
    {
      "cell_type": "code",
      "metadata": {
        "colab": {
          "base_uri": "https://localhost:8080/"
        },
        "id": "Bo1FxoanOPKO",
        "outputId": "c2560ee3-b9a0-49a5-ddf8-32d4faca1422"
      },
      "source": [
        "                                                                        table=int(input('enter table number:'))\n",
        "start_value=int(input('enter start values:'))\n",
        "stop_value=int(input('enter stop values:'))\n",
        "stop_value+=1-1\n",
        "for i in range(stop_value, start_value-1,-1):\n",
        "  print(table,'*',i,'=',table*i)\n"
      ],
      "execution_count": 62,
      "outputs": [
        {
          "output_type": "stream",
          "name": "stdout",
          "text": [
            "enter table number:5\n",
            "enter start values:1\n",
            "enter stop values:15\n",
            "5 * 15 = 75\n",
            "5 * 14 = 70\n",
            "5 * 13 = 65\n",
            "5 * 12 = 60\n",
            "5 * 11 = 55\n",
            "5 * 10 = 50\n",
            "5 * 9 = 45\n",
            "5 * 8 = 40\n",
            "5 * 7 = 35\n",
            "5 * 6 = 30\n",
            "5 * 5 = 25\n",
            "5 * 4 = 20\n",
            "5 * 3 = 15\n",
            "5 * 2 = 10\n",
            "5 * 1 = 5\n"
          ]
        }
      ]
    },
    {
      "cell_type": "code",
      "metadata": {
        "colab": {
          "base_uri": "https://localhost:8080/"
        },
        "id": "lb5lTPuzHteI",
        "outputId": "04c2d93c-a342-4e10-eecf-be9a4427d395"
      },
      "source": [
        "s='django'\n",
        "for i in s:\n",
        "  i=150\n",
        "  print(i)\n",
        "print()  "
      ],
      "execution_count": null,
      "outputs": [
        {
          "output_type": "stream",
          "name": "stdout",
          "text": [
            "150\n",
            "150\n",
            "150\n",
            "150\n",
            "150\n",
            "150\n",
            "\n"
          ]
        }
      ]
    },
    {
      "cell_type": "code",
      "metadata": {
        "colab": {
          "base_uri": "https://localhost:8080/"
        },
        "id": "uOucucXlO-p4",
        "outputId": "602b5245-c81c-4594-9495-e7447751230c"
      },
      "source": [
        "s='django'\n",
        "l=len(s)\n",
        "for i in range(l):\n",
        "   for j in range(i+1):\n",
        "       print(i, end='  ')\n",
        "   print()  "
      ],
      "execution_count": 77,
      "outputs": [
        {
          "output_type": "stream",
          "name": "stdout",
          "text": [
            "0  \n",
            "1  1  \n",
            "2  2  2  \n",
            "3  3  3  3  \n",
            "4  4  4  4  4  \n",
            "5  5  5  5  5  5  \n"
          ]
        }
      ]
    },
    {
      "cell_type": "code",
      "metadata": {
        "colab": {
          "base_uri": "https://localhost:8080/"
        },
        "id": "zXa9zIC5KHma",
        "outputId": "dc01b96b-2610-49c1-8f4d-277fbcc82b14"
      },
      "source": [
        "s='django'\n",
        "for i in s:\n",
        "  print(i, end='')\n",
        "  i=150\n",
        "print()  "
      ],
      "execution_count": 78,
      "outputs": [
        {
          "output_type": "stream",
          "name": "stdout",
          "text": [
            "django\n"
          ]
        }
      ]
    },
    {
      "cell_type": "code",
      "metadata": {
        "id": "Kf5PJTeMLAnP"
      },
      "source": [
        ""
      ],
      "execution_count": null,
      "outputs": []
    }
  ]
}