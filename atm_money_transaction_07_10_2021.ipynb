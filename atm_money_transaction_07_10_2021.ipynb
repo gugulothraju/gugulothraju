{
  "nbformat": 4,
  "nbformat_minor": 0,
  "metadata": {
    "colab": {
      "name": "atm money transaction 07/10/2021.ipynb",
      "provenance": [],
      "collapsed_sections": [],
      "authorship_tag": "ABX9TyOwIN/v026ZOha2mZnARM0U",
      "include_colab_link": true
    },
    "kernelspec": {
      "name": "python3",
      "display_name": "Python 3"
    },
    "language_info": {
      "name": "python"
    }
  },
  "cells": [
    {
      "cell_type": "markdown",
      "metadata": {
        "id": "view-in-github",
        "colab_type": "text"
      },
      "source": [
        "<a href=\"https://colab.research.google.com/github/gugulothraju/gugulothraju/blob/main/atm_money_transaction_07_10_2021.ipynb\" target=\"_parent\"><img src=\"https://colab.research.google.com/assets/colab-badge.svg\" alt=\"Open In Colab\"/></a>"
      ]
    },
    {
      "cell_type": "code",
      "metadata": {
        "colab": {
          "base_uri": "https://localhost:8080/"
        },
        "id": "mhDdMx9zsGnX",
        "outputId": "dd463fcc-a04e-442e-c976-c33d2c2fcb7a"
      },
      "source": [
        "s='raju nayak'\n",
        "for  index,value in enumerate(s):\n",
        "   if index%2==0:\n",
        "     print(value.upper(), end=' ')\n",
        "   else:\n",
        "     print(value, end='  ')  "
      ],
      "execution_count": null,
      "outputs": [
        {
          "output_type": "stream",
          "name": "stdout",
          "text": [
            "R a  J u    n  A y  A k  "
          ]
        }
      ]
    },
    {
      "cell_type": "code",
      "metadata": {
        "colab": {
          "base_uri": "https://localhost:8080/"
        },
        "id": "hlvgfNXiMkkT",
        "outputId": "c41c1043-8df3-492f-d585-ac445b762c42"
      },
      "source": [
        "for  i in range(10):\n",
        "   if i%2==0:\n",
        "     print(i, end=' ')\n",
        "   else:\n",
        "     print(i) "
      ],
      "execution_count": 205,
      "outputs": [
        {
          "output_type": "stream",
          "name": "stdout",
          "text": [
            "0 1\n",
            "2 3\n",
            "4 5\n",
            "6 7\n",
            "8 9\n"
          ]
        }
      ]
    },
    {
      "cell_type": "code",
      "metadata": {
        "colab": {
          "base_uri": "https://localhost:8080/"
        },
        "id": "Bx_F4h5wu8HY",
        "outputId": "4c7f78b5-7220-42c6-eef7-fb23e3ae0270"
      },
      "source": [
        "s='raju%%$$^%$123214632nayak'\n",
        "t=''\n",
        "for i in s:\n",
        "  if i.isdigit()==True:\n",
        "    t=t+i\n",
        "for  index,value in enumerate(s):\n",
        "   if index%2==0:\n",
        "     print(value.upper(), end=' ')\n",
        "   else:\n",
        "     print(value, end='  ')     \n",
        "  \n"
      ],
      "execution_count": 204,
      "outputs": [
        {
          "output_type": "stream",
          "name": "stdout",
          "text": [
            "R a  J u  % %  $ $  ^ %  $ 1  2 3  2 1  4 6  3 2  N a  Y a  K "
          ]
        }
      ]
    },
    {
      "cell_type": "code",
      "metadata": {
        "id": "Wk3piQXCxKS7"
      },
      "source": [
        "for i in range(6):\n",
        "  for j in range(i):\n",
        "     if i%2!=0:\n",
        "         print()\n",
        "         print(i, end=' ')  \n",
        "\n",
        "\n",
        "         \n",
        "             \n",
        "     else:  \n",
        "         print(j,end=' ') \n",
        "  print()         \n",
        "    "
      ],
      "execution_count": null,
      "outputs": []
    },
    {
      "cell_type": "code",
      "metadata": {
        "colab": {
          "base_uri": "https://localhost:8080/"
        },
        "id": "ID2uxHAPzLqa",
        "outputId": "33dd2c47-bbea-4c27-f60f-2882cf1556bb"
      },
      "source": [
        "s='raju%%$$^%$123214632nayak'\n",
        "t=''\n",
        "for i in s:\n",
        "  if i.isalpha()==True:\n",
        "    t=t+i\n",
        "for  index,value in enumerate(t):\n",
        "   if index%2==0:\n",
        "     print(value.upper(), end=' ')\n",
        "   else:\n",
        "     print(value, end='  ')     \n",
        "  \n"
      ],
      "execution_count": null,
      "outputs": [
        {
          "output_type": "stream",
          "name": "stdout",
          "text": [
            "R a  J u  N a  Y a  K "
          ]
        }
      ]
    },
    {
      "cell_type": "code",
      "metadata": {
        "colab": {
          "base_uri": "https://localhost:8080/"
        },
        "id": "-vcMzjKJ2VVV",
        "outputId": "521e2cb3-6bbf-42a2-f0d4-8f2b70d784bd"
      },
      "source": [
        "s='raju%%$$^%$123214632nayak'\n",
        "t=''\n",
        "for i in s:\n",
        "  if i.isalpha()==True:\n",
        "    t=t+i\n",
        "    print(i, end=' ')"
      ],
      "execution_count": null,
      "outputs": [
        {
          "output_type": "stream",
          "name": "stdout",
          "text": [
            "r a j u n a y a k "
          ]
        }
      ]
    },
    {
      "cell_type": "code",
      "metadata": {
        "id": "xmIMAjxE21ft",
        "colab": {
          "base_uri": "https://localhost:8080/"
        },
        "outputId": "8bcceba6-a629-48f7-caff-f79765c1f8a2"
      },
      "source": [
        "s='raju123rahul%%$$^%$123214632nayak'\n",
        "t=''\n",
        "for i in s:\n",
        "  if i.isalpha()==True:\n",
        "     t=t+i   \n",
        "\n",
        "for  index,value in enumerate(t):\n",
        "  if index%2==0:\n",
        "     print(value.upper(), end='')\n",
        "  else:\n",
        "     print(value, end='')     \n",
        "    \n"
      ],
      "execution_count": null,
      "outputs": [
        {
          "output_type": "stream",
          "name": "stdout",
          "text": [
            "RaJuNaYaK"
          ]
        }
      ]
    },
    {
      "cell_type": "code",
      "metadata": {
        "id": "ELs06pqN3McW",
        "colab": {
          "base_uri": "https://localhost:8080/"
        },
        "outputId": "54cdf9e1-f100-4f7a-b516-ab79c6424b9e"
      },
      "source": [
        "s='raju123rahul$^%^#@#$$#%$#^nayak'\n",
        "t=''\n",
        "for i in s:\n",
        "  if i.isalpha()==True:\n",
        "    t=t+i\n",
        "else:  \n",
        "   for  index,value in enumerate(t):\n",
        "      if index%2==0:\n",
        "        print(value.upper(), end='')\n",
        "      else:\n",
        "        print(value, end='')     \n",
        "    "
      ],
      "execution_count": null,
      "outputs": [
        {
          "output_type": "stream",
          "name": "stdout",
          "text": [
            "RaJuRaHuLnAyAk"
          ]
        }
      ]
    },
    {
      "cell_type": "code",
      "metadata": {
        "colab": {
          "base_uri": "https://localhost:8080/"
        },
        "id": "qEPNBCF07zX9",
        "outputId": "c424077c-a32c-4347-a01a-d0e7b3ca4614"
      },
      "source": [
        "amount=9999\n",
        "\n",
        "if amount>=100:\n",
        "  print(amount//100,'100s')\n",
        "  amount=amount%100\n",
        "if amount>=50:\n",
        "  print(amount//50,'50s')\n",
        "  amount=amount%50\n",
        "if amount>=20:\n",
        "  print(amount//20,'20s')\n",
        "  amount=amount%20\n",
        "if amount>=10:\n",
        "  print(amount//10,'10s')\n",
        "  amount=amount%10      "
      ],
      "execution_count": null,
      "outputs": [
        {
          "output_type": "stream",
          "name": "stdout",
          "text": [
            "99 100s\n",
            "1 50s\n",
            "2 20s\n"
          ]
        }
      ]
    },
    {
      "cell_type": "code",
      "metadata": {
        "colab": {
          "base_uri": "https://localhost:8080/"
        },
        "id": "H8NyQomJ9OWQ",
        "outputId": "3b55cbc9-0191-49a7-b96c-e6411b48dd61"
      },
      "source": [
        "amount=942\n",
        "count_100=0\n",
        "count_50=0\n",
        "count_20=0\n",
        "count_10=0\n",
        "\n",
        "if amount>=100:\n",
        "  count_100=amount//100\n",
        "  amount=amount % 100\n",
        "if amount>=50:\n",
        "  count_50=amount//50\n",
        "  amount=amount%50\n",
        "if amount>=20:\n",
        "  count_20=amount//20\n",
        "  amount=amount%20\n",
        "if amount>=10:\n",
        "  count_10=amount//10\n",
        "  amount=amount%10  \n",
        "\n",
        "print(count_100,'100s')  \n",
        "print(count_50,'50s')  \n",
        "print(count_20,'20s')  \n",
        "print(count_10,'10s')  "
      ],
      "execution_count": null,
      "outputs": [
        {
          "output_type": "stream",
          "name": "stdout",
          "text": [
            "9 100s\n",
            "0 50s\n",
            "2 20s\n",
            "0 10s\n"
          ]
        }
      ]
    },
    {
      "cell_type": "code",
      "metadata": {
        "colab": {
          "base_uri": "https://localhost:8080/"
        },
        "id": "c3F4PGnl96uA",
        "outputId": "53271e28-1f06-4836-a407-c2ffd6cffc17"
      },
      "source": [
        "amount=input('enter amount :')\n",
        "amount=int(int(amount))\n",
        "count_100=0\n",
        "count_50=0\n",
        "count_20=0\n",
        "count_10=0\n",
        "\n",
        "if amount>=100:\n",
        "  count_100=amount//100\n",
        "  amount=amount % 100\n",
        "if amount>=50:\n",
        "  count_50=amount//50\n",
        "  amount=amount%50\n",
        "if amount>=20:\n",
        "  count_20=amount//20\n",
        "  amount=amount%20\n",
        "if amount>=10:\n",
        "  count_10=amount//10\n",
        "  amount=amount%10  \n",
        "\n",
        "print(count_100,'100s')  \n",
        "print(count_50,'50s')  \n",
        "print(count_20,'20s')  \n",
        "print(count_10,'10s')  "
      ],
      "execution_count": null,
      "outputs": [
        {
          "output_type": "stream",
          "name": "stdout",
          "text": [
            "enter amount :-100\n",
            "0 100s\n",
            "0 50s\n",
            "0 20s\n",
            "0 10s\n"
          ]
        }
      ]
    },
    {
      "cell_type": "code",
      "metadata": {
        "colab": {
          "base_uri": "https://localhost:8080/"
        },
        "id": "y9xye6aoAS8b",
        "outputId": "1f1e5dcb-e0d3-4d69-bc50-94a21eb2f7f3"
      },
      "source": [
        "amount=input('enter amount :')\n",
        "\n",
        "count_100=0\n",
        "count_50=0\n",
        "count_20=0\n",
        "count_10=0\n",
        "if amount.isdigit()==True:\n",
        " amount=int(int(amount))\n",
        " if amount>=100:\n",
        "    count_100=amount//100\n",
        "    amount=amount % 100\n",
        " if amount>=50:\n",
        "    count_50=amount//50\n",
        "    amount=amount%50\n",
        " if amount>=20:\n",
        "    count_20=amount//20\n",
        "    amount=amount%20\n",
        " if amount>=10:\n",
        "    count_10=amount//10\n",
        "    amount=amount%10  \n",
        "\n",
        " print(count_100,'100s')  \n",
        " print(count_50,'50s')  \n",
        " print(count_20,'20s')  \n",
        " print(count_10,'10s')  \n",
        "\n",
        "else:\n",
        "  print('invalid input')"
      ],
      "execution_count": null,
      "outputs": [
        {
          "output_type": "stream",
          "name": "stdout",
          "text": [
            "enter amount :889754\n",
            "8897 100s\n",
            "1 50s\n",
            "0 20s\n",
            "0 10s\n"
          ]
        }
      ]
    },
    {
      "cell_type": "code",
      "metadata": {
        "colab": {
          "base_uri": "https://localhost:8080/"
        },
        "id": "ioAbcz1ZAsVB",
        "outputId": "c0e46866-b7f8-4d05-b947-19229f4ed2de"
      },
      "source": [
        "amount=input('enter amount :')\n",
        "\n",
        "count_200=0\n",
        "count_500=0\n",
        "count_100=0\n",
        "count_50=0\n",
        "count_20=0\n",
        "count_10=0\n",
        "if amount.isdigit()==True:\n",
        " amount=int(int(amount))\n",
        " if amount>=2000:\n",
        "    count_2000=amount//2000\n",
        "    amount=amount % 2000\n",
        " if amount>=500:\n",
        "    count_500=amount//500\n",
        "    amount=amount % 500\n",
        " if amount>=100:\n",
        "    count_100=amount//100\n",
        "    amount=amount % 100\n",
        " if amount>=50:\n",
        "    count_50=amount//50\n",
        "    amount=amount%50\n",
        " if amount>=20:\n",
        "    count_20=amount//20\n",
        "    amount=amount%20\n",
        " if amount>=10:\n",
        "    count_10=amount//10\n",
        "    amount=amount%10  \n",
        "\n",
        "\n",
        " print(count_2000,'200s')   \n",
        " print(count_500,'500s')\n",
        " print(count_100,'100s')  \n",
        " print(count_50,'50s')  \n",
        " print(count_20,'20s')  \n",
        " print(count_10,'10s')\n",
        " print(amount,'5 rupees coins')  \n",
        " print(amount,'2 rupees coins')\n",
        " print(amount, '1 rupees coins')\n",
        "\n",
        "else:\n",
        "  print('invalid input')"
      ],
      "execution_count": null,
      "outputs": [
        {
          "output_type": "stream",
          "name": "stdout",
          "text": [
            "enter amount :9182804349\n",
            "4591402 200s\n",
            "0 500s\n",
            "3 100s\n",
            "0 50s\n",
            "2 20s\n",
            "0 10s\n",
            "9 5 rupees coins\n",
            "9 2 rupees coins\n",
            "9 1 rupees coins\n"
          ]
        }
      ]
    },
    {
      "cell_type": "code",
      "metadata": {
        "id": "Gp9QO-p6CWbw",
        "colab": {
          "base_uri": "https://localhost:8080/"
        },
        "outputId": "6a28efdb-36f8-4ab6-9977-a4e070861ed2"
      },
      "source": [
        "amount=input('enter amount :')\n",
        "\n",
        "count_2000=0\n",
        "count_500=0\n",
        "count_200=0\n",
        "count_100=0\n",
        "count_50=0\n",
        "count_20=0\n",
        "count_10=0\n",
        "status_2000 =True\n",
        "status_500  =True\n",
        "status_200  =True\n",
        "status_100  =True\n",
        "status_50   =True\n",
        "status_20   =True\n",
        "status_10   =True\n",
        "if amount.isdigit()==True:\n",
        " amount=int(int(amount))\n",
        " if amount>=2000 and status_2000 :\n",
        "    count_2000=amount//2000\n",
        "    amount=amount % 2000\n",
        " if amount>=500 and status_500 :\n",
        "    count_500=amount//500\n",
        "    amount=amount % 500\n",
        " if amount>=200 and status_200 :\n",
        "    count_200=amount//200\n",
        "    amount=amount % 200    \n",
        " if amount>=100 and status_100 :\n",
        "    count_100=amount//100\n",
        "\n",
        "\n",
        "    \n",
        "    amount=amount % 100\n",
        " if amount>=50 and status_50 :\n",
        "    count_50=amount//50\n",
        "    amount=amount%50\n",
        " if amount>=20 and status_20 :\n",
        "    count_20=amount//20\n",
        "    amount=amount%20\n",
        " if amount>=10 and status_10 :\n",
        "    count_10=amount//10\n",
        "    amount=amount%10  \n",
        "\n",
        "\n",
        " print(count_2000,'2000s')   \n",
        " print(count_500,'500s')\n",
        " print(count_200,'200s')  \n",
        " print(count_100,'100s')  \n",
        " print(count_50,'50s')  \n",
        " print(count_20,'20s')  \n",
        " print(count_10,'10s')\n",
        " print(amount,'5 rupees coins')  \n",
        " print(amount,'2 rupees coins') \n",
        " print(amount,'1 rupees coins') \n",
        "else:\n",
        "  print('invalid input') "
      ],
      "execution_count": 185,
      "outputs": [
        {
          "output_type": "stream",
          "name": "stdout",
          "text": [
            "enter amount :99999\n",
            "49 2000s\n",
            "3 500s\n",
            "2 200s\n",
            "0 100s\n",
            "1 50s\n",
            "2 20s\n",
            "0 10s\n",
            "9 5 rupees coins\n",
            "9 2 rupees coins\n",
            "9 1 rupees coins\n"
          ]
        }
      ]
    },
    {
      "cell_type": "code",
      "metadata": {
        "colab": {
          "base_uri": "https://localhost:8080/"
        },
        "id": "vz_SL4KPI02u",
        "outputId": "0910ee32-c217-45ff-ef8a-bddc36192b30"
      },
      "source": [
        "for i in range(10):\n",
        " pass\n",
        "else:\n",
        "  print(i) "
      ],
      "execution_count": 187,
      "outputs": [
        {
          "output_type": "stream",
          "name": "stdout",
          "text": [
            "9\n"
          ]
        }
      ]
    },
    {
      "cell_type": "code",
      "metadata": {
        "colab": {
          "base_uri": "https://localhost:8080/"
        },
        "id": "lAxoKHu4LWuG",
        "outputId": "810574f7-1737-45ec-ce55-0c1fa2bdadf8"
      },
      "source": [
        "s='raju'\n",
        "print(s.count(''))"
      ],
      "execution_count": 194,
      "outputs": [
        {
          "output_type": "stream",
          "name": "stdout",
          "text": [
            "5\n"
          ]
        }
      ]
    },
    {
      "cell_type": "code",
      "metadata": {
        "colab": {
          "base_uri": "https://localhost:8080/"
        },
        "id": "AHl1zMOfLhw6",
        "outputId": "ddd72e46-4613-4b6f-c8bf-0a40b2bfa975"
      },
      "source": [
        "s='raju'\n",
        "print(s.count('  '))"
      ],
      "execution_count": 195,
      "outputs": [
        {
          "output_type": "stream",
          "name": "stdout",
          "text": [
            "0\n"
          ]
        }
      ]
    }
  ]
}