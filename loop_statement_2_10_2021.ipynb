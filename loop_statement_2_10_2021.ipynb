{
  "nbformat": 4,
  "nbformat_minor": 0,
  "metadata": {
    "colab": {
      "name": "loop statement 2/10/2021.ipynb",
      "provenance": [],
      "collapsed_sections": [],
      "authorship_tag": "ABX9TyNekmtZDwuKqhgwM8Ex464g",
      "include_colab_link": true
    },
    "kernelspec": {
      "name": "python3",
      "display_name": "Python 3"
    },
    "language_info": {
      "name": "python"
    }
  },
  "cells": [
    {
      "cell_type": "markdown",
      "metadata": {
        "id": "view-in-github",
        "colab_type": "text"
      },
      "source": [
        "<a href=\"https://colab.research.google.com/github/gugulothraju/gugulothraju/blob/main/loop_statement_2_10_2021.ipynb\" target=\"_parent\"><img src=\"https://colab.research.google.com/assets/colab-badge.svg\" alt=\"Open In Colab\"/></a>"
      ]
    },
    {
      "cell_type": "markdown",
      "metadata": {
        "id": "I8mYN1HKhTmo"
      },
      "source": [
        ""
      ]
    },
    {
      "cell_type": "markdown",
      "metadata": {
        "id": "oln3Q6DChT4Q"
      },
      "source": [
        "loop statement\n",
        "for\n",
        "if else\n",
        "while\n",
        "if else"
      ]
    },
    {
      "cell_type": "code",
      "metadata": {
        "colab": {
          "base_uri": "https://localhost:8080/"
        },
        "id": "0rieC9BfhSf4",
        "outputId": "03ae047e-030f-451c-81c7-93623ae6e963"
      },
      "source": [
        "s='rahul guguloth'\n",
        "v=''\n",
        "c=''\n",
        "for i in s:\n",
        "  if i in 'aeiouAEIOU':\n",
        "    v=v+i\n",
        "  elif i not in 'aeionAEION':\n",
        "    c=c+i\n",
        "else:\n",
        "  print(v.upper())\n",
        "  print(c)"
      ],
      "execution_count": null,
      "outputs": [
        {
          "output_type": "stream",
          "name": "stdout",
          "text": [
            "AUUUO\n",
            "rhl gglth\n"
          ]
        }
      ]
    },
    {
      "cell_type": "code",
      "metadata": {
        "colab": {
          "base_uri": "https://localhost:8080/",
          "height": 130
        },
        "id": "y24I0Wv9hvsa",
        "outputId": "414bb70e-3963-4123-b8d7-a08b071bb2ea"
      },
      "source": [
        "n=input('enter int value:')\n",
        "n=int(n)\n",
        "  if n%2:\n",
        "    print('weired')\n",
        "  elif 2<=n<=5:\n",
        "    print('not weired')  \n",
        "  elif 6<=n<=20:\n",
        "    print('weired')\n",
        "  else:\n",
        "    print('not weired')"
      ],
      "execution_count": null,
      "outputs": [
        {
          "output_type": "error",
          "ename": "IndentationError",
          "evalue": "ignored",
          "traceback": [
            "\u001b[0;36m  File \u001b[0;32m\"<ipython-input-1-7a009bd944dc>\"\u001b[0;36m, line \u001b[0;32m3\u001b[0m\n\u001b[0;31m    if n%2:\u001b[0m\n\u001b[0m    ^\u001b[0m\n\u001b[0;31mIndentationError\u001b[0m\u001b[0;31m:\u001b[0m unexpected indent\n"
          ]
        }
      ]
    },
    {
      "cell_type": "code",
      "metadata": {
        "colab": {
          "base_uri": "https://localhost:8080/"
        },
        "id": "X8buCI2zmGig",
        "outputId": "4874171a-ebc5-4cc3-e558-8efb9f8fe26a"
      },
      "source": [
        "s='rahul guguloth'\n",
        "v=''\n",
        "c=''\n",
        "for i in s:\n",
        "  if i in 'aeiouAEIOU':\n",
        "    v=v+i\n",
        "  elif i not in 'aeionAEION':\n",
        "    c=c+i\n",
        "else:\n",
        "  print(v.upper())\n",
        "  print(c)\n",
        "print(len(v),len(c), sep='\\n') "
      ],
      "execution_count": null,
      "outputs": [
        {
          "output_type": "stream",
          "name": "stdout",
          "text": [
            "AUUUO\n",
            "rhl gglth\n",
            "5\n",
            "9\n"
          ]
        }
      ]
    },
    {
      "cell_type": "code",
      "metadata": {
        "colab": {
          "base_uri": "https://localhost:8080/"
        },
        "id": "07I8ma7goxFI",
        "outputId": "b368459b-1059-44bd-9efc-19b4387eb180"
      },
      "source": [
        "s='rahul guguloth'\n",
        "v=0\n",
        "c=0\n",
        "for i in s:\n",
        "  if i in 'aeiouAEIOU':\n",
        "    print(i.upper(), end='')\n",
        "    v=v+1\n",
        "print('\\n')\n",
        "for i in s:   \n",
        "  if i not in 'aeionAEION':\n",
        "    print(i, end='')\n",
        "    c=c+1\n",
        "print('\\n')    \n",
        "print(v,c, sep='\\n')    "
      ],
      "execution_count": null,
      "outputs": [
        {
          "output_type": "stream",
          "name": "stdout",
          "text": [
            "AUUUO\n",
            "\n",
            "rhul gugulth\n",
            "\n",
            "5\n",
            "12\n"
          ]
        }
      ]
    },
    {
      "cell_type": "code",
      "metadata": {
        "colab": {
          "base_uri": "https://localhost:8080/"
        },
        "id": "0pihG7frqRxa",
        "outputId": "822709be-a84a-46e3-d6d4-188367a3e729"
      },
      "source": [
        "for i in 'kumar nayak':\n",
        "    print('python',end='\\n')"
      ],
      "execution_count": 1,
      "outputs": [
        {
          "output_type": "stream",
          "name": "stdout",
          "text": [
            "python\n",
            "python\n",
            "python\n",
            "python\n",
            "python\n",
            "python\n",
            "python\n",
            "python\n",
            "python\n",
            "python\n",
            "python\n"
          ]
        }
      ]
    },
    {
      "cell_type": "code",
      "metadata": {
        "colab": {
          "base_uri": "https://localhost:8080/"
        },
        "id": "CRYsSS3TsksW",
        "outputId": "77ff8502-8dc6-4f96-eb65-a1a66769ffff"
      },
      "source": [
        "for i in 'jsdahfuyhairjfcbadhfa vkj':\n",
        "  print(i*10)"
      ],
      "execution_count": null,
      "outputs": [
        {
          "output_type": "stream",
          "name": "stdout",
          "text": [
            "jjjjjjjjjj\n",
            "ssssssssss\n",
            "dddddddddd\n",
            "aaaaaaaaaa\n",
            "hhhhhhhhhh\n",
            "ffffffffff\n",
            "uuuuuuuuuu\n",
            "yyyyyyyyyy\n",
            "hhhhhhhhhh\n",
            "aaaaaaaaaa\n",
            "iiiiiiiiii\n",
            "rrrrrrrrrr\n",
            "jjjjjjjjjj\n",
            "ffffffffff\n",
            "cccccccccc\n",
            "bbbbbbbbbb\n",
            "aaaaaaaaaa\n",
            "dddddddddd\n",
            "hhhhhhhhhh\n",
            "ffffffffff\n",
            "aaaaaaaaaa\n",
            "          \n",
            "vvvvvvvvvv\n",
            "kkkkkkkkkk\n",
            "jjjjjjjjjj\n"
          ]
        }
      ]
    },
    {
      "cell_type": "code",
      "metadata": {
        "colab": {
          "base_uri": "https://localhost:8080/"
        },
        "id": "5shyUsSes65-",
        "outputId": "1481f773-2d2f-4def-80b3-af2408a9dea4"
      },
      "source": [
        "x=24\n",
        "if x%2==0:\n",
        "  print(x)\n",
        "else:\n",
        "  print(x)  \n"
      ],
      "execution_count": null,
      "outputs": [
        {
          "output_type": "stream",
          "name": "stdout",
          "text": [
            "24\n"
          ]
        }
      ]
    },
    {
      "cell_type": "code",
      "metadata": {
        "colab": {
          "base_uri": "https://localhost:8080/"
        },
        "id": "0gEbP5yBtReA",
        "outputId": "214e2667-7af3-44ea-ca2e-845db36b5697"
      },
      "source": [
        "x=12\n",
        "if x==0:\n",
        "  print(x,\"is equal 10\")\n",
        "else:\n",
        "  print(x,\"is not eqal 10 \")  "
      ],
      "execution_count": null,
      "outputs": [
        {
          "output_type": "stream",
          "name": "stdout",
          "text": [
            "12 is not eqal 10 \n"
          ]
        }
      ]
    },
    {
      "cell_type": "code",
      "metadata": {
        "colab": {
          "base_uri": "https://localhost:8080/"
        },
        "id": "1e_bnyBPt64E",
        "outputId": "f5017f6b-2868-4364-d5a6-6a390b7b8bed"
      },
      "source": [
        "x=12\n",
        "if x%2==0:\n",
        "  print(\"True\")\n",
        "else:\n",
        "  print(\"False\")  \n"
      ],
      "execution_count": null,
      "outputs": [
        {
          "output_type": "stream",
          "name": "stdout",
          "text": [
            "True\n"
          ]
        }
      ]
    },
    {
      "cell_type": "code",
      "metadata": {
        "id": "XQdzouD9uLKj"
      },
      "source": [
        "x=10\n",
        "if x%2==0:\n",
        " pass\n",
        "else:\n",
        "  print(x)  "
      ],
      "execution_count": null,
      "outputs": []
    },
    {
      "cell_type": "code",
      "metadata": {
        "colab": {
          "base_uri": "https://localhost:8080/"
        },
        "id": "ibSgz7kTuT4j",
        "outputId": "83587e66-3b93-41fd-f7c3-a1e8134ff214"
      },
      "source": [
        "print(True)"
      ],
      "execution_count": null,
      "outputs": [
        {
          "output_type": "stream",
          "name": "stdout",
          "text": [
            "True\n"
          ]
        }
      ]
    },
    {
      "cell_type": "code",
      "metadata": {
        "colab": {
          "base_uri": "https://localhost:8080/"
        },
        "id": "kZ76_ju3uxYh",
        "outputId": "17cde17d-7f4a-489c-e751-227ff00ef783"
      },
      "source": [
        "print(False)"
      ],
      "execution_count": null,
      "outputs": [
        {
          "output_type": "stream",
          "name": "stdout",
          "text": [
            "False\n"
          ]
        }
      ]
    },
    {
      "cell_type": "code",
      "metadata": {
        "colab": {
          "base_uri": "https://localhost:8080/"
        },
        "id": "duQjxEqIu1oR",
        "outputId": "7e043783-209f-4ada-d4d9-5f5f13c93c07"
      },
      "source": [
        "a=True\n",
        "print(a,type(a))"
      ],
      "execution_count": null,
      "outputs": [
        {
          "output_type": "stream",
          "name": "stdout",
          "text": [
            "True <class 'bool'>\n"
          ]
        }
      ]
    },
    {
      "cell_type": "code",
      "metadata": {
        "colab": {
          "base_uri": "https://localhost:8080/"
        },
        "id": "gYKkHuo6vAIR",
        "outputId": "bf334b76-dfd6-4381-b91c-227b8d04b00b"
      },
      "source": [
        "b=False\n",
        "print(b,type(b))"
      ],
      "execution_count": null,
      "outputs": [
        {
          "output_type": "stream",
          "name": "stdout",
          "text": [
            "False <class 'bool'>\n"
          ]
        }
      ]
    },
    {
      "cell_type": "markdown",
      "metadata": {
        "id": "LiPGv2ey8Q_n"
      },
      "source": [
        "loops\n",
        "if\n",
        "else\n",
        "while\n",
        "while else"
      ]
    },
    {
      "cell_type": "code",
      "metadata": {
        "id": "u3xXD3Y0vURY",
        "colab": {
          "base_uri": "https://localhost:8080/"
        },
        "outputId": "5f4fa8f4-ce39-4950-b776-769e4eddb2eb"
      },
      "source": [
        "x=input('enter int value:')\n",
        "if x.isdigit()==True:\n",
        "  x=int(x)\n",
        "  if x==100:\n",
        "    print(x, 'is equal to 100')\n",
        "  elif x>100:\n",
        "    print(x, 'is greater than 100')  \n",
        "  else:\n",
        "    print(x, 'is less than 100')    "
      ],
      "execution_count": null,
      "outputs": [
        {
          "output_type": "stream",
          "name": "stdout",
          "text": [
            "enter int value:10\n",
            "10 is less than 100\n"
          ]
        }
      ]
    },
    {
      "cell_type": "code",
      "metadata": {
        "id": "SX57C1Cr8_jY"
      },
      "source": [
        "\n"
      ],
      "execution_count": null,
      "outputs": []
    },
    {
      "cell_type": "code",
      "metadata": {
        "colab": {
          "base_uri": "https://localhost:8080/"
        },
        "id": "g1SCNTJ09X48",
        "outputId": "60139d60-bac1-4009-bba4-8a1bf87bc515"
      },
      "source": [
        "x=input('enter int value:')\n",
        "x=int(x)\n",
        "if x>60:\n",
        "  print(x,'is greater than 60')\n",
        "  pass  \n",
        "else:\n",
        "  print(x,'is less than 60')  "
      ],
      "execution_count": null,
      "outputs": [
        {
          "output_type": "stream",
          "name": "stdout",
          "text": [
            "enter int value:100\n",
            "100 is greater than 60\n"
          ]
        }
      ]
    },
    {
      "cell_type": "code",
      "metadata": {
        "colab": {
          "base_uri": "https://localhost:8080/"
        },
        "id": "OKn_uzGyAJTw",
        "outputId": "2754078f-0940-4e5b-df52-f6d78614facb"
      },
      "source": [
        "x=input('enter int value:')\n",
        "x=int(x)\n",
        "if x%2==0:\n",
        "  print(x,'is True') \n",
        "else:\n",
        "  print(x,'is False')\n"
      ],
      "execution_count": null,
      "outputs": [
        {
          "output_type": "stream",
          "name": "stdout",
          "text": [
            "enter int value:3\n",
            "3 is False\n"
          ]
        }
      ]
    },
    {
      "cell_type": "code",
      "metadata": {
        "colab": {
          "base_uri": "https://localhost:8080/"
        },
        "id": "GJC7gigUBikF",
        "outputId": "d7ddc81a-bb43-4126-c06b-33a5b5f40137"
      },
      "source": [
        "x=123\n",
        "if x==100:\n",
        "  print(x,'is eqal to 100')\n",
        "else:\n",
        "  print(x,'is not equal to 100') "
      ],
      "execution_count": null,
      "outputs": [
        {
          "output_type": "stream",
          "name": "stdout",
          "text": [
            "123 is not equal to 100\n"
          ]
        }
      ]
    },
    {
      "cell_type": "code",
      "metadata": {
        "colab": {
          "base_uri": "https://localhost:8080/"
        },
        "id": "L4pX67t9DjqC",
        "outputId": "f20a700a-66f0-491b-ac4a-45fef654a4bd"
      },
      "source": [
        "s=input('enter value:')\n",
        "v=0\n",
        "c=0\n",
        "for i in s:\n",
        "  if i in 'aeiouAEIOU':\n",
        "    print(i.upper(), end='')\n",
        "    v=v+1\n",
        "print('\\n')\n",
        "for i in s:   \n",
        "  if i not in 'aeionAEION':\n",
        "    print(i, end='')\n",
        "    c=c+1\n",
        "print('\\n')    \n",
        "print(v,c, end='')    "
      ],
      "execution_count": null,
      "outputs": [
        {
          "output_type": "stream",
          "name": "stdout",
          "text": [
            "enter value:laxman\n",
            "AA\n",
            "\n",
            "lxm\n",
            "\n",
            "2 3"
          ]
        }
      ]
    },
    {
      "cell_type": "code",
      "metadata": {
        "colab": {
          "base_uri": "https://localhost:8080/"
        },
        "id": "1Q1h4uu6FGy1",
        "outputId": "36adf640-5a03-4dd6-8868-43d87578267c"
      },
      "source": [
        "s=input('enter values:')\n",
        "v=''\n",
        "u=''\n",
        "for i in s:\n",
        "  if i in 'aeiouAEIOU':\n",
        "    v=v+i\n",
        "  elif i not in 'aeiouAEIOU':\n",
        "    u=u+i\n",
        "else:\n",
        "  print(v.upper())\n",
        "  print(u.upper())\n",
        "  print(len(v),len(u), sep='\\n')    \n"
      ],
      "execution_count": null,
      "outputs": [
        {
          "output_type": "stream",
          "name": "stdout",
          "text": [
            "enter values:ksjjtrvcgjvwrgfvwctruwqevtvwtv\n",
            "UE\n",
            "KSJJTRVCGJVWRGFVWCTRWQVTVWTV\n",
            "2\n",
            "28\n"
          ]
        }
      ]
    },
    {
      "cell_type": "code",
      "metadata": {
        "colab": {
          "base_uri": "https://localhost:8080/"
        },
        "id": "ftyGGypYIhwx",
        "outputId": "4ce03bb9-62c6-40d9-b5ab-56a16884567f"
      },
      "source": [
        "s='lakshman'\n",
        "print(s[::-1])\n",
        "print(s[-1::-1])\n",
        "print(s[-1:-len(s)-1:-1])\n",
        "print(s[:-len(s)-1-1])\n",
        "print(s[-1-1:-8])\n",
        "print(s[-1:len(s):-1])\n",
        "print(s[-1:-len(s)-1:-1])\n",
        "print(s[:-len(s)-1:-1])\n",
        "print(s[5::-1])\n",
        "\n",
        "\n",
        "print(s, id(s), type(s))\n",
        "print(s, id(s), type(s), sep='   ')\n",
        "print(s, id(s), type(s), sep=' ')\n",
        "\n",
        "print(s, id(s), type(s), sep='\\n')\n",
        "print(s[::len(s)-7])"
      ],
      "execution_count": null,
      "outputs": [
        {
          "output_type": "stream",
          "name": "stdout",
          "text": [
            "namhskal\n",
            "namhskal\n",
            "namhskal\n",
            "\n",
            "\n",
            "\n",
            "namhskal\n",
            "namhskal\n",
            "mhskal\n",
            "lakshman 140502863146544 <class 'str'>\n",
            "lakshman   140502863146544   <class 'str'>\n",
            "lakshman 140502863146544 <class 'str'>\n",
            "lakshman\n",
            "140502863146544\n",
            "<class 'str'>\n",
            "lakshman\n"
          ]
        }
      ]
    },
    {
      "cell_type": "code",
      "metadata": {
        "id": "xNjaJFTTLOKP",
        "colab": {
          "base_uri": "https://localhost:8080/"
        },
        "outputId": "5b4444e6-6aec-47de-e816-c03494057cfd"
      },
      "source": [
        "s='laxman'\n",
        "print(s[::-1])\n",
        "print(s[-1::-1])\n",
        "print(s[-1:-len(s)-1:-1])\n",
        "print(s[-1:-len(s)-1:-1])\n",
        "print(s[:-len(s)-1:-1])\n",
        "print(s[-6::])\n",
        "print(s[:6:1])\n",
        "print(s[0:500000])\n",
        "print(s[:len(s)])\n",
        "print(s[:6])\n",
        "print(len(s[0:6]))\n",
        "print(s[-1::-1])\n",
        "print(s[::len(s)-5])\n",
        "\n",
        "\n",
        "print(s[::len(s)-5])\n"
      ],
      "execution_count": null,
      "outputs": [
        {
          "output_type": "stream",
          "name": "stdout",
          "text": [
            "namxal\n",
            "namxal\n",
            "namxal\n",
            "namxal\n",
            "namxal\n",
            "laxman\n",
            "laxman\n",
            "laxman\n",
            "laxman\n",
            "laxman\n",
            "6\n",
            "namxal\n",
            "laxman\n",
            "laxman\n"
          ]
        }
      ]
    },
    {
      "cell_type": "code",
      "metadata": {
        "colab": {
          "base_uri": "https://localhost:8080/"
        },
        "id": "YuR53953QfNX",
        "outputId": "9ec6aa1d-89ce-40da-c811-13b94a701794"
      },
      "source": [
        "print(s[-1:-len(s)-1:-1])"
      ],
      "execution_count": null,
      "outputs": [
        {
          "output_type": "stream",
          "name": "stdout",
          "text": [
            "namxal\n"
          ]
        }
      ]
    },
    {
      "cell_type": "code",
      "metadata": {
        "colab": {
          "base_uri": "https://localhost:8080/"
        },
        "id": "yYFsEPRqXZVg",
        "outputId": "f8ac56ec-ed52-480a-8143-8921220cf553"
      },
      "source": [
        "print(s[::len(s)-5])"
      ],
      "execution_count": null,
      "outputs": [
        {
          "output_type": "stream",
          "name": "stdout",
          "text": [
            "laxman\n"
          ]
        }
      ]
    },
    {
      "cell_type": "code",
      "metadata": {
        "colab": {
          "base_uri": "https://localhost:8080/"
        },
        "id": "4FIS2_zNXp6Y",
        "outputId": "a0478d13-31b5-40b8-fd0a-5f951958e992"
      },
      "source": [
        "print(s[:3].upper()+s[3:].lower())"
      ],
      "execution_count": null,
      "outputs": [
        {
          "output_type": "stream",
          "name": "stdout",
          "text": [
            "LAXman\n"
          ]
        }
      ]
    },
    {
      "cell_type": "code",
      "metadata": {
        "id": "VivBLIA0YU1m",
        "colab": {
          "base_uri": "https://localhost:8080/",
          "height": 130
        },
        "outputId": "f8cf94c3-117e-47fa-96f0-44d787771013"
      },
      "source": [
        ""
      ],
      "execution_count": null,
      "outputs": [
        {
          "output_type": "error",
          "ename": "SyntaxError",
          "evalue": "ignored",
          "traceback": [
            "\u001b[0;36m  File \u001b[0;32m\"<ipython-input-180-168979381b94>\"\u001b[0;36m, line \u001b[0;32m1\u001b[0m\n\u001b[0;31m    print(s[-len()//2.upper()])\u001b[0m\n\u001b[0m                          ^\u001b[0m\n\u001b[0;31mSyntaxError\u001b[0m\u001b[0;31m:\u001b[0m invalid syntax\n"
          ]
        }
      ]
    },
    {
      "cell_type": "code",
      "metadata": {
        "id": "CLy-4t8mhkPh",
        "colab": {
          "base_uri": "https://localhost:8080/"
        },
        "outputId": "f8ce0394-dedf-4684-d84a-9baad27796b6"
      },
      "source": [
        "s='python'\n",
        "print(s[-6::])\n",
        "print(s[0:6])\n",
        "print(s[:len(s)])\n",
        "print(s[:6])\n",
        "print(s[-1:-1:])\n",
        "print(len(s))\n",
        "print(s[::len(s)-5])\n",
        "print(s[-1::-1])"
      ],
      "execution_count": null,
      "outputs": [
        {
          "output_type": "stream",
          "name": "stdout",
          "text": [
            "python\n",
            "python\n",
            "python\n",
            "python\n",
            "\n",
            "6\n",
            "python\n",
            "n\n"
          ]
        }
      ]
    },
    {
      "cell_type": "code",
      "metadata": {
        "colab": {
          "base_uri": "https://localhost:8080/"
        },
        "id": "AGUdxyUj6oTE",
        "outputId": "e37d2065-be4b-4d68-f727-6ffcd999c603"
      },
      "source": [
        "a=10\n",
        "b=3\n",
        "c=a+b\n",
        "d=a-b\n",
        "e=a/b\n",
        "f=a%b\n",
        "g=a//b\n",
        "h=g//2\n",
        "print(c, type(c))\n",
        "print(d, type(d))\n",
        "print(e, type(e))\n",
        "print(f, type(f))\n",
        "print(g, type(g))\n",
        "print(h)"
      ],
      "execution_count": null,
      "outputs": [
        {
          "output_type": "stream",
          "name": "stdout",
          "text": [
            "13 <class 'int'>\n",
            "7 <class 'int'>\n",
            "3.3333333333333335 <class 'float'>\n",
            "1 <class 'int'>\n",
            "3 <class 'int'>\n",
            "1\n"
          ]
        }
      ]
    },
    {
      "cell_type": "code",
      "metadata": {
        "colab": {
          "base_uri": "https://localhost:8080/"
        },
        "id": "elG3ZnzUF_K3",
        "outputId": "fc8520b6-4142-459c-d9dc-4afdeac3d031"
      },
      "source": [
        "s=50\n",
        "if s>60:\n",
        "  print(s,'is greater 60')\n",
        "else:\n",
        "  print(s, 'is less than 60')  "
      ],
      "execution_count": null,
      "outputs": [
        {
          "output_type": "stream",
          "name": "stdout",
          "text": [
            "50 is less than 60\n"
          ]
        }
      ]
    },
    {
      "cell_type": "code",
      "metadata": {
        "colab": {
          "base_uri": "https://localhost:8080/"
        },
        "id": "HJGgL5Nb_VXy",
        "outputId": "9aa7f467-bd1b-4cba-bbc4-1559cfb0e279"
      },
      "source": [
        "x=input('enter int value:')\n",
        "s=int(x)\n",
        "if s>60:\n",
        "  print(s,'is greater 60')\n",
        "else:\n",
        "  print(s, 'is less than 60')  "
      ],
      "execution_count": null,
      "outputs": [
        {
          "output_type": "stream",
          "name": "stdout",
          "text": [
            "enter int value:50\n",
            "50 is less than 60\n"
          ]
        }
      ]
    },
    {
      "cell_type": "code",
      "metadata": {
        "id": "_Hs6RHfzELoZ",
        "colab": {
          "base_uri": "https://localhost:8080/"
        },
        "outputId": "0aebeec4-3acd-4d33-c966-5a55a5fd24fe"
      },
      "source": [
        "x=input('enter int value:')\n",
        "if x.isdigit()==True:\n",
        "  print(x,'is valid number')\n",
        "  x=int(x)\n",
        "  if x==50:\n",
        "    print(x,'is equal to 50')\n",
        "  else:\n",
        "    print(x, 'is not equal to 50')\n",
        "  if x>50:\n",
        "    print(x,'is greater than 50')\n",
        "  else:\n",
        "    print(x,'is less than 50')      \n",
        "else:\n",
        "  print(x,'is invalid nuber')  \n"
      ],
      "execution_count": null,
      "outputs": [
        {
          "output_type": "stream",
          "name": "stdout",
          "text": [
            "enter int value:100\n",
            "100 is valid number\n",
            "100 is not equal to 50\n",
            "100 is greater than 50\n"
          ]
        }
      ]
    },
    {
      "cell_type": "code",
      "metadata": {
        "colab": {
          "base_uri": "https://localhost:8080/"
        },
        "id": "wzbjtmm8IcZT",
        "outputId": "abbb5203-14b1-4537-ac85-163e392a1547"
      },
      "source": [
        "x=input('enter int value:')\n",
        "if x.isdigit()==True:\n",
        "  print(x,'is valid number')\n",
        "  x=int(x)\n",
        "  if x==50:\n",
        "    print(x,'is equal to 50')\n",
        "  else:\n",
        "    print(x,'is not equal to 50')  \n",
        "  if x>50:\n",
        "    print(x,'is greater than 50') \n",
        "  else:\n",
        "    print(x,'is less than 50')      \n",
        "else:\n",
        "  print(x,'is invalid nuber')  "
      ],
      "execution_count": null,
      "outputs": [
        {
          "output_type": "stream",
          "name": "stdout",
          "text": [
            "enter int value:4000\n",
            "4000 is valid number\n",
            "4000 is not equal to 50\n",
            "4000 is greater than 50\n"
          ]
        }
      ]
    },
    {
      "cell_type": "markdown",
      "metadata": {
        "id": "reVeKDVhQWUb"
      },
      "source": [
        "true/1/10<20/10>5/10==10/10!=5/10<=10/10>=10/\n",
        "False=oppositve above"
      ]
    },
    {
      "cell_type": "code",
      "metadata": {
        "colab": {
          "base_uri": "https://localhost:8080/"
        },
        "id": "7mC6uUBTLVBz",
        "outputId": "ad4b9345-8016-4b20-f11b-73f828e0e67f"
      },
      "source": [
        "if 10!=5:\n",
        "    print('hello')\n",
        "    print('sandeep')\n",
        "\n",
        " \n",
        "  "
      ],
      "execution_count": null,
      "outputs": [
        {
          "output_type": "stream",
          "name": "stdout",
          "text": [
            "hello\n",
            "sandeep\n"
          ]
        }
      ]
    },
    {
      "cell_type": "markdown",
      "metadata": {
        "id": "Ge9tM6oRRx4W"
      },
      "source": [
        "for \n",
        "if \n",
        "else\n"
      ]
    },
    {
      "cell_type": "code",
      "metadata": {
        "colab": {
          "base_uri": "https://localhost:8080/"
        },
        "id": "nSA4yXn4PPnz",
        "outputId": "b793203a-a0b7-4e8e-bc7e-9f292cf14f25"
      },
      "source": [
        "s='manikanta'\n",
        "v=''\n",
        "u=''\n",
        "for i in s:\n",
        "  if i in 'abcdACBD':\n",
        "    v=v+i\n",
        "  elif i not in 'abcdABCD':\n",
        "     u=u+i\n",
        "else:     \n",
        "     print(v.upper())\n",
        "     print(u.upper())\n",
        "print(len(v),len(u))\n",
        "       \n"
      ],
      "execution_count": null,
      "outputs": [
        {
          "output_type": "stream",
          "name": "stdout",
          "text": [
            "AAA\n",
            "MNIKNT\n",
            "3 6\n"
          ]
        }
      ]
    },
    {
      "cell_type": "code",
      "metadata": {
        "colab": {
          "base_uri": "https://localhost:8080/"
        },
        "id": "tFDnE1ekVB-m",
        "outputId": "265ff016-b216-4018-826d-94c7d4cf0434"
      },
      "source": [
        "s='rahul guguloth'\n",
        "v=''\n",
        "c=''\n",
        "for i in s:\n",
        "  if i in 'aeiouAEIOU':\n",
        "    v=v+i\n",
        "  elif i not in 'aeionAEION':\n",
        "    c=c+i\n",
        "else:\n",
        "  print(v.upper())\n",
        "  print(c)\n",
        "print(len(v),len(c), sep='\\n') "
      ],
      "execution_count": null,
      "outputs": [
        {
          "output_type": "stream",
          "name": "stdout",
          "text": [
            "AUUUO\n",
            "rhl gglth\n",
            "5\n",
            "9\n"
          ]
        }
      ]
    },
    {
      "cell_type": "code",
      "metadata": {
        "colab": {
          "base_uri": "https://localhost:8080/"
        },
        "id": "Y4SHtnq1ahVs",
        "outputId": "725b64fd-511b-4cfc-a1bd-aed7707a2c67"
      },
      "source": [
        "s='rahul guguloth'\n",
        "for i in s:\n",
        "  if i in 'aeiouAEIOU':\n",
        "    print(i, end='')\n",
        "for  i in s:\n",
        "   if i not in 'aeiouAEIOU':\n",
        "    print(i)\n",
        "    "
      ],
      "execution_count": null,
      "outputs": [
        {
          "output_type": "stream",
          "name": "stdout",
          "text": [
            "auuuor\n",
            "h\n",
            "l\n",
            " \n",
            "g\n",
            "g\n",
            "l\n",
            "t\n",
            "h\n"
          ]
        }
      ]
    },
    {
      "cell_type": "code",
      "metadata": {
        "id": "OgdivaQXan7D"
      },
      "source": [
        ""
      ],
      "execution_count": null,
      "outputs": []
    }
  ]
}