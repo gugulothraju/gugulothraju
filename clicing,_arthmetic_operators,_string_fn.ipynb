{
  "nbformat": 4,
  "nbformat_minor": 0,
  "metadata": {
    "colab": {
      "name": "clicing, arthmetic operators, string fn.ipynb",
      "provenance": [],
      "collapsed_sections": [],
      "authorship_tag": "ABX9TyON3UXU0scmwtBLuX5laO2Q",
      "include_colab_link": true
    },
    "kernelspec": {
      "name": "python3",
      "display_name": "Python 3"
    },
    "language_info": {
      "name": "python"
    }
  },
  "cells": [
    {
      "cell_type": "markdown",
      "metadata": {
        "id": "view-in-github",
        "colab_type": "text"
      },
      "source": [
        "<a href=\"https://colab.research.google.com/github/gugulothraju/gugulothraju/blob/main/clicing%2C_arthmetic_operators%2C_string_fn.ipynb\" target=\"_parent\"><img src=\"https://colab.research.google.com/assets/colab-badge.svg\" alt=\"Open In Colab\"/></a>"
      ]
    },
    {
      "cell_type": "code",
      "metadata": {
        "colab": {
          "base_uri": "https://localhost:8080/"
        },
        "id": "AMIjiaE5QB_7",
        "outputId": "143d8380-ec05-474e-fa8b-5d63eb192f6d"
      },
      "source": [
        "s=\"123python\"\n",
        "print(s[-len(s)//2:-len(s):-1])"
      ],
      "execution_count": null,
      "outputs": [
        {
          "output_type": "stream",
          "name": "stdout",
          "text": [
            "yp32\n"
          ]
        }
      ]
    },
    {
      "cell_type": "code",
      "metadata": {
        "id": "jEGuvq-6QTQb",
        "colab": {
          "base_uri": "https://localhost:8080/"
        },
        "outputId": "cb0160cd-cc0f-45b4-c6c1-997ef1db5c96"
      },
      "source": [
        "a='python'\n",
        "print(len(a[1:]),len(a[2:3]))"
      ],
      "execution_count": null,
      "outputs": [
        {
          "output_type": "stream",
          "name": "stdout",
          "text": [
            "6 1\n"
          ]
        }
      ]
    },
    {
      "cell_type": "code",
      "metadata": {
        "id": "i-UymDnfUoeZ",
        "colab": {
          "base_uri": "https://localhost:8080/"
        },
        "outputId": "9ca3a120-1d17-4c87-ef82-30ad55107c1e"
      },
      "source": [
        "b='7891'\n",
        "print(b[::len(b)], sep='   \\n   ')"
      ],
      "execution_count": null,
      "outputs": [
        {
          "output_type": "stream",
          "name": "stdout",
          "text": [
            "7\n"
          ]
        }
      ]
    },
    {
      "cell_type": "code",
      "metadata": {
        "colab": {
          "base_uri": "https://localhost:8080/"
        },
        "id": "VhHI6VuxZYRg",
        "outputId": "05460e10-58d1-48a0-d477-191b63dfb8bc"
      },
      "source": [
        "print(b[0], b[1], b[2], b[3] ,sep='\\n')"
      ],
      "execution_count": null,
      "outputs": [
        {
          "output_type": "stream",
          "name": "stdout",
          "text": [
            "7\n",
            "8\n",
            "9\n",
            "1\n"
          ]
        }
      ]
    },
    {
      "cell_type": "code",
      "metadata": {
        "colab": {
          "base_uri": "https://localhost:8080/"
        },
        "id": "aEK6C3Q-ag-S",
        "outputId": "6caebc79-5de5-4d6c-9be9-f5ec8d64db18"
      },
      "source": [
        "print(int(b[0]+b[1]+b[2]) ,sep='\\n')\n"
      ],
      "execution_count": null,
      "outputs": [
        {
          "output_type": "stream",
          "name": "stdout",
          "text": [
            "789\n"
          ]
        }
      ]
    },
    {
      "cell_type": "code",
      "metadata": {
        "colab": {
          "base_uri": "https://localhost:8080/"
        },
        "id": "VrQrDFWcclUu",
        "outputId": "1afc4db3-3f14-4f20-9a46-13c7e883569a"
      },
      "source": [
        "print(int(b[0])+int(b[1])+int(b[2])+int(b[3]))"
      ],
      "execution_count": null,
      "outputs": [
        {
          "output_type": "stream",
          "name": "stdout",
          "text": [
            "25\n"
          ]
        }
      ]
    },
    {
      "cell_type": "code",
      "metadata": {
        "id": "3Ox5fvOKdGub"
      },
      "source": [
        ""
      ],
      "execution_count": null,
      "outputs": []
    },
    {
      "cell_type": "markdown",
      "metadata": {
        "id": "7K7w5yA7dWO0"
      },
      "source": [
        "string operator\n"
      ]
    },
    {
      "cell_type": "code",
      "metadata": {
        "colab": {
          "base_uri": "https://localhost:8080/"
        },
        "id": "ciSkXStMdbl4",
        "outputId": "62af3d90-7265-4f0b-a28a-0007235d4431"
      },
      "source": [
        "s='Python'\n",
        "print(s.lower())"
      ],
      "execution_count": null,
      "outputs": [
        {
          "output_type": "stream",
          "name": "stdout",
          "text": [
            "python\n"
          ]
        }
      ]
    },
    {
      "cell_type": "code",
      "metadata": {
        "colab": {
          "base_uri": "https://localhost:8080/"
        },
        "id": "zJUzvNlldiwj",
        "outputId": "3472e9ad-4dbe-419e-a185-da9bb9e4954c"
      },
      "source": [
        "s1=s.upper()\n",
        "print(s1)"
      ],
      "execution_count": null,
      "outputs": [
        {
          "output_type": "stream",
          "name": "stdout",
          "text": [
            "PYTHON\n"
          ]
        }
      ]
    },
    {
      "cell_type": "code",
      "metadata": {
        "colab": {
          "base_uri": "https://localhost:8080/"
        },
        "id": "hZBGjGXSdvMZ",
        "outputId": "d52d8d04-9ac2-411e-b866-30a9905210e5"
      },
      "source": [
        "print(s1[1:])"
      ],
      "execution_count": null,
      "outputs": [
        {
          "output_type": "stream",
          "name": "stdout",
          "text": [
            "YTHON\n"
          ]
        }
      ]
    },
    {
      "cell_type": "code",
      "metadata": {
        "colab": {
          "base_uri": "https://localhost:8080/"
        },
        "id": "c9IwezvmeFxa",
        "outputId": "4ec183ce-d674-4cf0-a43a-08d1acf8af69"
      },
      "source": [
        "s=\"Python\"\n",
        "print(s.lower())"
      ],
      "execution_count": null,
      "outputs": [
        {
          "output_type": "stream",
          "name": "stdout",
          "text": [
            "python\n"
          ]
        }
      ]
    },
    {
      "cell_type": "code",
      "metadata": {
        "colab": {
          "base_uri": "https://localhost:8080/"
        },
        "id": "4EwpdcMMeQJh",
        "outputId": "25d5460d-5da0-4964-e1dc-36b12414f2ab"
      },
      "source": [
        "print(s.upper())"
      ],
      "execution_count": null,
      "outputs": [
        {
          "output_type": "stream",
          "name": "stdout",
          "text": [
            "PYTHON\n"
          ]
        }
      ]
    },
    {
      "cell_type": "code",
      "metadata": {
        "colab": {
          "base_uri": "https://localhost:8080/"
        },
        "id": "gfhS_a2_eUqx",
        "outputId": "bf9f07cb-8908-41ee-fbaf-51408bbecd4f"
      },
      "source": [
        "print(s.isupper())\n",
        "print(s.islower())"
      ],
      "execution_count": null,
      "outputs": [
        {
          "output_type": "stream",
          "name": "stdout",
          "text": [
            "False\n",
            "False\n"
          ]
        }
      ]
    },
    {
      "cell_type": "code",
      "metadata": {
        "colab": {
          "base_uri": "https://localhost:8080/"
        },
        "id": "gzup3HyiejUx",
        "outputId": "82638806-ebe0-4a4e-db7b-9c37c686af60"
      },
      "source": [
        "s='python123'\n",
        "print(s.title())\n",
        "print(s.upper())\n",
        "print(s.lower())\n",
        "print(s.title())\n",
        "print(s.capitalize())\n",
        "print(s.isalpha())\n",
        "print(s.isalnum())\n",
        "print(s.islower())\n",
        "print(s.isupper())\n",
        "print(s.count('o'))"
      ],
      "execution_count": null,
      "outputs": [
        {
          "output_type": "stream",
          "name": "stdout",
          "text": [
            "Python123\n",
            "PYTHON123\n",
            "python123\n",
            "Python123\n",
            "Python123\n",
            "False\n",
            "True\n",
            "True\n",
            "False\n",
            "1\n"
          ]
        }
      ]
    },
    {
      "cell_type": "code",
      "metadata": {
        "colab": {
          "base_uri": "https://localhost:8080/"
        },
        "id": "UIed1_5kiQ-j",
        "outputId": "e0eeb84c-7efe-489d-aea4-fc942cc0a8df"
      },
      "source": [
        "print(s[::])\n",
        "print(s[len(s)//2])"
      ],
      "execution_count": null,
      "outputs": [
        {
          "output_type": "stream",
          "name": "stdout",
          "text": [
            "python123\n",
            "o\n"
          ]
        }
      ]
    },
    {
      "cell_type": "code",
      "metadata": {
        "colab": {
          "base_uri": "https://localhost:8080/"
        },
        "id": "aZJ70m38icMA",
        "outputId": "d0a51d3d-ff89-4f09-ccee-dbce3dcdaf8e"
      },
      "source": [
        "print(s[::-1])"
      ],
      "execution_count": null,
      "outputs": [
        {
          "output_type": "stream",
          "name": "stdout",
          "text": [
            "321nohtyp\n"
          ]
        }
      ]
    },
    {
      "cell_type": "code",
      "metadata": {
        "colab": {
          "base_uri": "https://localhost:8080/"
        },
        "id": "yUejYigejDXg",
        "outputId": "6eb0d3d0-d9e6-4854-8103-2f7ade337b00"
      },
      "source": [
        "print(s[-4::-1]+s[-4:])"
      ],
      "execution_count": null,
      "outputs": [
        {
          "output_type": "stream",
          "name": "stdout",
          "text": [
            "nohtypn123\n"
          ]
        }
      ]
    },
    {
      "cell_type": "code",
      "metadata": {
        "colab": {
          "base_uri": "https://localhost:8080/"
        },
        "id": "OdaTibtEjieW",
        "outputId": "e2b4d4ea-4cc1-432f-da36-a864731e1cfb"
      },
      "source": [
        "print(s.capitalize())"
      ],
      "execution_count": null,
      "outputs": [
        {
          "output_type": "stream",
          "name": "stdout",
          "text": [
            "Python123\n"
          ]
        }
      ]
    },
    {
      "cell_type": "code",
      "metadata": {
        "colab": {
          "base_uri": "https://localhost:8080/"
        },
        "id": "tvRSgNCOkQAW",
        "outputId": "0b36bce3-c1c5-4dfa-9f00-032aded31e09"
      },
      "source": [
        "s='123pytHoNPython'\n",
        "print(s.title())\n",
        "print(s.capitalize())"
      ],
      "execution_count": null,
      "outputs": [
        {
          "output_type": "stream",
          "name": "stdout",
          "text": [
            "123Pythonpython\n",
            "123pythonpython\n"
          ]
        }
      ]
    },
    {
      "cell_type": "code",
      "metadata": {
        "colab": {
          "base_uri": "https://localhost:8080/"
        },
        "id": "YLuDPfTXktPE",
        "outputId": "8d9f9a30-a696-4826-fc3f-c294e57e2ebf"
      },
      "source": [
        "print(s.count('H'))"
      ],
      "execution_count": null,
      "outputs": [
        {
          "output_type": "stream",
          "name": "stdout",
          "text": [
            "1\n"
          ]
        }
      ]
    },
    {
      "cell_type": "code",
      "metadata": {
        "colab": {
          "base_uri": "https://localhost:8080/"
        },
        "id": "bNWZiOkBlLKL",
        "outputId": "a5219463-583b-430f-8b32-0c467e5f878f"
      },
      "source": [
        "print(s.count('Py'))"
      ],
      "execution_count": null,
      "outputs": [
        {
          "output_type": "stream",
          "name": "stdout",
          "text": [
            "1\n"
          ]
        }
      ]
    },
    {
      "cell_type": "code",
      "metadata": {
        "colab": {
          "base_uri": "https://localhost:8080/"
        },
        "id": "Obss6QgGlWji",
        "outputId": "1b8a1198-0840-421b-aad9-708f76cfc0b8"
      },
      "source": [
        "print(s.isalpha())"
      ],
      "execution_count": null,
      "outputs": [
        {
          "output_type": "stream",
          "name": "stdout",
          "text": [
            "False\n"
          ]
        }
      ]
    },
    {
      "cell_type": "code",
      "metadata": {
        "colab": {
          "base_uri": "https://localhost:8080/"
        },
        "id": "mudUVJsdllAD",
        "outputId": "0ef8ac98-77b7-4293-a31c-5b6456f59c90"
      },
      "source": [
        "print(s.isalnum())"
      ],
      "execution_count": null,
      "outputs": [
        {
          "output_type": "stream",
          "name": "stdout",
          "text": [
            "True\n"
          ]
        }
      ]
    },
    {
      "cell_type": "code",
      "metadata": {
        "colab": {
          "base_uri": "https://localhost:8080/"
        },
        "id": "bIGif8lkl6Hx",
        "outputId": "d09c730d-2f40-43ff-d76e-523887cc8d24"
      },
      "source": [
        "print(s.isdigit())"
      ],
      "execution_count": null,
      "outputs": [
        {
          "output_type": "stream",
          "name": "stdout",
          "text": [
            "False\n"
          ]
        }
      ]
    },
    {
      "cell_type": "code",
      "metadata": {
        "id": "AXYn2TtTmVxp",
        "colab": {
          "base_uri": "https://localhost:8080/"
        },
        "outputId": "4270cc5b-fa67-41fe-d312-17c777eba28a"
      },
      "source": [
        "a=10\n",
        "b=4\n",
        "print(a|b)\n",
        "print(a&b)\n",
        "print(a^b)"
      ],
      "execution_count": null,
      "outputs": [
        {
          "output_type": "stream",
          "name": "stdout",
          "text": [
            "14\n",
            "0\n",
            "14\n"
          ]
        }
      ]
    },
    {
      "cell_type": "code",
      "metadata": {
        "id": "pQgnLcpMoxQP"
      },
      "source": [
        ""
      ],
      "execution_count": null,
      "outputs": []
    }
  ]
}