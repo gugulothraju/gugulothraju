{
  "nbformat": 4,
  "nbformat_minor": 0,
  "metadata": {
    "colab": {
      "name": "01/11,dic-comprehensive function.ipynb",
      "provenance": [],
      "collapsed_sections": [],
      "authorship_tag": "ABX9TyPUmiOCDS//1VbEbPMXZJIU",
      "include_colab_link": true
    },
    "kernelspec": {
      "name": "python3",
      "display_name": "Python 3"
    },
    "language_info": {
      "name": "python"
    }
  },
  "cells": [
    {
      "cell_type": "markdown",
      "metadata": {
        "id": "view-in-github",
        "colab_type": "text"
      },
      "source": [
        "<a href=\"https://colab.research.google.com/github/gugulothraju/gugulothraju/blob/main/01_11%2Cdic_comprehensive_function.ipynb\" target=\"_parent\"><img src=\"https://colab.research.google.com/assets/colab-badge.svg\" alt=\"Open In Colab\"/></a>"
      ]
    },
    {
      "cell_type": "code",
      "metadata": {
        "colab": {
          "base_uri": "https://localhost:8080/"
        },
        "id": "jEjKCMUxoP5F",
        "outputId": "fdfbcf96-ebab-4963-84f3-09b7dd93fb78"
      },
      "source": [
        "l=[1,2,3,4,5]\n",
        "d={}\n",
        "for i in l:\n",
        "  d[i]=i**2\n",
        "else:\n",
        "  print(d,type(d),sep='==>')  \n",
        "print()  \n",
        "\n",
        "l=[1,2,3,4,5]\n",
        "s=[]\n",
        "for i in l:\n",
        "  s.append(i**2)\n",
        "print(s,type(s),sep='==>')\n",
        "print()\n",
        "print()\n",
        "\n",
        "l=[1,2,3,4,5]\n",
        "for i in l:\n",
        "   print(i**2,end=' ')\n",
        "print()\n",
        "print()\n",
        "l=[1,2,3,4,5]\n",
        "s=set()\n",
        "for i in l:\n",
        "  k=i**2\n",
        "  s.add(k)\n",
        "print(s,type(s))"
      ],
      "execution_count": 41,
      "outputs": [
        {
          "output_type": "stream",
          "name": "stdout",
          "text": [
            "{1: 1, 2: 4, 3: 9, 4: 16, 5: 25}==><class 'dict'>\n",
            "\n",
            "[1, 4, 9, 16, 25]==><class 'list'>\n",
            "\n",
            "\n",
            "1 4 9 16 25 \n",
            "\n",
            "{1, 4, 9, 16, 25} <class 'set'>\n"
          ]
        }
      ]
    },
    {
      "cell_type": "code",
      "metadata": {
        "colab": {
          "base_uri": "https://localhost:8080/"
        },
        "id": "Qd7xcz5qr3_q",
        "outputId": "73750e1e-9fdd-47f7-c53f-ab8cd26ab367"
      },
      "source": [
        "l=[12,15,29,65,31,46,14,89]\n",
        "d={}\n",
        "for i in l:\n",
        "  if i%2==0:\n",
        "     d[i]='even'\n",
        "  else:\n",
        "    d[i]='odd'\n",
        "else:\n",
        "  print(d)\n",
        "\n",
        "print()\n",
        "print()\n",
        "l=[1,6,10,13,11]\n",
        "d={}\n",
        "for i in l:\n",
        "  temp=[]\n",
        "  for j in range(i):\n",
        "    temp.append(j) \n",
        "  else:\n",
        "    d[i]=temp\n",
        "else:\n",
        "  for key,value in d.items():\n",
        "    print(key,value,sep=' : ')     \n",
        "    \n",
        "                 "
      ],
      "execution_count": 42,
      "outputs": [
        {
          "output_type": "stream",
          "name": "stdout",
          "text": [
            "{12: 'even', 15: 'odd', 29: 'odd', 65: 'odd', 31: 'odd', 46: 'even', 14: 'even', 89: 'odd'}\n",
            "\n",
            "\n",
            "1 : [0]\n",
            "6 : [0, 1, 2, 3, 4, 5]\n",
            "10 : [0, 1, 2, 3, 4, 5, 6, 7, 8, 9]\n",
            "13 : [0, 1, 2, 3, 4, 5, 6, 7, 8, 9, 10, 11, 12]\n",
            "11 : [0, 1, 2, 3, 4, 5, 6, 7, 8, 9, 10]\n"
          ]
        }
      ]
    },
    {
      "cell_type": "code",
      "metadata": {
        "colab": {
          "base_uri": "https://localhost:8080/"
        },
        "id": "KlEgiymitD4l",
        "outputId": "e9d64914-c580-4833-811c-a1226f795964"
      },
      "source": [
        "d={1:'one', 2:'two', 3:'three',4:'four'}\n",
        "print(d,id(d))\n",
        "print()\n",
        "d1=d.copy()\n",
        "print(d1,id(d1))"
      ],
      "execution_count": 45,
      "outputs": [
        {
          "output_type": "stream",
          "name": "stdout",
          "text": [
            "{1: 'one', 2: 'two', 3: 'three', 4: 'four'} 139745077875248\n",
            "\n",
            "{1: 'one', 2: 'two', 3: 'three', 4: 'four'} 139745077876768\n"
          ]
        }
      ]
    },
    {
      "cell_type": "code",
      "metadata": {
        "colab": {
          "base_uri": "https://localhost:8080/"
        },
        "id": "PNYIHGUqtYqR",
        "outputId": "02f4fe5a-95d7-4ac7-e7f1-08b9a80d8755"
      },
      "source": [
        "d1[2]=2\n",
        "print(d)\n",
        "print()\n",
        "print(d1)\n",
        "#get\n",
        "print()\n",
        "l=[1,2,3,4,5,6,7,8,9,10,11,12,13,14,15]\n",
        "for i in l:\n",
        "  print(d.get(i))"
      ],
      "execution_count": 77,
      "outputs": [
        {
          "output_type": "stream",
          "name": "stdout",
          "text": [
            "{1: 'one', 2: 'two', 3: 'three', 4: 'four', 6: 'six', 7: 'seven', 8: 'eight', 9: 'nine', 10: 'ten', 11: 'eleven', 12: 'twelve', 13: 'thirteen', 14: 'fourteen'}\n",
            "\n",
            "{6: 'six', 7: 'seven', 8: 'eight', 9: 'nine', 10: 'ten', 11: 'eleven', 12: 'twelve', 13: 'thirteen', 14: 'fourteen', 2: 2}\n",
            "\n",
            "one\n",
            "two\n",
            "three\n",
            "four\n",
            "None\n",
            "six\n",
            "seven\n",
            "eight\n",
            "nine\n",
            "ten\n",
            "eleven\n",
            "twelve\n",
            "thirteen\n",
            "fourteen\n",
            "None\n"
          ]
        }
      ]
    },
    {
      "cell_type": "code",
      "metadata": {
        "colab": {
          "base_uri": "https://localhost:8080/",
          "height": 162
        },
        "id": "DdWzJ3Latxow",
        "outputId": "2c8a4c51-d73b-4943-b93b-ef6ff2c4023e"
      },
      "source": [
        "print(d[200])"
      ],
      "execution_count": 52,
      "outputs": [
        {
          "output_type": "error",
          "ename": "TypeError",
          "evalue": "ignored",
          "traceback": [
            "\u001b[0;31m---------------------------------------------------------------------------\u001b[0m",
            "\u001b[0;31mTypeError\u001b[0m                                 Traceback (most recent call last)",
            "\u001b[0;32m<ipython-input-52-47a687502c3d>\u001b[0m in \u001b[0;36m<module>\u001b[0;34m()\u001b[0m\n\u001b[0;32m----> 1\u001b[0;31m \u001b[0mprint\u001b[0m\u001b[0;34m(\u001b[0m\u001b[0md\u001b[0m\u001b[0;34m(\u001b[0m\u001b[0;36m500\u001b[0m\u001b[0;34m)\u001b[0m\u001b[0;34m)\u001b[0m\u001b[0;34m\u001b[0m\u001b[0;34m\u001b[0m\u001b[0m\n\u001b[0m",
            "\u001b[0;31mTypeError\u001b[0m: 'dict' object is not callable"
          ]
        }
      ]
    },
    {
      "cell_type": "code",
      "metadata": {
        "colab": {
          "base_uri": "https://localhost:8080/"
        },
        "id": "LZPkiWGluYJu",
        "outputId": "9a1e8bfe-4cb3-4eb7-c81f-8ef5160419f6"
      },
      "source": [
        "#get()\n",
        "\n",
        "print(d.get(200))\n",
        "print()\n",
        "print(d.get(100,'key is not present'))\n",
        "print()\n",
        "value=125\n",
        "print(d.get(value,'no data'))\n",
        "print()\n",
        "print(d.get(2))"
      ],
      "execution_count": 75,
      "outputs": [
        {
          "output_type": "stream",
          "name": "stdout",
          "text": [
            "None\n",
            "\n",
            "key is not present\n",
            "\n",
            "no data\n",
            "\n",
            "two\n"
          ]
        }
      ]
    },
    {
      "cell_type": "code",
      "metadata": {
        "colab": {
          "base_uri": "https://localhost:8080/"
        },
        "id": "lYUaZ8DZvXNU",
        "outputId": "2830590a-2f5c-48e6-a021-0d2f9eb6041a"
      },
      "source": [
        "d1={6:'six',7:'seven',8:'eight',9:'nine',10:'ten',11:'eleven',12:'twelve',13:'thirteen',14:'fourteen',15:'fifteen'}\n",
        "d.update(d1,sep='\\n')\n",
        "print(d)\n",
        "print()\n",
        "for i in l:\n",
        "  print(d.get(i))"
      ],
      "execution_count": 80,
      "outputs": [
        {
          "output_type": "stream",
          "name": "stdout",
          "text": [
            "{1: 'one', 2: 'two', 3: 'three', 4: 'four', 6: 'six', 7: 'seven', 8: 'eight', 9: 'nine', 10: 'ten', 11: 'eleven', 12: 'twelve', 13: 'thirteen', 14: 'fourteen', 15: 'fifteen', 'sep': '\\n'}\n",
            "\n",
            "one\n",
            "two\n",
            "three\n",
            "four\n",
            "None\n",
            "six\n",
            "seven\n",
            "eight\n",
            "nine\n",
            "ten\n",
            "eleven\n",
            "twelve\n",
            "thirteen\n",
            "fourteen\n",
            "fifteen\n"
          ]
        }
      ]
    },
    {
      "cell_type": "code",
      "metadata": {
        "colab": {
          "base_uri": "https://localhost:8080/"
        },
        "id": "07-8_G8mv7hM",
        "outputId": "e9301dba-6f57-4275-d01a-9e1780129864"
      },
      "source": [
        "#fromkey\n",
        "l=[1,2,3,4]\n",
        "dt=dict.fromkeys(l,'nayak')\n",
        "print(dt)\n",
        "print()\n",
        "dt=dict.fromkeys(range(5),'rahul')\n",
        "print(dt)\n",
        "print()\n",
        "dt=dict.fromkeys(dt,'rahul')\n",
        "print(dt)"
      ],
      "execution_count": 72,
      "outputs": [
        {
          "output_type": "stream",
          "name": "stdout",
          "text": [
            "{1: 'nayak', 2: 'nayak', 3: 'nayak', 4: 'nayak'}\n",
            "\n",
            "{0: 'rahul', 1: 'rahul', 2: 'rahul', 3: 'rahul', 4: 'rahul'}\n",
            "\n",
            "{0: 'rahul', 1: 'rahul', 2: 'rahul', 3: 'rahul', 4: 'rahul'}\n"
          ]
        }
      ]
    },
    {
      "cell_type": "code",
      "metadata": {
        "colab": {
          "base_uri": "https://localhost:8080/"
        },
        "id": "ZABmSQ5Qwto7",
        "outputId": "86189c7d-1939-4f44-b433-f25373d8c06b"
      },
      "source": [
        "s='1241111455471115645487'\n",
        "print(len(s))\n",
        "print(s.count('11'[0:]))"
      ],
      "execution_count": 86,
      "outputs": [
        {
          "output_type": "stream",
          "name": "stdout",
          "text": [
            "22\n",
            "3\n"
          ]
        }
      ]
    },
    {
      "cell_type": "code",
      "metadata": {
        "colab": {
          "base_uri": "https://localhost:8080/"
        },
        "id": "UPM_jDvc1khK",
        "outputId": "d3b4133e-5ffc-447e-f99e-2688b01eefe9"
      },
      "source": [
        "dt=dict.fromkeys('rahul','nayak')\n",
        "print(dt)"
      ],
      "execution_count": 97,
      "outputs": [
        {
          "output_type": "stream",
          "name": "stdout",
          "text": [
            "{'r': 'nayak', 'a': 'nayak', 'h': 'nayak', 'u': 'nayak', 'l': 'nayak'}\n"
          ]
        }
      ]
    },
    {
      "cell_type": "code",
      "metadata": {
        "colab": {
          "base_uri": "https://localhost:8080/"
        },
        "id": "t_xIylsG3zHd",
        "outputId": "a778b048-1cc8-4d86-908a-6b920e3c856b"
      },
      "source": [
        "l=[271,389,234,576,865,291]\n",
        "d={}\n",
        "for i in l:\n",
        "  rev=0\n",
        "  while i:\n",
        "    rem=i%10\n",
        "    rev=rev*10+rem\n",
        "    i=i//10\n",
        "  else:\n",
        "    d[i]=rev\n",
        "else:\n",
        "  print(d)      "
      ],
      "execution_count": 98,
      "outputs": [
        {
          "output_type": "stream",
          "name": "stdout",
          "text": [
            "{0: 192}\n"
          ]
        }
      ]
    },
    {
      "cell_type": "code",
      "metadata": {
        "colab": {
          "base_uri": "https://localhost:8080/"
        },
        "id": "cJ9S4kOw5FOC",
        "outputId": "937107bb-a4d7-47f9-abc0-949db6ccc5e1"
      },
      "source": [
        "l=[271,389,234,576,865,291]\n",
        "d={}\n",
        "for i in l:\n",
        "  original_value=i\n",
        "  rev=0\n",
        "  while i:\n",
        "    rem=i%10\n",
        "    rev=rev*10+rem\n",
        "    i=i//10\n",
        "  else:\n",
        "    d[original_value]=rev\n",
        "else:\n",
        "  print(d)      "
      ],
      "execution_count": 99,
      "outputs": [
        {
          "output_type": "stream",
          "name": "stdout",
          "text": [
            "{271: 172, 389: 983, 234: 432, 576: 675, 865: 568, 291: 192}\n"
          ]
        }
      ]
    },
    {
      "cell_type": "code",
      "metadata": {
        "colab": {
          "base_uri": "https://localhost:8080/"
        },
        "id": "5V2Wn58S5OqR",
        "outputId": "b319bfb0-d43f-4381-b944-04c7ae93a162"
      },
      "source": [
        "l=[[100,'raju',8328639398,'gugulothraju666@gmail.com'],\n",
        "   [101,'venu',7997227578,'venuwonder@gmail.com'],\n",
        "   [102,'rehaman',4875478,'rehaman143@gmail.com'],\n",
        "   [103,'dikshith',325468,'dikdhithloverboy@gmail.com'],\n",
        "   [104,'murali',125478,'muralilovefailuer@gmail.com'],\n",
        "   [143,'lakshman',354484,'laksham143143@gmail.com']]\n",
        "d={}\n",
        "for lst in l:\n",
        "  d[lst[0]]=lst[1:]\n",
        "else:\n",
        "  for key,value in d.items():\n",
        "    print(key,value,sep='===>')     "
      ],
      "execution_count": 105,
      "outputs": [
        {
          "output_type": "stream",
          "name": "stdout",
          "text": [
            "100===>['raju', 8328639398, 'gugulothraju666@gmail.com']\n",
            "101===>['venu', 7997227578, 'venuwonder@gmail.com']\n",
            "102===>['rehaman', 4875478, 'rehaman143@gmail.com']\n",
            "103===>['dikshith', 325468, 'dikdhithloverboy@gmail.com']\n",
            "104===>['murali', 125478, 'muralilovefailuer@gmail.com']\n",
            "143===>['lakshman', 354484, 'laksham143143@gmail.com']\n"
          ]
        }
      ]
    },
    {
      "cell_type": "code",
      "metadata": {
        "colab": {
          "base_uri": "https://localhost:8080/"
        },
        "id": "P2MY19C265eg",
        "outputId": "25e91e39-1275-4a3c-9769-b5a9579f7251"
      },
      "source": [
        "id=100\n",
        "print(d[id])\n",
        "id=101\n",
        "print(d[id])\n",
        "id=102\n",
        "print(d[id])\n",
        "id=103\n",
        "print(d[id])\n",
        "id=104\n",
        "print(d[id])\n",
        "id=143\n",
        "print(d[id])"
      ],
      "execution_count": 108,
      "outputs": [
        {
          "output_type": "stream",
          "name": "stdout",
          "text": [
            "['raju', 8328639398, 'gugulothraju666@gmail.com']\n",
            "['venu', 7997227578, 'venuwonder@gmail.com']\n",
            "['rehaman', 4875478, 'rehaman143@gmail.com']\n",
            "['dikshith', 325468, 'dikdhithloverboy@gmail.com']\n",
            "['murali', 125478, 'muralilovefailuer@gmail.com']\n",
            "['lakshman', 354484, 'laksham143143@gmail.com']\n"
          ]
        }
      ]
    },
    {
      "cell_type": "code",
      "metadata": {
        "colab": {
          "base_uri": "https://localhost:8080/",
          "height": 313
        },
        "id": "e7qXYtB77bHt",
        "outputId": "754b4a41-14ac-4f34-af28-a7677b1ec493"
      },
      "source": [
        "l=[[100,'raju',8328639398,'gugulothraju666@gmail.com'],\n",
        "   [101,'venu',7997227578,'venuwonder@gmail.com'],\n",
        "   [102,'rehaman',4875478,'rehaman143@gmail.com'],\n",
        "   [103,'dikshith',325468,'dikdhithloverboy@gmail.com'],\n",
        "   [104,'murali',125478,'muralilovefailuer@gmail.com'],\n",
        "   [143,'lakshman',354484,'laksham143143@gmail.com']]\n",
        "d={}\n",
        "for lst in l:\n",
        "  d[lst[0]]={'name':lst[1],'mobile number':lst[2],'email id':lst[3]}\n",
        "else:\n",
        "  for key,value in d.items():\n",
        "    print(key,value,sep='===>') \n",
        "\n",
        "\n",
        "\n",
        "print()\n",
        "\n",
        "ids = [100,101,102,103,104,143]\n",
        "for i in ids:\n",
        "  print(d[id]['name'])"
      ],
      "execution_count": 122,
      "outputs": [
        {
          "output_type": "stream",
          "name": "stdout",
          "text": [
            "100===>{'name': 'raju', 'mobile number': 8328639398, 'email id': 'gugulothraju666@gmail.com'}\n",
            "101===>{'name': 'venu', 'mobile number': 7997227578, 'email id': 'venuwonder@gmail.com'}\n",
            "102===>{'name': 'rehaman', 'mobile number': 4875478, 'email id': 'rehaman143@gmail.com'}\n",
            "103===>{'name': 'dikshith', 'mobile number': 325468, 'email id': 'dikdhithloverboy@gmail.com'}\n",
            "104===>{'name': 'murali', 'mobile number': 125478, 'email id': 'muralilovefailuer@gmail.com'}\n",
            "143===>{'name': 'lakshman', 'mobile number': 354484, 'email id': 'laksham143143@gmail.com'}\n",
            "\n"
          ]
        },
        {
          "output_type": "error",
          "ename": "TypeError",
          "evalue": "ignored",
          "traceback": [
            "\u001b[0;31m---------------------------------------------------------------------------\u001b[0m",
            "\u001b[0;31mTypeError\u001b[0m                                 Traceback (most recent call last)",
            "\u001b[0;32m<ipython-input-122-6f0014d3fc15>\u001b[0m in \u001b[0;36m<module>\u001b[0;34m()\u001b[0m\n\u001b[1;32m     18\u001b[0m \u001b[0mids\u001b[0m \u001b[0;34m=\u001b[0m \u001b[0;34m[\u001b[0m\u001b[0;36m100\u001b[0m\u001b[0;34m,\u001b[0m\u001b[0;36m101\u001b[0m\u001b[0;34m,\u001b[0m\u001b[0;36m102\u001b[0m\u001b[0;34m,\u001b[0m\u001b[0;36m103\u001b[0m\u001b[0;34m,\u001b[0m\u001b[0;36m104\u001b[0m\u001b[0;34m,\u001b[0m\u001b[0;36m143\u001b[0m\u001b[0;34m]\u001b[0m\u001b[0;34m\u001b[0m\u001b[0;34m\u001b[0m\u001b[0m\n\u001b[1;32m     19\u001b[0m \u001b[0;32mfor\u001b[0m \u001b[0mi\u001b[0m \u001b[0;32min\u001b[0m \u001b[0mids\u001b[0m\u001b[0;34m:\u001b[0m\u001b[0;34m\u001b[0m\u001b[0;34m\u001b[0m\u001b[0m\n\u001b[0;32m---> 20\u001b[0;31m   \u001b[0mprint\u001b[0m\u001b[0;34m(\u001b[0m\u001b[0md\u001b[0m\u001b[0;34m[\u001b[0m\u001b[0mid\u001b[0m\u001b[0;34m]\u001b[0m\u001b[0;34m[\u001b[0m\u001b[0;34m'name'\u001b[0m\u001b[0;34m]\u001b[0m\u001b[0;34m)\u001b[0m\u001b[0;34m\u001b[0m\u001b[0;34m\u001b[0m\u001b[0m\n\u001b[0m",
            "\u001b[0;31mTypeError\u001b[0m: unhashable type: 'list'"
          ]
        }
      ]
    },
    {
      "cell_type": "code",
      "metadata": {
        "colab": {
          "base_uri": "https://localhost:8080/"
        },
        "id": "qp-rChrE8VqU",
        "outputId": "b9b71d81-41d1-4d4f-9e69-5979f4b039fb"
      },
      "source": [
        "ids=[143,100]\n",
        "print(d[id]['name'])\n",
        "print()\n",
        "print(d[id]['name'],d[id]['mobile number'],d[id]['email id'])"
      ],
      "execution_count": 128,
      "outputs": [
        {
          "output_type": "stream",
          "name": "stdout",
          "text": [
            "lakshman\n",
            "\n",
            "lakshman 354484 laksham143143@gmail.com\n"
          ]
        }
      ]
    },
    {
      "cell_type": "code",
      "metadata": {
        "colab": {
          "base_uri": "https://localhost:8080/"
        },
        "id": "gJ_Nf4Gu8nyy",
        "outputId": "8f3aae7c-05c8-43e7-fa2b-4743069fa975"
      },
      "source": [
        "ids = [100,101,102,103,104,143]\n",
        "for i in ids:\n",
        "  print(d[i]['name'])\n",
        "\n",
        "print()\n",
        "ids = [100,101,102,103,104,143]\n",
        "for i in ids:\n",
        "  print(d[i]['name'],d[i]['mobile number'],d[i]['email id'],sep='=========>')"
      ],
      "execution_count": 134,
      "outputs": [
        {
          "output_type": "stream",
          "name": "stdout",
          "text": [
            "raju\n",
            "venu\n",
            "rehaman\n",
            "dikshith\n",
            "murali\n",
            "lakshman\n",
            "\n",
            "raju=========>8328639398=========>gugulothraju666@gmail.com\n",
            "venu=========>7997227578=========>venuwonder@gmail.com\n",
            "rehaman=========>4875478=========>rehaman143@gmail.com\n",
            "dikshith=========>325468=========>dikdhithloverboy@gmail.com\n",
            "murali=========>125478=========>muralilovefailuer@gmail.com\n",
            "lakshman=========>354484=========>laksham143143@gmail.com\n"
          ]
        }
      ]
    },
    {
      "cell_type": "code",
      "metadata": {
        "colab": {
          "base_uri": "https://localhost:8080/"
        },
        "id": "SuFo17w09JiC",
        "outputId": "afbd0ee6-e318-4385-f6a3-09399eaeeea2"
      },
      "source": [
        "#comprehensive function\n",
        "d={1:10, 2:20, 3:30, 4:40, 5:50, 6:60}\n",
        "print(d.pop(1))\n",
        "print(d.pop(2))\n",
        "print(d.pop(3))\n",
        "print(d.pop(4))\n",
        "print(d.pop(5))\n"
      ],
      "execution_count": 141,
      "outputs": [
        {
          "output_type": "stream",
          "name": "stdout",
          "text": [
            "10\n",
            "20\n",
            "30\n",
            "40\n",
            "50\n"
          ]
        }
      ]
    },
    {
      "cell_type": "code",
      "metadata": {
        "colab": {
          "base_uri": "https://localhost:8080/"
        },
        "id": "tocSSOSi_P1N",
        "outputId": "b190cc24-bd33-4a42-873c-4f3b85c92ff2"
      },
      "source": [
        "print(d)"
      ],
      "execution_count": 142,
      "outputs": [
        {
          "output_type": "stream",
          "name": "stdout",
          "text": [
            "{6: 60}\n"
          ]
        }
      ]
    },
    {
      "cell_type": "code",
      "metadata": {
        "colab": {
          "base_uri": "https://localhost:8080/"
        },
        "id": "SZRIilWt_640",
        "outputId": "a97ff7db-be13-4293-9852-e6fd5f070944"
      },
      "source": [
        "print(d.popitem())"
      ],
      "execution_count": 143,
      "outputs": [
        {
          "output_type": "stream",
          "name": "stdout",
          "text": [
            "(6, 60)\n"
          ]
        }
      ]
    },
    {
      "cell_type": "code",
      "metadata": {
        "colab": {
          "base_uri": "https://localhost:8080/"
        },
        "id": "rS27yhT1AJR7",
        "outputId": "2dd40d11-1f9c-4731-c79d-2b29829d1c00"
      },
      "source": [
        "d={1:10, 2:20, 3:30, 4:40, 5:50, 6:60}\n",
        "print(d.popitem())"
      ],
      "execution_count": 145,
      "outputs": [
        {
          "output_type": "stream",
          "name": "stdout",
          "text": [
            "(6, 60)\n"
          ]
        }
      ]
    },
    {
      "cell_type": "code",
      "metadata": {
        "colab": {
          "base_uri": "https://localhost:8080/"
        },
        "id": "FXo7BJWyASZj",
        "outputId": "79ebc08e-baa7-41e8-dc64-26859cb47586"
      },
      "source": [
        "print(d.popitem())"
      ],
      "execution_count": 148,
      "outputs": [
        {
          "output_type": "stream",
          "name": "stdout",
          "text": [
            "(4, 40)\n"
          ]
        }
      ]
    },
    {
      "cell_type": "code",
      "metadata": {
        "colab": {
          "base_uri": "https://localhost:8080/"
        },
        "id": "BdVUnQs_AW1K",
        "outputId": "b6880749-46a8-4ea8-9af3-3208fa8c9e0a"
      },
      "source": [
        "print(d.popitem())\n",
        "print(d.popitem())\n",
        "print(d.popitem())"
      ],
      "execution_count": 149,
      "outputs": [
        {
          "output_type": "stream",
          "name": "stdout",
          "text": [
            "(3, 30)\n",
            "(2, 20)\n",
            "(1, 10)\n"
          ]
        }
      ]
    },
    {
      "cell_type": "code",
      "metadata": {
        "colab": {
          "base_uri": "https://localhost:8080/"
        },
        "id": "wTIzfwRXAdRK",
        "outputId": "c79f7cb2-d33f-40f6-9c22-9b3f201d5d66"
      },
      "source": [
        "print(d)"
      ],
      "execution_count": 151,
      "outputs": [
        {
          "output_type": "stream",
          "name": "stdout",
          "text": [
            "{}\n"
          ]
        }
      ]
    },
    {
      "cell_type": "code",
      "metadata": {
        "colab": {
          "base_uri": "https://localhost:8080/"
        },
        "id": "eqM9NsnbAg-i",
        "outputId": "dd920965-9dea-41bd-88b0-dd0a47902ff9"
      },
      "source": [
        "l=[]\n",
        "for i in range(1,6):\n",
        "  l.append(i)\n",
        "else:\n",
        "  print(l)\n",
        "\n",
        "print()\n",
        "\n",
        "l=[i for i in range(1,6)] \n",
        "print(l)   "
      ],
      "execution_count": 154,
      "outputs": [
        {
          "output_type": "stream",
          "name": "stdout",
          "text": [
            "[1, 2, 3, 4, 5]\n",
            "\n",
            "[1, 2, 3, 4, 5]\n"
          ]
        }
      ]
    },
    {
      "cell_type": "code",
      "metadata": {
        "colab": {
          "base_uri": "https://localhost:8080/"
        },
        "id": "94ncOoF1A0CK",
        "outputId": "1a99460c-e92a-48b2-aa6c-df7bda134163"
      },
      "source": [
        "s='python'\n",
        "l=[]\n",
        "for i in s:\n",
        "  l.append(i)\n",
        "else:\n",
        "  print(l)\n",
        "\n",
        "print()    \n",
        "\n",
        "l=[i for i in s]\n",
        "print(l)\n",
        "\n",
        "print()\n",
        "\n",
        "s=['python']\n",
        "l=[]\n",
        "for i in s:\n",
        "  l.append(i)\n",
        "else:\n",
        "  print(l)\n",
        "\n",
        "print()    \n",
        "\n",
        "l=[i for i in s]\n",
        "print(l)\n",
        "\n",
        "print()\n",
        "\n",
        "\n",
        "l=[]\n",
        "for i in 'python':\n",
        "  l.append(i)\n",
        "else:\n",
        "  print(l)\n",
        "\n",
        "print()    \n",
        "\n",
        "l=[i for i in 'python']\n",
        "print(l)\n",
        "\n",
        "print()\n",
        "\n",
        "\n",
        "l=[]\n",
        "for i in ['python']:\n",
        "  l.append(i)\n",
        "else:\n",
        "  print(l)\n",
        "\n",
        "print()    \n",
        "\n",
        "l=[i for i in ['python']]\n",
        "print(l)\n",
        "\n"
      ],
      "execution_count": 162,
      "outputs": [
        {
          "output_type": "stream",
          "name": "stdout",
          "text": [
            "['p', 'y', 't', 'h', 'o', 'n']\n",
            "\n",
            "['p', 'y', 't', 'h', 'o', 'n']\n",
            "\n",
            "['python']\n",
            "\n",
            "['python']\n",
            "\n",
            "['p', 'y', 't', 'h', 'o', 'n']\n",
            "\n",
            "['p', 'y', 't', 'h', 'o', 'n']\n",
            "\n",
            "['python']\n",
            "\n",
            "['python']\n"
          ]
        }
      ]
    },
    {
      "cell_type": "code",
      "metadata": {
        "colab": {
          "base_uri": "https://localhost:8080/"
        },
        "id": "Y96OcvIrBJwa",
        "outputId": "65019c49-a0ce-49b8-cccb-244fdd461f5b"
      },
      "source": [
        "l={2,3,5,7,10,25,89,73,65,45}\n",
        "l=[i for i in l]\n",
        "print(l)\n",
        "print()\n",
        "l=[2,3,5,7,10,25,89,73,65,45]\n",
        "l={i for i in l}\n",
        "print(l)"
      ],
      "execution_count": 165,
      "outputs": [
        {
          "output_type": "stream",
          "name": "stdout",
          "text": [
            "[89, 65, 2, 3, 5, 7, 73, 10, 45, 25]\n",
            "\n",
            "{89, 65, 2, 3, 5, 7, 73, 10, 45, 25}\n"
          ]
        }
      ]
    },
    {
      "cell_type": "code",
      "metadata": {
        "colab": {
          "base_uri": "https://localhost:8080/"
        },
        "id": "fKfiJ5mECLls",
        "outputId": "f06889e9-bdb5-4d41-a9be-63c92dd40efe"
      },
      "source": [
        "d={1:10, 2:20, 3:30, 4:40, 5:50}\n",
        "l=[[i,d[i]] for i in d]\n",
        "print(l)\n",
        "\n"
      ],
      "execution_count": 189,
      "outputs": [
        {
          "output_type": "stream",
          "name": "stdout",
          "text": [
            "[[1, 10], [2, 20], [3, 30], [4, 40], [5, 50]]\n"
          ]
        }
      ]
    },
    {
      "cell_type": "code",
      "metadata": {
        "colab": {
          "base_uri": "https://localhost:8080/"
        },
        "id": "eLxeo1BpCrzg",
        "outputId": "ea1452fe-6f20-4cc8-b3c8-5c2840278426"
      },
      "source": [
        "l=[i for i in range(1,20) if i%2==0]\n",
        "print(l)\n",
        "print()\n",
        "l=[]\n",
        "for i in range(1,20):\n",
        "  if i%2==0:\n",
        "    l.append(i)\n",
        "print(l,end=' ')\n",
        "print()\n",
        "print()\n",
        "l=[i for i in range(1,20) if i%2!=0]\n",
        "print(l)\n",
        "\n",
        "print()\n",
        "l=[]\n",
        "for i in range(1,20):\n",
        "  if i%2!=0:\n",
        "    l.append(i)\n",
        "print(l,end=' ')"
      ],
      "execution_count": 202,
      "outputs": [
        {
          "output_type": "stream",
          "name": "stdout",
          "text": [
            "[2, 4, 6, 8, 10, 12, 14, 16, 18]\n",
            "\n",
            "[2, 4, 6, 8, 10, 12, 14, 16, 18] \n",
            "\n",
            "[1, 3, 5, 7, 9, 11, 13, 15, 17, 19]\n",
            "\n",
            "[1, 3, 5, 7, 9, 11, 13, 15, 17, 19] "
          ]
        }
      ]
    },
    {
      "cell_type": "code",
      "metadata": {
        "colab": {
          "base_uri": "https://localhost:8080/"
        },
        "id": "4H9iWzWyEoSL",
        "outputId": "c1bf3d58-ad90-4e05-ef48-eb0ae00fa64e"
      },
      "source": [
        "#1111\n",
        "lst=[]\n",
        "for i in range(4):\n",
        "    print(1,end=' ')\n",
        "\n",
        "\n",
        "print()\n",
        "print()\n",
        "l=[1 for i in range(4)]\n",
        "print(l)"
      ],
      "execution_count": 269,
      "outputs": [
        {
          "output_type": "stream",
          "name": "stdout",
          "text": [
            "1 1 1 1 \n",
            "\n",
            "[1, 1, 1, 1]\n"
          ]
        }
      ]
    },
    {
      "cell_type": "code",
      "metadata": {
        "colab": {
          "base_uri": "https://localhost:8080/"
        },
        "id": "irgXGVgdOrG-",
        "outputId": "be3b2356-d38e-4681-9d31-fd3f8956a9c3"
      },
      "source": [
        "for i in range(4):\n",
        "  print([i],end=' ')\n",
        "print()\n",
        "print()\n",
        "l=[[i] for i in range(4)]\n",
        "print(l)\n",
        "\n",
        "l=[i for i in range(1)]\n",
        "print(l)\n",
        "l=[i for i in range(2)]\n",
        "print(l)\n",
        "l=[i for i in range(3)]\n",
        "print(l)\n",
        "l=[i for i in range(4)]\n",
        "print(l)\n",
        "\n"
      ],
      "execution_count": 280,
      "outputs": [
        {
          "output_type": "stream",
          "name": "stdout",
          "text": [
            "[0] [1] [2] [3] \n",
            "\n",
            "[[0], [1], [2], [3]]\n",
            "[0]\n",
            "[0, 1]\n",
            "[0, 1, 2]\n",
            "[0, 1, 2, 3]\n"
          ]
        }
      ]
    },
    {
      "cell_type": "code",
      "metadata": {
        "colab": {
          "base_uri": "https://localhost:8080/"
        },
        "id": "FH_cdERGFz7h",
        "outputId": "8dc03ff2-1d1c-4d42-ac15-76e30bae67aa"
      },
      "source": [
        "l=[]\n",
        "for i in range(4):\n",
        "  l.append(i)\n",
        "  print(l,end='')\n",
        "print()\n",
        "print()\n",
        "l=[]\n",
        "for i in range(4):\n",
        "  temp_l=[]\n",
        "  for j in range(i+1):\n",
        "    temp_l.append(j)\n",
        "  else:  \n",
        "    l.append(temp_l)\n",
        "else:\n",
        "  print(l)    \n",
        "print()\n",
        "print()\n",
        "l=[[j for j in range(i+1)] for i in range(4)]\n",
        "print(l)\n"
      ],
      "execution_count": 259,
      "outputs": [
        {
          "output_type": "stream",
          "name": "stdout",
          "text": [
            "[0][0, 1][0, 1, 2][0, 1, 2, 3]\n",
            "\n",
            "[[0], [0, 1], [0, 1, 2], [0, 1, 2, 3]]\n",
            "\n",
            "\n",
            "[[0], [0, 1], [0, 1, 2], [0, 1, 2, 3]]\n"
          ]
        }
      ]
    },
    {
      "cell_type": "code",
      "metadata": {
        "colab": {
          "base_uri": "https://localhost:8080/"
        },
        "id": "eWpiA21UJMRC",
        "outputId": "327729a3-ea47-49e6-96d4-6ad4a7647380"
      },
      "source": [
        "l=[i**2 for i in range(10)]\n",
        "print(l)\n",
        "print()\n",
        "for i in range(10):\n",
        "  print(i**2, end=' ')"
      ],
      "execution_count": 270,
      "outputs": [
        {
          "output_type": "stream",
          "name": "stdout",
          "text": [
            "[0, 1, 4, 9, 16, 25, 36, 49, 64, 81]\n",
            "\n",
            "0 1 4 9 16 25 36 49 64 81 "
          ]
        }
      ]
    },
    {
      "cell_type": "code",
      "metadata": {
        "colab": {
          "base_uri": "https://localhost:8080/"
        },
        "id": "JMHiTcK1L981",
        "outputId": "0cc3e444-cd67-4737-8149-46b4382aa3a5"
      },
      "source": [
        "l=[]\n",
        "for i in range(4):\n",
        "  if i%2!=0:\n",
        "    continue\n",
        "  temp_l=[]\n",
        "  for j in range(i+1):\n",
        "    temp_l.append(j)\n",
        "  else:\n",
        "    l.append(temp_l)\n",
        "else:\n",
        "  print(l)     \n",
        "\n",
        "print()\n",
        "\n",
        "l=[[j for j in range(i)] for i in range(4) if i%2!=0]\n",
        "print(l)\n"
      ],
      "execution_count": 284,
      "outputs": [
        {
          "output_type": "stream",
          "name": "stdout",
          "text": [
            "[[0], [0, 1, 2]]\n",
            "\n",
            "[[0], [0, 1, 2]]\n"
          ]
        }
      ]
    },
    {
      "cell_type": "code",
      "metadata": {
        "colab": {
          "base_uri": "https://localhost:8080/"
        },
        "id": "ttqPjVyZQV-0",
        "outputId": "4ba764b2-d1af-4abd-85db-e58859964929"
      },
      "source": [
        "l=[]\n",
        "for i in range(1,11):\n",
        "  temp_str='{} * {} = {}'.format(5,i,5*i)\n",
        "  l.append(temp_str)\n",
        "else: \n",
        "  for i in l:\n",
        "    print(i)\n",
        "\n",
        "print()\n",
        "print()\n",
        "\n",
        "\n",
        "for i in range(1,11):\n",
        "  temp_str='{} * {} = {}'.format(5,i,5*i)\n",
        "  print(temp_str)\n",
        "\n",
        "\n",
        " "
      ],
      "execution_count": 303,
      "outputs": [
        {
          "output_type": "stream",
          "name": "stdout",
          "text": [
            "5 * 1 = 5\n",
            "5 * 2 = 10\n",
            "5 * 3 = 15\n",
            "5 * 4 = 20\n",
            "5 * 5 = 25\n",
            "5 * 6 = 30\n",
            "5 * 7 = 35\n",
            "5 * 8 = 40\n",
            "5 * 9 = 45\n",
            "5 * 10 = 50\n",
            "\n",
            "\n",
            "5 * 1 = 5\n",
            "5 * 2 = 10\n",
            "5 * 3 = 15\n",
            "5 * 4 = 20\n",
            "5 * 5 = 25\n",
            "5 * 6 = 30\n",
            "5 * 7 = 35\n",
            "5 * 8 = 40\n",
            "5 * 9 = 45\n",
            "5 * 10 = 50\n"
          ]
        }
      ]
    },
    {
      "cell_type": "code",
      "metadata": {
        "colab": {
          "base_uri": "https://localhost:8080/"
        },
        "id": "tWLpeaacSexY",
        "outputId": "ad4d7d22-41e4-436e-b41e-53f77f8512c3"
      },
      "source": [
        "l=[]\n",
        "for i in range(2):\n",
        "  for j in  range(2):\n",
        "    for k in range(2):\n",
        "      temp_lst=[i,j,k]\n",
        "      l.append(temp_lst)\n",
        "else:\n",
        "  print(l)      \n",
        "\n",
        "print()\n",
        "print()\n",
        "l=[[k,j,i] for k in range(2) for j in range(2) for i in range(2)]\n",
        "print(l) \n"
      ],
      "execution_count": 344,
      "outputs": [
        {
          "output_type": "stream",
          "name": "stdout",
          "text": [
            "[[0, 0, 0], [0, 0, 1], [0, 1, 0], [0, 1, 1], [1, 0, 0], [1, 0, 1], [1, 1, 0], [1, 1, 1]]\n",
            "\n",
            "\n",
            "[[0, 0, 0], [0, 0, 1], [0, 1, 0], [0, 1, 1], [1, 0, 0], [1, 0, 1], [1, 1, 0], [1, 1, 1]]\n"
          ]
        }
      ]
    },
    {
      "cell_type": "code",
      "metadata": {
        "colab": {
          "base_uri": "https://localhost:8080/"
        },
        "id": "tVv78zeUVb-a",
        "outputId": "638e366e-7d72-40c1-a594-37108f9bf2d0"
      },
      "source": [
        "#[[1, 0, 0], [1, 0, 1], [1, 1, 0], [1, 1, 1]]\n",
        "\n",
        "l=[]\n",
        "for i in range(1,2):\n",
        "  for j in  range(2):\n",
        "    for k in range(2):\n",
        "      temp_lst=[i,j,k]\n",
        "      l.append(temp_lst)\n",
        "else:\n",
        "  print(l) \n",
        "print()\n",
        "print()\n",
        "\n",
        "l=[[k,j,i] for k in range(1,2) for j in range(2) for i in range(2)]\n",
        "print(l) "
      ],
      "execution_count": 347,
      "outputs": [
        {
          "output_type": "stream",
          "name": "stdout",
          "text": [
            "[[1, 0, 0], [1, 0, 1], [1, 1, 0], [1, 1, 1]]\n",
            "\n",
            "\n",
            "[[1, 0, 0], [1, 0, 1], [1, 1, 0], [1, 1, 1]]\n"
          ]
        }
      ]
    },
    {
      "cell_type": "code",
      "metadata": {
        "id": "Y1IkibB8XFFW"
      },
      "source": [
        ""
      ],
      "execution_count": null,
      "outputs": []
    }
  ]
}